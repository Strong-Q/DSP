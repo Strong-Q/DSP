{
 "cells": [
  {
   "cell_type": "markdown",
   "metadata": {},
   "source": [
    "<font size = '6'><b>ID Digit Recognition</b></font>\n",
    "\n",
    "<table style=\"border-style: hidden; border-collapse: collapse;\" width = \"90%\"> \n",
    "    <tr style=\"border-style: hidden; border-collapse: collapse;\">\n",
    "        <td width = 60% style=\"border-style: hidden; border-collapse: collapse;\">\n",
    "             \n",
    "        </td>\n",
    "        <td width = 30%>\n",
    "        By Haedong Jeong<br>\n",
    "        iSystems (http://isystems.unist.ac.kr/)<br>\n",
    "        UNIST\n",
    "        </td>\n",
    "    </tr>\n",
    "</table>"
   ]
  },
  {
   "cell_type": "markdown",
   "metadata": {},
   "source": [
    "Table of Contents\n",
    "<div id=\"toc\"></div>"
   ]
  },
  {
   "cell_type": "markdown",
   "metadata": {},
   "source": [
    "# 1. Problem Statement\n",
    "\n",
    "다양한 모델의 BIW (Body in White)가 도장 공정 (Painting shop)을 거치며, BIW 마다 다른 도색을 요구한다. ID 에 따라 MES 시스템에서 도색에 관한 필요한 정보를 가지고 오기 때문에 ID를 인식하는 것은 아주 중요하다. 따라서 현장에서는 사람이 카메라 이미지에서 직접 ID를 입력을 하고 있다. \n",
    "\n",
    "> 목표: 취득한 이미지에서 ID 를 자동으로 추출, 인식하는 알고리즘 개발\n",
    "\n",
    "제공된 이미지 데이터의 타입은 인식 범위가 왼쪽으로 치운친 형태와 오른쪽으로 치우쳐진 형태로 구성되어 있다. 본 과정에서는 왼쪽으로 치우친 이미지만을 사용하였고 인식 범위를 마지막 숫자 6개\n",
    "\n",
    "<table>\n",
    "    <tr>\n",
    "        <td>\n",
    "        <img src = \"image_files/right.jpg\" style=\"border:1px solid black\", width = 300> \n",
    "        $$\\text{Right}$$\n",
    "        </td>\n",
    "        <td>\n",
    "        <img src = \"image_files/left.jpg\" style=\"border:1px solid black\", width = 300> \n",
    "        $$\\text{Left}$$\n",
    "        </td>\n",
    "    </tr>\n",
    "</table>"
   ]
  },
  {
   "cell_type": "markdown",
   "metadata": {},
   "source": [
    "# 2. Optical Character Recognition (OCR) Process\n",
    "\n",
    "## 2.1 Noise Reduction\n",
    "\n",
    "원본 영상에서 노이즈를 가우시안 필터를 통해 제거한다. \n",
    "\n",
    "<img src = \"image_files/gaussian.jpg\" style=\"border:1px solid black\", width = 300> \n",
    "$$\\text{Gaussian Filter}$$\n",
    "\n",
    "<table>\n",
    "<tr>\n",
    "<td>\n",
    "<img src = \"image_files/original.jpg\" style=\"border:1px solid black\", width = 300>\n",
    "$$\\text{Original Image}$$\n",
    "</td>\n",
    "<td>\n",
    "<img src = \"image_files/gauss.jpg\" style=\"border:1px solid black\", width = 300>\n",
    "$$\\text{Filtered Image}$$\n",
    "</td>\n",
    "</tr>\n",
    "</table>"
   ]
  },
  {
   "cell_type": "markdown",
   "metadata": {},
   "source": [
    "## 2.2 Image Thresholding\n",
    "\n",
    "원본 이미지 내 밝기가 일정하지 않기 때문에 adaptive thresholding (적응적 경계화)를 통해 이미지를 이진화한다 (Black and White).\n",
    "\n",
    "<table>\n",
    "<tr>\n",
    "<td>\n",
    "<img src = \"image_files/origin.png\" style=\"border:1px solid black\", width = 400>\n",
    "$$\\text{Original Image}$$\n",
    "</td>\n",
    "<td>\n",
    "<img src = \"image_files/threshhold.png\" style=\"border:1px solid black\", width = 400>\n",
    "$$\\text{Binary Image}$$\n",
    "</td>\n",
    "</tr>\n",
    "</table>"
   ]
  },
  {
   "cell_type": "markdown",
   "metadata": {},
   "source": [
    "## 2.3 Contour Decision \n",
    "\n",
    "이진화된 이미지 내 글자 테투리 및 경계를 contour라고 하며 이를 자동으로 찾음으로써 digit을 분리할 수 있다. 분리된 digit은 각각의 경계 박스를 가진다.\n",
    "\n",
    "<img src = \"image_files/box.png\" style=\"border:1px solid black\", width = 500> \n",
    "$$\\text{Bounding Box}$$"
   ]
  },
  {
   "cell_type": "markdown",
   "metadata": {},
   "source": [
    "## 2.4 Digit Recognition\n",
    "\n",
    "결정된 경계박스를 통해 박스내 숫자를 __기계학습__ 알고리즘을 통해 자동으로 인식한다. 본 과정에서는 끝에 6자리의 숫자만 인식을 하도록 하였다.\n",
    "\n",
    "<img src = \"image_files/result.jpg\" style=\"border:1px solid black\", width = 500> \n",
    "$$\\text{Result}$$"
   ]
  },
  {
   "cell_type": "markdown",
   "metadata": {},
   "source": [
    "# 3. Result\n",
    "\n",
    "- 총 이미지 개수 : 147\n",
    "\n",
    "- 인식률 : 100%\n",
    "\n",
    "- 예시:\n",
    "\n",
    "<table>\n",
    "<tr>\n",
    "<td>\n",
    "<img src = \"image_files/result2.jpg\" style=\"border:1px solid black\", width = 300>\n",
    "</td>\n",
    "<td>\n",
    "<img src = \"image_files/result3.jpg\" style=\"border:1px solid black\", width = 300>\n",
    "</td>\n",
    "<td>\n",
    "<img src = \"image_files/result4.jpg\" style=\"border:1px solid black\", width = 300>\n",
    "</td>\n",
    "</tr>\n",
    "</table>\n",
    "\n",
    "<table>\n",
    "<tr>\n",
    "<td>\n",
    "<img src = \"image_files/result5.jpg\" style=\"border:1px solid black\", width = 300>\n",
    "</td>\n",
    "<td>\n",
    "<img src = \"image_files/result6.jpg\" style=\"border:1px solid black\", width = 300>\n",
    "</td>\n",
    "<td>\n",
    "<img src = \"image_files/result7.jpg\" style=\"border:1px solid black\", width = 300>\n",
    "</td>\n",
    "</tr>\n",
    "</table>"
   ]
  },
  {
   "cell_type": "markdown",
   "metadata": {},
   "source": [
    "# 4. Code"
   ]
  },
  {
   "cell_type": "code",
   "execution_count": null,
   "metadata": {
    "collapsed": true
   },
   "outputs": [],
   "source": [
    "import numpy as np\n",
    "import cv2\n",
    "import os\n",
    "\n",
    "def crosscol(img):\n",
    "    (height, width) = img.shape\n",
    "    value = []\n",
    "    img = np.array(img)\n",
    "    for i in range(10):\n",
    "        tempimg = np.array(cv2.resize(trainimg[i], (width, height)))\n",
    "        value.append(np.sum(cv2.bitwise_and(img, tempimg)))\n",
    "\n",
    "    index = np.argmax(np.array(value))\n",
    "    return index\n",
    "\n",
    "def load_images_from_folder(folder):\n",
    "    images = []\n",
    "    for filename in os.listdir(folder):\n",
    "        img = cv2.imread(os.path.join(folder, filename), 0)\n",
    "        if img is not None:\n",
    "            images.append(img)\n",
    "    return images\n",
    "\n",
    "\n",
    "trainimg = []\n",
    "\n",
    "for i in range(10):\n",
    "    trainimg.append(cv2.imread('training/' + str(i) + '.jpg', 0))\n",
    "\n",
    "testimag = load_images_from_folder('test image')\n",
    "\n",
    "for i in range(1):\n",
    "    #imag = cv2.imread('123 (3).jpg', 0)\n",
    "    imag = testimag[i]\n",
    "    imag2 = imag.copy()\n",
    "    imag = imag[140:270, 0:600]\n",
    "    imag = cv2.GaussianBlur(imag, (7, 7), 2)\n",
    "\n",
    "    thresh = cv2.adaptiveThreshold(imag, 255, cv2.ADAPTIVE_THRESH_GAUSSIAN_C, cv2.THRESH_BINARY_INV, 51, 2)\n",
    "\n",
    "    kernel = np.ones((2, 2), np.uint8)\n",
    "    test = cv2.erode(thresh, kernel, iterations=2)\n",
    "    test2 = test.copy()\n",
    "    cv2.imshow('test', test)\n",
    "\n",
    "    (contours, _) = cv2.findContours(test, cv2.RETR_EXTERNAL, cv2.CHAIN_APPROX_SIMPLE)[-2:]\n",
    "\n",
    "    ttemp = []\n",
    "    ttemp2 = []\n",
    "\n",
    "    for cnt in contours:\n",
    "        if cv2.contourArea(cnt) > 100 and cv2.contourArea(cnt) < 5000:\n",
    "            [x, y, w, h] = cv2.boundingRect(cnt)\n",
    "            if h > 45:\n",
    "                ttemp.append(x)\n",
    "                ttemp2.append(cnt)\n",
    "\n",
    "    contourlist = np.argsort(np.array(ttemp))[::-1]\n",
    "\n",
    "\n",
    "    for i in contourlist[0:6]:\n",
    "        cnt = ttemp2[i]\n",
    "        [x, y, w, h] = cv2.boundingRect(cnt)\n",
    "        cv2.rectangle(imag2, (x, y + 140), (x + w , y + h + 140), (0, 0, 0), 1)\n",
    "        rectaa = test2[y:y + h, x:x + w]\n",
    "        index = crosscol(rectaa)\n",
    "        cv2.putText(imag2, str(index), (x, y+130), cv2.FONT_HERSHEY_DUPLEX, 2, (0, 255, 255), 3)\n",
    "\n",
    "    cv2.imshow('testt', imag2)\n",
    "    cv2.waitKey(0)\n",
    "    cv2.destroyWindow('testt')"
   ]
  },
  {
   "cell_type": "code",
   "execution_count": 4,
   "metadata": {
    "collapsed": false
   },
   "outputs": [
    {
     "data": {
      "application/javascript": [
       "$.getScript('https://kmahelona.github.io/ipython_notebook_goodies/ipython_notebook_toc.js')"
      ],
      "text/plain": [
       "<IPython.core.display.Javascript object>"
      ]
     },
     "metadata": {},
     "output_type": "display_data"
    }
   ],
   "source": [
    "%%javascript\n",
    "$.getScript('https://kmahelona.github.io/ipython_notebook_goodies/ipython_notebook_toc.js')"
   ]
  }
 ],
 "metadata": {
  "kernelspec": {
   "display_name": "Python 3",
   "language": "python",
   "name": "python3"
  },
  "language_info": {
   "codemirror_mode": {
    "name": "ipython",
    "version": 3
   },
   "file_extension": ".py",
   "mimetype": "text/x-python",
   "name": "python",
   "nbconvert_exporter": "python",
   "pygments_lexer": "ipython3",
   "version": "3.3.5"
  }
 },
 "nbformat": 4,
 "nbformat_minor": 0
}
