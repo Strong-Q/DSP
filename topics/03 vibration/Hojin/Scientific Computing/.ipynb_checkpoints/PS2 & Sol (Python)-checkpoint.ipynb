{
 "cells": [
  {
   "cell_type": "code",
   "execution_count": null,
   "metadata": {
    "collapsed": true
   },
   "outputs": [],
   "source": [
    "import numpy as np\n",
    "import matplotlib.pyplot as plt\n",
    "\n",
    "%matplotlib inline"
   ]
  },
  {
   "cell_type": "markdown",
   "metadata": {},
   "source": [
    "## Problem 1.\n",
    "\n",
    "We want to write code for calculating $S_n = 1 + \\frac{1}{2} + \\frac{1}{2^2} + … + \\frac{1}{2^n}$\n",
    "\n",
    "1) $S_n$ if $n=5$\n",
    "\n",
    "2) find a maximum value of $n$ such that $S_n \\leq 1.999$\n",
    "\n",
    "3) plot $S_n$ with a function of $n \\;(\\leq 10)$"
   ]
  },
  {
   "cell_type": "code",
   "execution_count": null,
   "metadata": {
    "collapsed": false
   },
   "outputs": [],
   "source": [
    "# 1)\n",
    "\n",
    "n = 5\n",
    "temp_sum = 0\n",
    "\n",
    "for i in range(0,n):\n",
    "    temp_sum = temp_sum + 1/(2**i)\n",
    "\n",
    "Sn = temp_sum\n",
    "\n",
    "print Sn"
   ]
  },
  {
   "cell_type": "code",
   "execution_count": null,
   "metadata": {
    "collapsed": false
   },
   "outputs": [],
   "source": [
    "# 2)\n",
    "\n",
    "temp_sum = 0\n",
    "i = 0\n",
    "\n",
    "while temp_sum <= 1.999:\n",
    "    temp_sum = temp_sum + 1/(2**i)\n",
    "    i = i + 1\n",
    "\n",
    "Sn = temp_sum - 1/(2**(i-1))\n",
    "n = i-2\n",
    "\n",
    "print(Sn)\n",
    "print(n)"
   ]
  },
  {
   "cell_type": "code",
   "execution_count": null,
   "metadata": {
    "collapsed": false
   },
   "outputs": [],
   "source": [
    "# 3)\n",
    "\n",
    "Sn = []\n",
    "x = range(0,11)\n",
    "\n",
    "for j in x:\n",
    "    a = 0\n",
    "    n = j\n",
    "    for i in range(0,n+1):\n",
    "        a = a + 1/(2**i)\n",
    "    Sn.append(a)\n",
    "\n",
    "plt.plot(x, Sn)\n",
    "plt.show()"
   ]
  },
  {
   "cell_type": "markdown",
   "metadata": {},
   "source": [
    "## Problem 2.\n",
    "\n",
    "We want to learn about how to numerically take an integral of the given function of $f(x)$.\n",
    "\n",
    "Calculate $\\int^\\pi_0 \\sin{x}dx$ by using the idea shown in the above figure."
   ]
  },
  {
   "cell_type": "code",
   "execution_count": null,
   "metadata": {
    "collapsed": false
   },
   "outputs": [],
   "source": [
    "dx = 0.01\n",
    "a = np.arange(0.0,np.pi,dx)\n",
    "x = 0.0\n",
    "A = 0.0\n",
    "\n",
    "for i in range(1,len(a)+1):\n",
    "    An = dx*np.sin(x)\n",
    "    A += An\n",
    "    x += dx\n",
    "\n",
    "print(A)"
   ]
  },
  {
   "cell_type": "markdown",
   "metadata": {},
   "source": [
    "## Problem 3.\n",
    "\n",
    "We want to learn about how to numerically take a derivative of the given function of $f(x)$.\n",
    "\n",
    "Calculate $\\left.\\frac{d\\sin{x}}{dx}\\right|_{x=0}$ by using the idea shown in the above figure."
   ]
  },
  {
   "cell_type": "code",
   "execution_count": null,
   "metadata": {
    "collapsed": false
   },
   "outputs": [],
   "source": [
    "dx = 0.001\n",
    "x = 0.0\n",
    "\n",
    "A = (np.sin(x+dx)-np.sin(x))/dx\n",
    "print(A)"
   ]
  },
  {
   "cell_type": "code",
   "execution_count": null,
   "metadata": {
    "collapsed": true
   },
   "outputs": [],
   "source": []
  }
 ],
 "metadata": {
  "anaconda-cloud": {},
  "kernelspec": {
   "display_name": "Python 2",
   "language": "python",
   "name": "python2"
  },
  "language_info": {
   "codemirror_mode": {
    "name": "ipython",
    "version": 2
   },
   "file_extension": ".py",
   "mimetype": "text/x-python",
   "name": "python",
   "nbconvert_exporter": "python",
   "pygments_lexer": "ipython2",
   "version": "2.7.11"
  }
 },
 "nbformat": 4,
 "nbformat_minor": 0
}
