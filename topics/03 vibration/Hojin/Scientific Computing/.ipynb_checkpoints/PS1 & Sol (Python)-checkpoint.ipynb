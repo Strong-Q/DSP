{
 "cells": [
  {
   "cell_type": "code",
   "execution_count": 1,
   "metadata": {
    "collapsed": false
   },
   "outputs": [],
   "source": [
    "import numpy as np\n",
    "import matplotlib.pyplot as plt\n",
    "from numpy.linalg import *\n",
    "\n",
    "%matplotlib inline"
   ]
  },
  {
   "cell_type": "markdown",
   "metadata": {},
   "source": [
    "## Problem 1.\n",
    "\n",
    "Write a m-code to create an output matrix Y which consists of only even numbers (in order) from the given input X.\n",
    "\n",
    "For example,\n",
    "- Input X = [1, 2, …,10]\n",
    "- Output Y = [2, 4,…,10] "
   ]
  },
  {
   "cell_type": "code",
   "execution_count": 2,
   "metadata": {
    "collapsed": false
   },
   "outputs": [
    {
     "name": "stdout",
     "output_type": "stream",
     "text": [
      "[ 1  2  3  4  5  6  7  8  9 10]\n",
      "[ 2  4  6  8 10]\n"
     ]
    }
   ],
   "source": [
    "X = np.arange(1,11,1)\n",
    "Y = np.arange(2,11,2)\n",
    "print(X)\n",
    "print(Y)"
   ]
  },
  {
   "cell_type": "markdown",
   "metadata": {},
   "source": [
    "## Problem 2.\n",
    "\n",
    "Given an integer $n$, write a m-code to compute the following:\n",
    "\n",
    "$$S = 1 + \\frac{1}{2} + … + \\frac{1}{n}$$"
   ]
  },
  {
   "cell_type": "code",
   "execution_count": 3,
   "metadata": {
    "collapsed": false
   },
   "outputs": [
    {
     "name": "stdout",
     "output_type": "stream",
     "text": [
      "2.9289682539682538\n"
     ]
    }
   ],
   "source": [
    "n = 10\n",
    "S = 0.0\n",
    "\n",
    "for i in range(1,n+1):\n",
    "    S += 1/i\n",
    "    \n",
    "print(S)"
   ]
  },
  {
   "cell_type": "markdown",
   "metadata": {},
   "source": [
    "## Problem 3.\n",
    "\n",
    "Plot $\\;f(t) = \\frac{3}{2} \\sin^2(t) + 3 \\cos^2(t) + 1\\;$ for $\\;0\\leq t \\leq 3$, and find $\\,t\\,$ that minimizes $f(t)$."
   ]
  },
  {
   "cell_type": "code",
   "execution_count": 4,
   "metadata": {
    "collapsed": false
   },
   "outputs": [
    {
     "data": {
      "image/png": "[encoded data removed]",
      "text/plain": [
       "<matplotlib.figure.Figure at 0x224ef1c4470>"
      ]
     },
     "metadata": {},
     "output_type": "display_data"
    },
    {
     "name": "stdout",
     "output_type": "stream",
     "text": [
      "2.5000009512\n",
      "1.57\n"
     ]
    }
   ],
   "source": [
    "t = np.arange(0.0,3.0,0.01)\n",
    "X1 = np.sin(t)\n",
    "X2 = np.cos(t)\n",
    "\n",
    "a1 = 1.5\n",
    "a2 = 3.0\n",
    "a3 = 1.0\n",
    "\n",
    "c = a1*(X1*X1) + a2*(X2*X2) + a3\n",
    "\n",
    "plt.plot(t,c)\n",
    "plt.show()\n",
    "\n",
    "def minimize(c):\n",
    "    I = 0\n",
    "    Y = c[0]\n",
    "    for i in range(1,len(c)):\n",
    "        if c[i] < Y:\n",
    "            Y = c[i]\n",
    "            I = i\n",
    "    return Y, I\n",
    "\n",
    "Y, I = minimize(c)\n",
    "\n",
    "print(Y)\n",
    "print(t[I])"
   ]
  },
  {
   "cell_type": "markdown",
   "metadata": {},
   "source": [
    "## Problem 4.\n",
    "Read data from Excel (PB4.xls) and write new values which are multiplied by 2 to the adjacent cells in the same Excel file."
   ]
  },
  {
   "cell_type": "code",
   "execution_count": 5,
   "metadata": {
    "collapsed": false,
    "scrolled": true
   },
   "outputs": [],
   "source": [
    "import xlrd\n",
    "import xlwt\n",
    "\n",
    "workbook = xlrd.open_workbook('PB4.xls')\n",
    "sheet = workbook.sheet_by_index(0)\n",
    "\n",
    "A = []\n",
    "\n",
    "for i in range(4):\n",
    "    A.append(sheet.cell_value(4+i,1))\n",
    "\n",
    "workbook = xlwt.Workbook()\n",
    "sheet = workbook.add_sheet('Sheet_1')\n",
    "\n",
    "for i in range(4):\n",
    "    sheet.write(4+i,1,A[i])\n",
    "    sheet.write(4+i,2,2*A[i])\n",
    "    \n",
    "workbook.save('PB4.xls')"
   ]
  },
  {
   "cell_type": "markdown",
   "metadata": {},
   "source": [
    "## Problem 5.\n",
    "\n",
    "Plot $\\;f(x) = \\sin{x} \\cdotp e^x + \\log_{10}(3x) + \\frac{1}{\\sqrt{2x + 7}}\\;$ for $\\;0 \\leq x \\leq \\pi$, and find $x$ that maximizes $f(x)$."
   ]
  },
  {
   "cell_type": "code",
   "execution_count": 6,
   "metadata": {
    "collapsed": false
   },
   "outputs": [
    {
     "data": {
      "image/png": "[encoded data removed]",
      "text/plain": [
       "<matplotlib.figure.Figure at 0x224efc34898>"
      ]
     },
     "metadata": {},
     "output_type": "display_data"
    },
    {
     "name": "stdout",
     "output_type": "stream",
     "text": [
      "8.60095292147\n",
      "2.38241867696\n"
     ]
    }
   ],
   "source": [
    "x = np.linspace(0.01, np.pi, 100)\n",
    "y = np.sin(x) * np.exp(x) + np.log10(3*x) + 1/np.sqrt(2*x+7)\n",
    "\n",
    "plt.plot(x,y)\n",
    "plt.show()\n",
    "\n",
    "def maximize(y):\n",
    "    I = 0\n",
    "    Y = y[0]\n",
    "    for i in range(1,len(y)):\n",
    "        if y[i] > Y:\n",
    "            Y = y[i]\n",
    "            I = i\n",
    "    return Y, I\n",
    "\n",
    "Y, I = maximize(y)\n",
    "\n",
    "print(Y)\n",
    "print(x[I])"
   ]
  },
  {
   "cell_type": "markdown",
   "metadata": {},
   "source": [
    "## Problem 6.\n",
    "\n",
    "$M = \\begin{bmatrix}\n",
    "1 & 4 & -3\\\\\n",
    "4 & 2 & 0\\\\\n",
    "-3 & 0 & 3\n",
    "\\end{bmatrix}$, calculate $(M^TM)'M^2$"
   ]
  },
  {
   "cell_type": "code",
   "execution_count": 7,
   "metadata": {
    "collapsed": false
   },
   "outputs": [
    {
     "name": "stdout",
     "output_type": "stream",
     "text": [
      "[[  1.00000000e+00  -2.77555756e-17   9.71445147e-17]\n",
      " [  0.00000000e+00   1.00000000e+00   5.55111512e-17]\n",
      " [  1.66533454e-16   1.66533454e-16   1.00000000e+00]]\n"
     ]
    }
   ],
   "source": [
    "M = np.array([[ 1,4,-3],\n",
    "              [ 4,2, 0],\n",
    "              [-3,0, 3]])\n",
    "\n",
    "A = np.dot(M.T,M)\n",
    "A = linalg.inv(A)\n",
    "A = np.dot(A,np.dot(M,M))\n",
    "print(A)"
   ]
  },
  {
   "cell_type": "code",
   "execution_count": null,
   "metadata": {
    "collapsed": true
   },
   "outputs": [],
   "source": []
  }
 ],
 "metadata": {
  "anaconda-cloud": {},
  "kernelspec": {
   "display_name": "Python 2",
   "language": "python",
   "name": "python2"
  },
  "language_info": {
   "codemirror_mode": {
    "name": "ipython",
    "version": 2
   },
   "file_extension": ".py",
   "mimetype": "text/x-python",
   "name": "python",
   "nbconvert_exporter": "python",
   "pygments_lexer": "ipython2",
   "version": "2.7.11"
  }
 },
 "nbformat": 4,
 "nbformat_minor": 0
}
