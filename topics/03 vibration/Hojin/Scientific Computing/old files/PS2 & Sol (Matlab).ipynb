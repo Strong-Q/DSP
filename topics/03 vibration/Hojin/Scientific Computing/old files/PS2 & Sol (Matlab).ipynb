{
 "cells": [
  {
   "cell_type": "markdown",
   "metadata": {
    "collapsed": true
   },
   "source": [
    "## Problem 1.\n",
    "\n",
    "We want to write code for calculating $S_n = 1 + \\frac{1}{2} + \\frac{1}{2^2} + … + \\frac{1}{2^n}$\n",
    "\n",
    "1) $S_n$ if $n=5$\n",
    "\n",
    "2) find a maximum value of $n$ such that $S_n \\leq 1.999$\n",
    "\n",
    "3) plot $S_n$ with a function of $n \\;(\\leq 10)$"
   ]
  },
  {
   "cell_type": "code",
   "execution_count": 2,
   "metadata": {
    "collapsed": false
   },
   "outputs": [
    {
     "data": {
      "text/plain": [
       "Sn =\r\n",
       "\r\n",
       "    1.9688"
      ]
     },
     "execution_count": 2,
     "metadata": {},
     "output_type": "execute_result"
    }
   ],
   "source": [
    "%1)\n",
    "\n",
    "n = 5;\n",
    "temp_sum = 0;\n",
    "\n",
    "for i = 0:n\n",
    "    temp_sum = temp_sum + 1/(2^i);\n",
    "end\n",
    "\n",
    "Sn=temp_sum"
   ]
  },
  {
   "cell_type": "code",
   "execution_count": 3,
   "metadata": {
    "collapsed": false
   },
   "outputs": [
    {
     "data": {
      "text/plain": [
       "Sn =\r\n",
       "\r\n",
       "    1.9980\r\n",
       "\r\n",
       "\r\n",
       "n =\r\n",
       "\r\n",
       "     9"
      ]
     },
     "execution_count": 3,
     "metadata": {},
     "output_type": "execute_result"
    }
   ],
   "source": [
    "%2)\n",
    "\n",
    "temp_sum = 0;\n",
    "i = 0;\n",
    "while temp_sum <= 1.999,\n",
    "    temp_sum = temp_sum + 1/(2^i);\n",
    "    i=i+1;\n",
    "end\n",
    "\n",
    "Sn = temp_sum - 1/(2^(i-1))\n",
    "n = i-2"
   ]
  },
  {
   "cell_type": "code",
   "execution_count": 4,
   "metadata": {
    "collapsed": false
   },
   "outputs": [
    {
     "data": {
      "image/png": "[encoded data removed]",
      "text/plain": [
       "<IPython.core.display.Image object>"
      ]
     },
     "metadata": {},
     "output_type": "display_data"
    },
    {
     "data": {},
     "execution_count": 4,
     "metadata": {},
     "output_type": "execute_result"
    }
   ],
   "source": [
    "%3)\n",
    "\n",
    "Sn = [];\n",
    "x = 0:10;\n",
    "for j = x\n",
    "    a = 0;\n",
    "    n = j;\n",
    "    \n",
    "    for i = 0:n\n",
    "        a = a + 1/(2^i);\n",
    "    end\n",
    "    \n",
    "    Sn = [Sn,a];\n",
    "end\n",
    "\n",
    "plot(x,Sn)"
   ]
  },
  {
   "cell_type": "markdown",
   "metadata": {},
   "source": [
    "## Problem 2.\n",
    "\n",
    "We want to learn about how to numerically take an integral of the given function of $f(x)$.\n",
    "\n",
    "Calculate $\\int^\\pi_0 \\sin{x}dx$ by using the idea shown in the above figure."
   ]
  },
  {
   "cell_type": "code",
   "execution_count": 5,
   "metadata": {
    "collapsed": false
   },
   "outputs": [
    {
     "data": {
      "text/plain": [
       "A =\r\n",
       "\r\n",
       "    2.0000"
      ]
     },
     "execution_count": 5,
     "metadata": {},
     "output_type": "execute_result"
    }
   ],
   "source": [
    "dx = 0.01;\n",
    "a = 0:dx:pi;\n",
    "x = 0;\n",
    "A = 0;\n",
    "\n",
    "for i = 1:length(a)\n",
    "    An = dx*sin(x);\n",
    "    A = A + An;\n",
    "    x = x + dx;\n",
    "end\n",
    "\n",
    "A"
   ]
  },
  {
   "cell_type": "code",
   "execution_count": 6,
   "metadata": {
    "collapsed": false
   },
   "outputs": [
    {
     "data": {
      "text/plain": [
       "Q =\r\n",
       "\r\n",
       "    2.0000"
      ]
     },
     "execution_count": 6,
     "metadata": {},
     "output_type": "execute_result"
    }
   ],
   "source": [
    "Q = integral(@(x)sin(x),0,pi)"
   ]
  },
  {
   "cell_type": "markdown",
   "metadata": {},
   "source": [
    "## Problem 3.\n",
    "\n",
    "We want to learn about how to numerically take a derivative of the given function of $f(x)$.\n",
    "\n",
    "Calculate $\\left.\\frac{d\\sin{x}}{dx}\\right|_{x=0}$ by using the idea shown in the above figure."
   ]
  },
  {
   "cell_type": "code",
   "execution_count": 7,
   "metadata": {
    "collapsed": false
   },
   "outputs": [
    {
     "data": {
      "text/plain": [
       "A =\r\n",
       "\r\n",
       "    1.0000"
      ]
     },
     "execution_count": 7,
     "metadata": {},
     "output_type": "execute_result"
    }
   ],
   "source": [
    "dx = 0.001;\n",
    "x = 0;\n",
    "\n",
    "A = (sin(x+dx) - sin(x))/dx"
   ]
  }
 ],
 "metadata": {
  "anaconda-cloud": {},
  "kernelspec": {
   "display_name": "Matlab",
   "language": "matlab",
   "name": "matlab_kernel"
  },
  "language_info": {
   "file_extension": ".m",
   "help_links": [
    {
     "text": "MetaKernel Magics",
     "url": "https://github.com/calysto/metakernel/blob/master/metakernel/magics/README.md"
    }
   ],
   "mimetype": "text/x-matlab",
   "name": "octave"
  }
 },
 "nbformat": 4,
 "nbformat_minor": 0
}
