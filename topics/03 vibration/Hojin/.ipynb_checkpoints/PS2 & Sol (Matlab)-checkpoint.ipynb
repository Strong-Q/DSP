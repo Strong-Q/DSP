{
 "cells": [
  {
   "cell_type": "markdown",
   "metadata": {
    "collapsed": true
   },
   "source": [
    "# P1.\n",
    "\n",
    "We want to write code for calculating $S_n = 1 + \\frac{1}{2} + \\frac{1}{2^2} + … + \\frac{1}{2^n}$\n",
    "\n",
    "1) $S_n$ if $n=5$\n",
    "\n",
    "2) find a maximum value of $n$ such that $S_n \\leq 1.999$\n",
    "\n",
    "3) plot $S_n$ with a function of $n (\\leq 10)$"
   ]
  },
  {
   "cell_type": "code",
   "execution_count": null,
   "metadata": {
    "collapsed": true
   },
   "outputs": [],
   "source": [
    "%1)\n",
    "clear all\n",
    "clc\n",
    "\n",
    "n=5;\n",
    "temp_sum = 0;\n",
    "for i = 0:n\n",
    "    temp_sum = temp_sum + 1/(2^i);\n",
    "end\n",
    "Sn=temp_sum"
   ]
  },
  {
   "cell_type": "code",
   "execution_count": null,
   "metadata": {
    "collapsed": true
   },
   "outputs": [],
   "source": [
    "%2)\n",
    "clear all\n",
    "clc\n",
    "\n",
    "temp_sum = 0;\n",
    "i=0;\n",
    "while temp_sum <= 1.999,\n",
    "    temp_sum = temp_sum + 1/(2^i);\n",
    "    i=i+1;\n",
    "end\n",
    "\n",
    "Sn=temp_sum-1/(2^(i-1))\n",
    "n=i-2"
   ]
  },
  {
   "cell_type": "code",
   "execution_count": null,
   "metadata": {
    "collapsed": true
   },
   "outputs": [],
   "source": [
    "%3)\n",
    "clear all\n",
    "clc\n",
    "\n",
    "\n",
    "Sn=[];\n",
    "x=0:10;\n",
    "for j = x\n",
    "    a = 0;\n",
    "    n=j;\n",
    "    for i = 0:n\n",
    "        a = a + 1/(2^i);\n",
    "    end\n",
    "    Sn = [Sn,a];\n",
    "end\n",
    "plot (x,Sn)"
   ]
  },
  {
   "cell_type": "markdown",
   "metadata": {},
   "source": [
    "# P2.\n",
    "\n",
    "We want to learn about how to numerically take an integral of the given function of $f(x)$.\n",
    "\n",
    "Calculate $\\int^\\pi_0 \\sin{x}dx$ by using the idea shown in the above figure."
   ]
  },
  {
   "cell_type": "code",
   "execution_count": null,
   "metadata": {
    "collapsed": true
   },
   "outputs": [],
   "source": [
    "clear all\n",
    "clc \n",
    "\n",
    "dx=0.01;\n",
    "a=0:dx:pi;\n",
    "x=0;\n",
    "A=0;\n",
    "for i=1:length(a)\n",
    "    An=dx*sin(x);\n",
    "    A=A+An;\n",
    "    x=x+dx;\n",
    "end\n",
    "A"
   ]
  },
  {
   "cell_type": "code",
   "execution_count": null,
   "metadata": {
    "collapsed": true
   },
   "outputs": [],
   "source": [
    "Q = integral(@(x)sin(x),0,pi)"
   ]
  },
  {
   "cell_type": "markdown",
   "metadata": {},
   "source": [
    "## P3.\n",
    "\n",
    "We want to learn about how to numerically take a derivative of the given function of $f(x)$.\n",
    "\n",
    "Calculate $\\frac{d\\sin{x}}{dx}|_{x=0}$ by using the idea shown in the above figure."
   ]
  },
  {
   "cell_type": "code",
   "execution_count": null,
   "metadata": {
    "collapsed": true
   },
   "outputs": [],
   "source": [
    "clear all\n",
    "clc \n",
    "\n",
    "dx=0.001;\n",
    "x=0;\n",
    "\n",
    "A=(sin(x+dx)-sin(x))/dx"
   ]
  }
 ],
 "metadata": {
  "anaconda-cloud": {},
  "kernelspec": {
   "display_name": "Python [Root]",
   "language": "python",
   "name": "Python [Root]"
  },
  "language_info": {
   "codemirror_mode": {
    "name": "ipython",
    "version": 3
   },
   "file_extension": ".py",
   "mimetype": "text/x-python",
   "name": "python",
   "nbconvert_exporter": "python",
   "pygments_lexer": "ipython3",
   "version": "3.5.2"
  }
 },
 "nbformat": 4,
 "nbformat_minor": 0
}
