{
 "cells": [
  {
   "cell_type": "markdown",
   "metadata": {},
   "source": [
    "<font size = '6'><b>Control by Prof. Magnus Egerstedt</b></font><br><br>\n",
    "<font size = '4'><b>Georgia Institute of Technology</b></font>\n",
    "\n",
    "<table style=\"border-style: hidden; border-collapse: collapse;\" width = \"80%\"> \n",
    "    <tr style=\"border-style: hidden; border-collapse: collapse;\">\n",
    "        <td width = 55% style=\"border-style: hidden; border-collapse: collapse;\">\n",
    "             \n",
    "        </td>\n",
    "        <td width = 25%>\n",
    "            Collected by Prof. Seungchul Lee<br>iSystems (http://isystems.unist.ac.kr/)<br>UNIST\n",
    "        </td>\n",
    "    </tr>\n",
    "</table>\n",
    "\n",
    "Table of Contents\n",
    "<div id=\"toc\"></div>"
   ]
  },
  {
   "cell_type": "code",
   "execution_count": 1,
   "metadata": {
    "collapsed": true
   },
   "outputs": [],
   "source": [
    "import numpy as np\n",
    "import matplotlib.pyplot as plt\n",
    "from pylab import *\n",
    "\n",
    "%matplotlib inline"
   ]
  },
  {
   "cell_type": "markdown",
   "metadata": {},
   "source": [
    "# 1. The Basic of Control\n",
    "\n",
    "## 1.1. Definitions & Objectives of the Basic Properties\n",
    "\n",
    "- Control Theory: deals with the behavior of dynamical systems with inputs\n",
    "- Objectives: stability, tracking, robustness, disturbance rejection, optimality etc\n",
    "\n",
    "## 1.2. The Basic of Building Blocks\n",
    "\n",
    "- State: the representation of what the system is currently doing\n",
    "- Dynamics: description of how the state changes\n",
    "- Reference: what we want the system to do\n",
    "- Output: measurement of (some aspects of the) system\n",
    "- Input: control signal\n",
    "- Feedback: mapping from outputs to inputs\n",
    "- Error: difference between output and reference\n",
    "\n",
    "<br>\n",
    "<img src = \"./images/block_diagram.jpg\", width = 450>\n",
    "<br>"
   ]
  },
  {
   "cell_type": "markdown",
   "metadata": {},
   "source": [
    "# 2. Models\n",
    "\n",
    "## 2.1. Discretized Time Model\n",
    "\n",
    "- Effective control strategies rely on predictive models\n",
    "- Discrete time:\n",
    "\n",
    "$$x_{k+1} = f(x_k, u_k)$$"
   ]
  },
  {
   "cell_type": "code",
   "execution_count": 3,
   "metadata": {
    "collapsed": false
   },
   "outputs": [
    {
     "data": {
      "image/png": "[encoded data removed]",
      "text/plain": [
       "<matplotlib.figure.Figure at 0x21a525e2198>"
      ]
     },
     "metadata": {},
     "output_type": "display_data"
    }
   ],
   "source": [
    "x = linspace(0, 10, 11)\n",
    "stem(x)\n",
    "show()"
   ]
  },
  {
   "cell_type": "markdown",
   "metadata": {},
   "source": [
    "## 2.2. Continous Time Model\n",
    "\n",
    "- Laws of Physics are all in continuous time. Thus, instead of \"next\" state, we need derivatives with respect to time.\n",
    "- Continuous time:\n",
    "\n",
    "$$\\frac {dx}{dt} = f(x, u) \\quad \\implies \\quad \\dot {x} = f(x, u)$$"
   ]
  },
  {
   "cell_type": "code",
   "execution_count": 4,
   "metadata": {
    "collapsed": false
   },
   "outputs": [
    {
     "data": {
      "image/png": "[encoded data removed]",
      "text/plain": [
       "<matplotlib.figure.Figure at 0x21a50497320>"
      ]
     },
     "metadata": {},
     "output_type": "display_data"
    }
   ],
   "source": [
    "plot(x)\n",
    "show()"
   ]
  },
  {
   "cell_type": "markdown",
   "metadata": {},
   "source": [
    "## 2.3. Continous to Discrete\n",
    "\n",
    "- sampling\n",
    "$$x_{k+1} = x_k + \\delta t \\cdot f(x_k,u_k)$$"
   ]
  },
  {
   "cell_type": "markdown",
   "metadata": {},
   "source": [
    "# 3. Control Design\n",
    "\n",
    "## 3.1. Cosiderations\n",
    "\n",
    "- Property 1: small error gives small input\n",
    "$$\\text{small} \\; e \\qquad \\implies \\qquad \\text{small} \\; u$$\n",
    "\n",
    "\n",
    "- Property 2: input shoud not be \"jerky\"\n",
    "\n",
    "\n",
    "- Property 3: input should not depend on uncertain parameters exactly\n",
    "\n",
    "## 3.2. Control Attempts\n",
    "\n",
    "Car model:\n",
    "\n",
    "$$ \\dot{x} = \\frac {c}{m} u$$\n",
    "\n",
    "We want\n",
    "$$ \\lim_{t\\rightarrow \\infty} x(t) = r$$\n",
    "\n",
    "### 3.2.1. Bang-Bang Control\n",
    "\n",
    "Bang-Bang control\n",
    "\n",
    "$$ u = \n",
    "\\begin{cases}\n",
    "u_{max} & \\text {if }\\; e < 0\n",
    "\\\\-u_{max} & \\text {if }\\; e > 0\n",
    "\\\\0 \\quad & \\text {if }\\; e = 0\n",
    "\\end{cases}$$\n"
   ]
  },
  {
   "cell_type": "code",
   "execution_count": 5,
   "metadata": {
    "collapsed": false
   },
   "outputs": [
    {
     "data": {
      "image/png": "[encoded data removed]",
      "text/plain": [
       "<matplotlib.figure.Figure at 0x21a50471c88>"
      ]
     },
     "metadata": {},
     "output_type": "display_data"
    }
   ],
   "source": [
    "## BangBang Control\n",
    "\n",
    "# Adjust Parameters\n",
    "\n",
    "um = 50.0 / 3\n",
    "r  = 50.0\n",
    "c  =  1.0\n",
    "m  =  1.0\n",
    "v  = [0.0] # initial velocity\n",
    "tt = 10.0  # termination time\n",
    "\n",
    "# Constants & initial values\n",
    "\n",
    "dt =  0.1\n",
    "t  =  [0.0]\n",
    "n  =  int(tt / dt) + 1\n",
    "us =  [um]\n",
    "\n",
    "# Function Definition\n",
    "\n",
    "def input_(e):\n",
    "    if e > 0:\n",
    "        u = um\n",
    "    elif e < 0:\n",
    "        u = - um\n",
    "    else:\n",
    "        u = 0\n",
    "    return u\n",
    "\n",
    "def error(v):\n",
    "    e = r - v\n",
    "    return e\n",
    "\n",
    "def deriv(u):\n",
    "    a = c * u / m\n",
    "    return a\n",
    "\n",
    "# Compute\n",
    "\n",
    "for i in range(0, n):\n",
    "    e = error(v[i])\n",
    "    u = input_(e)\n",
    "    a = deriv(u)\n",
    "    v.append(v[i] + a * dt)\n",
    "    t.append(t[i] + dt)\n",
    "    us.append(u)\n",
    "    \n",
    "# Plot Velcoity\n",
    "\n",
    "plt.plot(t, v)\n",
    "plt.ylim(0, r + 10.0)\n",
    "plt.xlabel('time')\n",
    "plt.ylabel('velocity')\n",
    "plt.show()"
   ]
  },
  {
   "cell_type": "code",
   "execution_count": 6,
   "metadata": {
    "collapsed": false
   },
   "outputs": [
    {
     "data": {
      "image/png": "[encoded data removed]",
      "text/plain": [
       "<matplotlib.figure.Figure at 0x21a52a225f8>"
      ]
     },
     "metadata": {},
     "output_type": "display_data"
    }
   ],
   "source": [
    "# Plot Input\n",
    "\n",
    "plt.plot(t, us)\n",
    "plt.xlabel('time')\n",
    "plt.ylabel('input')\n",
    "plt.show()"
   ]
  },
  {
   "cell_type": "markdown",
   "metadata": {},
   "source": [
    "### 3.2.2. P Control\n",
    "\n",
    "- P control\n",
    "$$u = ke$$"
   ]
  },
  {
   "cell_type": "code",
   "execution_count": 7,
   "metadata": {
    "collapsed": false
   },
   "outputs": [
    {
     "data": {
      "image/png": "[encoded data removed]",
      "text/plain": [
       "<matplotlib.figure.Figure at 0x21a52f0ea90>"
      ]
     },
     "metadata": {},
     "output_type": "display_data"
    }
   ],
   "source": [
    "## P Control\n",
    "\n",
    "# Adjust Parameters\n",
    "\n",
    "kP =  1.0\n",
    "r  = 50.0\n",
    "c  =  1.0\n",
    "m  =  1.0\n",
    "v  = [0.0] # initial velocity\n",
    "tt = 10.0  # termination time\n",
    "\n",
    "# Constants & initial values\n",
    "\n",
    "dt =  0.1\n",
    "t  =  [0.0]\n",
    "n  =  int(tt / dt) + 1\n",
    "\n",
    "# Function Definition\n",
    "\n",
    "def input_(e):\n",
    "    u = kP * e\n",
    "    return u\n",
    "\n",
    "def error(v):\n",
    "    e = r - v\n",
    "    return e\n",
    "\n",
    "def deriv(u):\n",
    "    a = c * u / m\n",
    "    return a\n",
    "\n",
    "# Compute\n",
    "\n",
    "for i in range(0, n):\n",
    "    e = error(v[i])\n",
    "    u = input_(e)\n",
    "    a = deriv(u)\n",
    "    v.append(v[i] + a * dt)\n",
    "    t.append(t[i] + dt)\n",
    "    \n",
    "# Plot Velcoity\n",
    "\n",
    "plt.plot(t, v)\n",
    "plt.ylim(0, r + 10.0)\n",
    "plt.xlabel('time')\n",
    "plt.ylabel('velocity')\n",
    "plt.show()"
   ]
  },
  {
   "cell_type": "markdown",
   "metadata": {},
   "source": [
    "- at $\\gamma = 50$\n",
    "- In real model\n",
    "\n",
    "$$\\dot{x} = \\frac{c}{m} u - \\gamma x$$"
   ]
  },
  {
   "cell_type": "code",
   "execution_count": 8,
   "metadata": {
    "collapsed": false
   },
   "outputs": [
    {
     "data": {
      "image/png": "[encoded data removed]",
      "text/plain": [
       "<matplotlib.figure.Figure at 0x21a52fd6898>"
      ]
     },
     "metadata": {},
     "output_type": "display_data"
    }
   ],
   "source": [
    "## P Control in Real\n",
    "\n",
    "# Adjust Parameters\n",
    "\n",
    "kP =  1.0\n",
    "r  = 50.0\n",
    "c  =  1.0\n",
    "m  =  1.0\n",
    "v  = [0.0] # initial velocity\n",
    "tt = 10.0  # termination time\n",
    "\n",
    "gamma = 0.5\n",
    "\n",
    "# Constants & initial values\n",
    "\n",
    "dt =  0.1\n",
    "t  =  [0.0]\n",
    "n  =  int(tt / dt) + 1\n",
    "\n",
    "# Function Definition\n",
    "\n",
    "def input_(e):\n",
    "    u = kP * e\n",
    "    return u\n",
    "\n",
    "def error(v):\n",
    "    e = r - v\n",
    "    return e\n",
    "\n",
    "def deriv(u, v):\n",
    "    a = c * u / m - gamma * v\n",
    "    return a\n",
    "\n",
    "# Compute\n",
    "\n",
    "for i in range(0, n):\n",
    "    e = error(v[i])\n",
    "    u = input_(e)\n",
    "    a = deriv(u, v[i])\n",
    "    v.append(v[i] + a * dt)\n",
    "    t.append(t[i] + dt)\n",
    "    \n",
    "# Plot Velcoity\n",
    "\n",
    "plt.plot(t, v)\n",
    "plt.ylim(0, r + 10.0)\n",
    "plt.xlabel('time')\n",
    "plt.ylabel('velocity')\n",
    "plt.show()"
   ]
  },
  {
   "cell_type": "markdown",
   "metadata": {},
   "source": [
    "- Cannot reach the reference.\n",
    "- For solving it, set\n",
    "$$u = ke + \\gamma \\frac{m}{c} x$$"
   ]
  },
  {
   "cell_type": "code",
   "execution_count": 9,
   "metadata": {
    "collapsed": false
   },
   "outputs": [
    {
     "data": {
      "image/png": "[encoded data removed]",
      "text/plain": [
       "<matplotlib.figure.Figure at 0x21a52fd67f0>"
      ]
     },
     "metadata": {},
     "output_type": "display_data"
    }
   ],
   "source": [
    "## P Control in Real (adjusted)\n",
    "\n",
    "# Adjust Parameters\n",
    "\n",
    "kP =  1.0\n",
    "r  = 50.0\n",
    "c  =  1.0\n",
    "m  =  1.0\n",
    "v  = [0.0] # initial velocity\n",
    "tt = 10.0  # termination time\n",
    "\n",
    "gamma = 0.5\n",
    "\n",
    "# Constants & initial values\n",
    "\n",
    "dt =  0.1\n",
    "t  =  [0.0]\n",
    "n  =  int(tt / dt) + 1\n",
    "\n",
    "# Function Definition\n",
    "\n",
    "def input_(e, v):\n",
    "    u = kP * e + gamma * m / c * v\n",
    "    return u\n",
    "\n",
    "def error(v):\n",
    "    e = r - v\n",
    "    return e\n",
    "\n",
    "def deriv(u, v):\n",
    "    a = c * u / m - gamma * v\n",
    "    return a\n",
    "\n",
    "# Compute\n",
    "\n",
    "for i in range(0, n):\n",
    "    e = error(v[i])\n",
    "    u = input_(e, v[i])\n",
    "    a = deriv(u, v[i])\n",
    "    v.append(v[i] + a * dt)\n",
    "    t.append(t[i] + dt)\n",
    "    \n",
    "# Plot Velcoity\n",
    "\n",
    "plt.plot(t, v)\n",
    "plt.ylim(0, r + 10.0)\n",
    "plt.xlabel('time')\n",
    "plt.ylabel('velocity')\n",
    "plt.show()"
   ]
  },
  {
   "cell_type": "markdown",
   "metadata": {},
   "source": [
    "- However, property 3 is not satisfied. (in this attempt, we should know the information of $c, m$)"
   ]
  },
  {
   "cell_type": "markdown",
   "metadata": {
    "collapsed": true
   },
   "source": [
    "### 3.2.3. PI Control\n",
    "- PI control\n",
    "$$u(t) = k_p e(t) + k_I \\int_0^t e(\\tau)\\,d\\tau$$"
   ]
  },
  {
   "cell_type": "code",
   "execution_count": 10,
   "metadata": {
    "collapsed": false
   },
   "outputs": [
    {
     "data": {
      "image/png": "[encoded data removed]",
      "text/plain": [
       "<matplotlib.figure.Figure at 0x21a525e24a8>"
      ]
     },
     "metadata": {},
     "output_type": "display_data"
    }
   ],
   "source": [
    "## PI Control\n",
    "\n",
    "# Adjust Parameters\n",
    "\n",
    "kP =  1.0\n",
    "kI =  2.0\n",
    "r  = 50.0\n",
    "c  =  1.0\n",
    "m  =  1.0\n",
    "v  = [0.0] # initial velocity\n",
    "tt = 10.0  # termination time\n",
    "\n",
    "gamma = 0.5\n",
    "\n",
    "# Constants & initial values\n",
    "\n",
    "dt =  0.1\n",
    "t  =  [0.0]\n",
    "n  =  int(tt / dt) + 1\n",
    "E  =  0.0\n",
    "\n",
    "# Function Definition\n",
    "\n",
    "def input_(e, v):\n",
    "    u = kP * e + kI * E\n",
    "    return u\n",
    "\n",
    "def error(v, E):\n",
    "    e = r - v\n",
    "    E = E + e * dt\n",
    "    return e, E\n",
    "\n",
    "def deriv(u, v):\n",
    "    a = c * u / m - gamma * v\n",
    "    return a\n",
    "\n",
    "# Compute\n",
    "\n",
    "for i in range(0, n):\n",
    "    [e, E] = error(v[i], E)\n",
    "    u = input_(e, v[i])\n",
    "    a = deriv(u, v[i])\n",
    "    v.append(v[i] + a * dt)\n",
    "    t.append(t[i] + dt)\n",
    "    \n",
    "# Plot Velcoity\n",
    "\n",
    "plt.plot(t, v)\n",
    "plt.ylim(0, r + 10.0)\n",
    "plt.xlabel('time')\n",
    "plt.ylabel('velocity')\n",
    "plt.show()"
   ]
  },
  {
   "cell_type": "markdown",
   "metadata": {},
   "source": [
    "- It can cause osillations."
   ]
  },
  {
   "cell_type": "markdown",
   "metadata": {},
   "source": [
    "### 3.2.4. PID Control\n",
    "- PID control\n",
    "\n",
    "$$u(t) = k_p e(t) + k_I \\int_0^t e(\\tau)\\,d\\tau + k_D \\frac {de(t)}{dt}$$\n",
    "\n",
    "- P: medium response speed, stablizing\n",
    "- I: slow response speed, traking and disturbance rejection, may cause oscillations\n",
    "- D: fast response speed, sensitive to noise"
   ]
  },
  {
   "cell_type": "code",
   "execution_count": 11,
   "metadata": {
    "collapsed": false
   },
   "outputs": [
    {
     "data": {
      "image/png": "[encoded data removed]",
      "text/plain": [
       "<matplotlib.figure.Figure at 0x21a52f61ac8>"
      ]
     },
     "metadata": {},
     "output_type": "display_data"
    }
   ],
   "source": [
    "## PID Control\n",
    "\n",
    "# Adjust Parameters\n",
    "\n",
    "kP =  1.0\n",
    "kI =  2.0\n",
    "kD =  0.1\n",
    "r  = 50.0\n",
    "c  =  1.0\n",
    "m  =  1.0\n",
    "v  = [0.0] # initial velocity\n",
    "tt = 10.0  # termination time\n",
    "\n",
    "gamma = 0.5\n",
    "\n",
    "# Constants & initial values\n",
    "\n",
    "dt =  0.1\n",
    "t  =  [0.0]\n",
    "n  =  int(tt / dt) + 1\n",
    "eo =  r\n",
    "E  =  0.0\n",
    "de =  0.0\n",
    "\n",
    "# Function Definition\n",
    "\n",
    "def input_(e, v):\n",
    "    u = kP * e + kI * E + kD * de\n",
    "    return u\n",
    "\n",
    "def error(v, E, de, eo):\n",
    "    e = r - v\n",
    "    E = E + e * dt\n",
    "    ed= (e - de) / dt\n",
    "    eo = e\n",
    "    return e, E, de, eo\n",
    "\n",
    "def deriv(u, v):\n",
    "    a = c * u / m - gamma * v\n",
    "    return a\n",
    "\n",
    "# Compute\n",
    "\n",
    "for i in range(0, n):\n",
    "    [e, E, de, eo] = error(v[i], E, de, eo)\n",
    "    u = input_(e, v[i])\n",
    "    a = deriv(u, v[i])\n",
    "    v.append(v[i] + a * dt)\n",
    "    t.append(t[i] + dt)\n",
    "    \n",
    "# Plot Velcoity\n",
    "\n",
    "plt.plot(t, v)\n",
    "plt.ylim(0, r + 10.0)\n",
    "plt.xlabel('time')\n",
    "plt.ylabel('velocity')\n",
    "plt.show()"
   ]
  },
  {
   "cell_type": "markdown",
   "metadata": {},
   "source": [
    "# 4. Examples\n",
    "\n",
    "## 4.1. PID Navigation"
   ]
  },
  {
   "cell_type": "code",
   "execution_count": 13,
   "metadata": {
    "collapsed": false
   },
   "outputs": [
    {
     "data": {
      "image/png": "[encoded data removed]",
      "text/plain": [
       "<matplotlib.figure.Figure at 0x21a68698eb8>"
      ]
     },
     "metadata": {},
     "output_type": "display_data"
    }
   ],
   "source": [
    "## PID Control for Nevigation Avoiding Arbitrary Obstacles\n",
    "\n",
    "# User Setting\n",
    "\n",
    "kP = 1.0\n",
    "kI = 0.5\n",
    "kD = 0.1\n",
    "v  = 0.2  # constant speed\n",
    "th = 0.0  # initial angle\n",
    "rad= 0.5  # sensing radius\n",
    "\n",
    "gamma = 0.5\n",
    "obstN = 40  # number of obstacle\n",
    "size  = 4.0  # feild size\n",
    "\n",
    "goal= [size * 1.1, size * 1.1]  # setting goal point\n",
    "pos = [-0.1, -0.1]  # setting starting point\n",
    "\n",
    "# Function Definition\n",
    "\n",
    "def getDist(a, b):\n",
    "    dist = ((a[0] - b[0]) ** 2.0 + (a[1] - b[1]) ** 2.0) ** 0.5\n",
    "    return dist\n",
    "\n",
    "def getAngle(a, b):\n",
    "    angle = np.angle(b[0] - a[0] + (b[1] - a[1]) * 1j)\n",
    "    return angle\n",
    "\n",
    "def nearObst(pos, obst):\n",
    "    dist = size * 2\n",
    "    obstAngle = 0.0\n",
    "    for i in range(0, obst.size // 2):\n",
    "        dist_ = getDist(pos, obst[i])\n",
    "        if dist_ < dist:\n",
    "            dist = dist_\n",
    "            obstAngle = getAngle(pos, obst[i])\n",
    "    return dist, obstAngle\n",
    "\n",
    "\n",
    "def input_(e, E, de):\n",
    "    u = kP * e + kI * E + kD * de\n",
    "    return u\n",
    "\n",
    "def error(th, r, E, de, eo):\n",
    "    e = r - th\n",
    "    E = E + e * dt\n",
    "    ed = (e - de) / dt\n",
    "    eo = e\n",
    "    return e, E, de, eo\n",
    "\n",
    "def reference(pos, obst, goal):\n",
    "    r = getAngle(pos, goal)\n",
    "    if not obstN == 0:\n",
    "        [dist, obstAngle] = nearObst(pos, obst)\n",
    "        if dist < rad:\n",
    "            if abs((obstAngle - np.pi) * 0.8 - r * 0.8) > abs((obstAngle + np.pi) * 0.8 - r * 0.8):\n",
    "                r = (obstAngle + np.pi) * 0.8 + r * 0.2\n",
    "            else:\n",
    "                r = (obstAngle - np.pi) * 0.8 + r * 0.2\n",
    "    return r\n",
    "\n",
    "def deriv(w, pos, th):\n",
    "    pos[0] += v * np.cos(th) * dt\n",
    "    pos[1] += v * np.sin(th) * dt\n",
    "    th += w * dt\n",
    "    return pos, th\n",
    "\n",
    "# Computing\n",
    "\n",
    "dt    = 0.1\n",
    "t     = 0.0\n",
    "r_old = 0.0\n",
    "E     = 0.0\n",
    "eo    = 0.0\n",
    "de    = 0.0\n",
    "\n",
    "obst = np.random.rand(obstN, 2) * size\n",
    "\n",
    "escape = 0\n",
    "\n",
    "plt.plot(obst[:, 0], obst[:, 1], 'ro')\n",
    "plt.plot([pos[0], goal[0]], [pos[1], goal[1]], 'ko')\n",
    "plt.xlim(-size * 0.1, size * 1.5)\n",
    "plt.ylim(-size * 0.1, size * 1.5)\n",
    "\n",
    "while escape == 0 :\n",
    "    r = reference(pos, obst, goal)\n",
    "    [e, E, de, eo] = error(th, r, E, de, eo)\n",
    "    w = input_(e, E, de)\n",
    "    [pos, th] = deriv(w, pos, th)\n",
    "    \n",
    "    plt.plot(pos[0], pos[1], 'b.')\n",
    "    \n",
    "    if getDist(pos, goal) < 0.1:\n",
    "        escape = 1\n",
    "    \n",
    "plt.show()"
   ]
  },
  {
   "cell_type": "code",
   "execution_count": 2,
   "metadata": {
    "collapsed": false
   },
   "outputs": [
    {
     "data": {
      "application/javascript": [
       "$.getScript('https://kmahelona.github.io/ipython_notebook_goodies/ipython_notebook_toc.js')"
      ],
      "text/plain": [
       "<IPython.core.display.Javascript object>"
      ]
     },
     "metadata": {},
     "output_type": "display_data"
    }
   ],
   "source": [
    "%%javascript\n",
    "$.getScript('https://kmahelona.github.io/ipython_notebook_goodies/ipython_notebook_toc.js')"
   ]
  }
 ],
 "metadata": {
  "anaconda-cloud": {},
  "kernelspec": {
   "display_name": "Python 2",
   "language": "python",
   "name": "python2"
  },
  "language_info": {
   "codemirror_mode": {
    "name": "ipython",
    "version": 2
   },
   "file_extension": ".py",
   "mimetype": "text/x-python",
   "name": "python",
   "nbconvert_exporter": "python",
   "pygments_lexer": "ipython2",
   "version": "2.7.11"
  }
 },
 "nbformat": 4,
 "nbformat_minor": 0
}
