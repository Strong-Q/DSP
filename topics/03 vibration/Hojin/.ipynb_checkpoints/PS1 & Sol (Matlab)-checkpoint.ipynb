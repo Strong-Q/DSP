{
 "cells": [
  {
   "cell_type": "markdown",
   "metadata": {
    "collapsed": true
   },
   "source": [
    "## Problem 1.\n",
    "\n",
    "Write a m-code to create an output matrix Y which consists of only even numbers (in order) from the given input X.\n",
    "\n",
    "For example,\n",
    "- Input X = [1, 2, …,10]\n",
    "- Output Y = [2, 4,…,10] "
   ]
  },
  {
   "cell_type": "code",
   "execution_count": 1,
   "metadata": {
    "collapsed": false
   },
   "outputs": [
    {
     "data": {
      "text/plain": [
       "X =\r\n",
       "\r\n",
       "     1     2     3     4     5     6     7     8     9    10\r\n",
       "\r\n",
       "\r\n",
       "Y =\r\n",
       "\r\n",
       "     2     4     6     8    10"
      ]
     },
     "execution_count": 1,
     "metadata": {},
     "output_type": "execute_result"
    }
   ],
   "source": [
    "clear all\n",
    "clc\n",
    "\n",
    "X = 1:10;\n",
    "n = length(X);\n",
    "Y = [];\n",
    "\n",
    "for i = 1:n\n",
    "    if mod(X(i),2) == 0 % if X(i) is an even number\n",
    "       Y = [Y X(i)]; \n",
    "    end\n",
    "end\n",
    "\n",
    "display(X)\n",
    "display(Y)"
   ]
  },
  {
   "cell_type": "markdown",
   "metadata": {},
   "source": [
    "## Problem 2.\n",
    "\n",
    "Given an integer $n$, write a m-code to compute the following:\n",
    "\n",
    "$$S = 1 + \\frac{1}{2} + … + \\frac{1}{n}$$"
   ]
  },
  {
   "cell_type": "code",
   "execution_count": 5,
   "metadata": {
    "collapsed": false
   },
   "outputs": [
    {
     "data": {
      "text/plain": [
       "S =\r\n",
       "\r\n",
       "    2.9290"
      ]
     },
     "execution_count": 5,
     "metadata": {},
     "output_type": "execute_result"
    }
   ],
   "source": [
    "% first method\n",
    "n = 10;\n",
    "m = zeros(1,n);\n",
    "\n",
    "for i = 1:n\n",
    "    m(i) = 1/i;    \n",
    "end\n",
    "\n",
    "S = sum(m)"
   ]
  },
  {
   "cell_type": "code",
   "execution_count": 3,
   "metadata": {
    "collapsed": false
   },
   "outputs": [
    {
     "data": {
      "text/plain": [
       "S =\r\n",
       "\r\n",
       "    2.9290"
      ]
     },
     "execution_count": 3,
     "metadata": {},
     "output_type": "execute_result"
    }
   ],
   "source": [
    "% second method\n",
    "n = 10;\n",
    "temp_sum = 0;\n",
    "\n",
    "for i = 1:n\n",
    "    temp_sum = temp_sum + 1/i;\n",
    "end\n",
    "\n",
    "S = temp_sum"
   ]
  },
  {
   "cell_type": "markdown",
   "metadata": {},
   "source": [
    "## Problem 3.\n",
    "\n",
    "Plot $\\;f(t) = \\frac{3}{2} \\sin^2(t) + 3 \\cos^2(t) + 1\\;$ for $\\;0\\leq t \\leq 3$, and find $\\,t\\,$ that minimizes $f(t)$."
   ]
  },
  {
   "cell_type": "code",
   "execution_count": 6,
   "metadata": {
    "collapsed": false
   },
   "outputs": [
    {
     "data": {
      "image/png": "[encoded data removed]",
      "text/plain": [
       "<IPython.core.display.Image object>"
      ]
     },
     "metadata": {},
     "output_type": "display_data"
    },
    {
     "data": {
      "text/plain": [
       "ans =\r\n",
       "\r\n",
       "    1.5700"
      ]
     },
     "execution_count": 6,
     "metadata": {},
     "output_type": "execute_result"
    }
   ],
   "source": [
    "t = 0:0.01:3;\n",
    "X1 = sin(t);\n",
    "X2 = cos(t);\n",
    "\n",
    "a1 = 1.5;\n",
    "a2 = 3;\n",
    "a3 = 1;\n",
    "\n",
    "c = a1*(X1.^2) + a2*(X2.^2) + a3;\n",
    "\n",
    "plot(t,c)\n",
    "\n",
    "[Y, I] = min(c);\n",
    "t(I)"
   ]
  },
  {
   "cell_type": "markdown",
   "metadata": {},
   "source": [
    "## Problem 4.\n",
    "Read data from Excel (PB4.xls) and write new values which are multiplied by 2 to the adjacent cells in the same Excel file."
   ]
  },
  {
   "cell_type": "code",
   "execution_count": 7,
   "metadata": {
    "collapsed": false
   },
   "outputs": [
    {
     "data": {
      "text/plain": [
       "A =\r\n",
       "\r\n",
       "     1     2\r\n",
       "     2     4\r\n",
       "     3     6\r\n",
       "     4     8\r\n",
       "\r\n",
       "\r\n",
       "B =\r\n",
       "\r\n",
       "     2     4\r\n",
       "     4     8\r\n",
       "     6    12\r\n",
       "     8    16\r\n",
       "\r\n",
       "\r\n",
       "R =\r\n",
       "\r\n",
       "     2     4\r\n",
       "     4     8\r\n",
       "     6    12\r\n",
       "     8    16"
      ]
     },
     "execution_count": 7,
     "metadata": {},
     "output_type": "execute_result"
    }
   ],
   "source": [
    "A = xlsread('PB4.xls')\n",
    "B = 2*A\n",
    "R = [B]\n",
    "xlswrite('PB4.xls',R,'C5:C8')"
   ]
  },
  {
   "cell_type": "markdown",
   "metadata": {},
   "source": [
    "## Problem 5.\n",
    "\n",
    "Plot $\\;f(x) = \\sin{x} \\cdotp e^x + \\log_{10}(3x) + \\frac{1}{\\sqrt{2x + 7}}\\;$ for $\\;0 \\leq x \\leq \\pi$, and find $x$ that maximizes $f(x)$."
   ]
  },
  {
   "cell_type": "code",
   "execution_count": 8,
   "metadata": {
    "collapsed": false
   },
   "outputs": [
    {
     "data": {
      "image/png": "[encoded data removed]",
      "text/plain": [
       "<IPython.core.display.Image object>"
      ]
     },
     "metadata": {},
     "output_type": "display_data"
    },
    {
     "data": {},
     "execution_count": 8,
     "metadata": {},
     "output_type": "execute_result"
    }
   ],
   "source": [
    "x = linspace(0,pi,100);\n",
    "y = sin(x).*exp(x)+log10(3*x)+1./sqrt(2*x+7);\n",
    "\n",
    "plot(x,y)"
   ]
  },
  {
   "cell_type": "markdown",
   "metadata": {},
   "source": [
    "## Problem 6.\n",
    "\n",
    "$M = \\begin{bmatrix}\n",
    "1 & 4 & -3\\\\\n",
    "4 & 2 & 0\\\\\n",
    "-3 & 0 & 3\n",
    "\\end{bmatrix}$, calculate $(M^TM)'M^2$"
   ]
  },
  {
   "cell_type": "code",
   "execution_count": 9,
   "metadata": {
    "collapsed": false
   },
   "outputs": [
    {
     "data": {
      "text/plain": [
       "ans =\r\n",
       "\r\n",
       "    26    12   -12\r\n",
       "    12    20   -12\r\n",
       "   -12   -12    18\r\n",
       "\r\n",
       "\r\n",
       "ans =\r\n",
       "\r\n",
       "    0.0600   -0.0200    0.0267\r\n",
       "   -0.0200    0.0900    0.0467\r\n",
       "    0.0267    0.0467    0.1044\r\n",
       "\r\n",
       "\r\n",
       "ans =\r\n",
       "\r\n",
       "    1.0000    0.0000   -0.0000\r\n",
       "         0    1.0000    0.0000\r\n",
       "         0    0.0000    1.0000"
      ]
     },
     "execution_count": 9,
     "metadata": {},
     "output_type": "execute_result"
    }
   ],
   "source": [
    "M = [1 4 -3; 4 2 0; -3 0 3];\n",
    "M'*M\n",
    "inv(M'*M)\n",
    "\n",
    "inv(M'*M)*M^2"
   ]
  }
 ],
 "metadata": {
  "anaconda-cloud": {},
  "kernelspec": {
   "display_name": "Matlab",
   "language": "matlab",
   "name": "matlab_kernel"
  },
  "language_info": {
   "file_extension": ".m",
   "help_links": [
    {
     "text": "MetaKernel Magics",
     "url": "https://github.com/calysto/metakernel/blob/master/metakernel/magics/README.md"
    }
   ],
   "mimetype": "text/x-matlab",
   "name": "octave"
  }
 },
 "nbformat": 4,
 "nbformat_minor": 0
}
