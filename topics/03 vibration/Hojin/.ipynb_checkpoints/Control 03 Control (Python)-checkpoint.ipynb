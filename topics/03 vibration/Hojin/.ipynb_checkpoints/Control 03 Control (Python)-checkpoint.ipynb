{
 "cells": [
  {
   "cell_type": "markdown",
   "metadata": {},
   "source": [
    "<font size = '6'><b>Control with Python</b></font>\n",
    "\n",
    "<table style=\"border-style: hidden; border-collapse: collapse;\" width = \"80%\"> \n",
    "    <tr style=\"border-style: hidden; border-collapse: collapse;\">\n",
    "        <td width = 50% style=\"border-style: hidden; border-collapse: collapse;\">\n",
    "             \n",
    "        </td>\n",
    "        <td width = 30%>\n",
    "            Prof. Seungchul Lee<br>iSystems (http://isystems.unist.ac.kr/)<br>UNIST\n",
    "        </td>\n",
    "    </tr>\n",
    "</table>\n",
    "\n",
    "\n",
    "Table of Contents\n",
    "<div id=\"toc\"></div>"
   ]
  },
  {
   "cell_type": "markdown",
   "metadata": {},
   "source": [
    "# 1. PID Control\n",
    "\n",
    "- [1.5 Control Design Basics | Control of Mobile Robots](https://www.youtube.com/watch?v=9NxhjYI7YbU)\n",
    "\n",
    "For the given car model\n",
    "\n",
    "$$ \\dot{x} = \\frac{c}{m}u \\quad \\text{for the velocity of a car,} \\,\\, x $$\n",
    "\n",
    "In a bloack diagram\n",
    "\n",
    "<img src=\"image_files/car_model.png\" width=300/>\n",
    "\n",
    "in a Laplace transform\n",
    "<img src=\"image_files/car_model_Laplace.png\" width=300/>\n",
    "\n",
    "We want to achieve\n",
    "$$ x \\rightarrow r \\quad \\text{as} \\quad t \\rightarrow \\infty \\,\\,(e=r-x \\rightarrow 0) $$"
   ]
  },
  {
   "cell_type": "markdown",
   "metadata": {},
   "source": [
    "## Attempt 2: P Regulator\n",
    "\n",
    "$$u = ke$$\n",
    "\n",
    "> - small error yeilds small control signals\n",
    "\n",
    "> - nice and smooth\n",
    "\n",
    "> - so-called proportional regulation (P regulator)\n",
    "\n",
    "<img src=\"image_files/car_model_Kp.png\" width=400/>"
   ]
  },
  {
   "cell_type": "code",
   "execution_count": 29,
   "metadata": {
    "collapsed": true
   },
   "outputs": [],
   "source": [
    "import control\n",
    "import numpy as np\n",
    "import matplotlib.pyplot as plt\n",
    "from control import *\n",
    "\n",
    "% matplotlib inline"
   ]
  },
  {
   "cell_type": "code",
   "execution_count": 30,
   "metadata": {
    "collapsed": false
   },
   "outputs": [
    {
     "data": {
      "image/png": "[encoded data removed]",
      "text/plain": [
       "<matplotlib.figure.Figure at 0x22e75742e10>"
      ]
     },
     "metadata": {},
     "output_type": "display_data"
    }
   ],
   "source": [
    "c = 1\n",
    "m = 1\n",
    "\n",
    "G = tf(c/m,[1,0])\n",
    "\n",
    "k = 5\n",
    "C = k\n",
    "\n",
    "Gcl = feedback(C*G,1,-1)\n",
    "\n",
    "t = np.linspace(0,5,100)\n",
    "r = 70*np.ones(t.shape)\n",
    "x0 = 0\n",
    "\n",
    "[y,tout,x] = lsim(Gcl,r,t,x0)\n",
    "\n",
    "plt.plot(tout,y)\n",
    "plt.xlabel('t')\n",
    "plt.ylim(0,75)\n",
    "\n",
    "plt.show()"
   ]
  },
  {
   "cell_type": "markdown",
   "metadata": {},
   "source": [
    "## What if the true system is:\n",
    "\n",
    "$$ \\dot{x} = \\frac{c}{m}u - \\gamma x$$"
   ]
  },
  {
   "cell_type": "code",
   "execution_count": 31,
   "metadata": {
    "collapsed": false
   },
   "outputs": [
    {
     "data": {
      "image/png": "[encoded data removed]",
      "text/plain": [
       "<matplotlib.figure.Figure at 0x22e775d0f98>"
      ]
     },
     "metadata": {},
     "output_type": "display_data"
    }
   ],
   "source": [
    "gamma = 1\n",
    "Gtr = tf(c/m,[1,gamma])\n",
    "C = k\n",
    "\n",
    "Gcl = feedback(C*Gtr,1,-1)\n",
    "\n",
    "x0 = 0\n",
    "t = np.linspace(0,5,100)\n",
    "r = 70*np.ones(t.shape)\n",
    "\n",
    "[y,tout,x] = lsim(Gcl,r,t,x0)\n",
    "\n",
    "plt.plot(tout,y)\n",
    "plt.xlabel('t')\n",
    "plt.ylim(0,75)\n",
    "\n",
    "plt.show()"
   ]
  },
  {
   "cell_type": "markdown",
   "metadata": {},
   "source": [
    "## Attempt 3\n",
    "> - [1.6 Performance Objectives | Control of Mobile Robots](https://www.youtube.com/watch?v=_lIHypFihuI)\n",
    "\n",
    "> - [1.7 PID Control | Control of Mobile Robots](https://www.youtube.com/watch?v=I5nAynPdNJY)"
   ]
  },
  {
   "cell_type": "markdown",
   "metadata": {},
   "source": [
    "$$u = ke + \\gamma \\frac{m}{c}x$$\n",
    "\n",
    "However all of sudden we have to know all these physical parameters that we typically do not know - not robust !!!\n",
    "\n",
    "## Attempt 4: PI Regulators\n",
    "- Stability (BIBO)\n",
    "- Tracking\n",
    "- Robustness\n",
    "\n",
    "$$ u(t) = k_P \\, e(t) + k_I \\int_0^t e(\\tau)d\\tau $$\n",
    "\n",
    "<img src=\"image_files/true_car_Kp_Ki.png\" width=400/>"
   ]
  },
  {
   "cell_type": "code",
   "execution_count": 32,
   "metadata": {
    "collapsed": false
   },
   "outputs": [
    {
     "data": {
      "image/png": "[encoded data removed]",
      "text/plain": [
       "<matplotlib.figure.Figure at 0x22e7751da20>"
      ]
     },
     "metadata": {},
     "output_type": "display_data"
    }
   ],
   "source": [
    "Gtr = tf(c/m,[1,gamma])\n",
    "kP = 5\n",
    "kI = 5\n",
    "C = tf([kP,kI],[1,0])\n",
    "\n",
    "Gcl = feedback(C*Gtr,1,-1)\n",
    "\n",
    "x0 = 0\n",
    "t = np.linspace(0,5,100)\n",
    "r = 70*np.ones(t.shape)\n",
    "\n",
    "[y,tout,x] = lsim(Gcl,r,t,x0)\n",
    "\n",
    "plt.plot(tout, y)\n",
    "plt.xlabel('t')\n",
    "plt.ylim(0,75)\n",
    "\n",
    "plt.show()"
   ]
  },
  {
   "cell_type": "markdown",
   "metadata": {},
   "source": [
    "---\n",
    "# 2. Root Locus\n",
    "> - [Brian Douglas](https://www.youtube.com/watch?v=CRvVDoQJjYI&index=21&list=PLUMWjy5jgHK1NC52DXXrriwihVrYZKqjk \"youtube\")\n",
    "\n",
    "> - from [umich control](http://ctms.engin.umich.edu/CTMS/index.php?example=Introduction&section=ControlRootLocus)"
   ]
  },
  {
   "cell_type": "code",
   "execution_count": 33,
   "metadata": {
    "collapsed": false
   },
   "outputs": [
    {
     "data": {
      "image/png": "[encoded data removed]",
      "text/plain": [
       "<matplotlib.figure.Figure at 0x22e763234e0>"
      ]
     },
     "metadata": {},
     "output_type": "display_data"
    }
   ],
   "source": [
    "sys = tf([1,7],[1,0])*tf(1,[1,5])*tf(1,[1,15])*tf(1,[1,20])\n",
    "\n",
    "[y, tout] = step(sys)\n",
    "\n",
    "plt.plot(tout, y)\n",
    "plt.xlabel('t')\n",
    "plt.axis('tight')\n",
    "plt.title('unstable step response')\n",
    "\n",
    "plt.show()"
   ]
  },
  {
   "cell_type": "code",
   "execution_count": 34,
   "metadata": {
    "collapsed": false
   },
   "outputs": [
    {
     "name": "stdout",
     "output_type": "stream",
     "text": [
      "[-20. -15.  -5.   0.]\n"
     ]
    }
   ],
   "source": [
    "print(pole(sys))"
   ]
  },
  {
   "cell_type": "code",
   "execution_count": 35,
   "metadata": {
    "collapsed": false
   },
   "outputs": [
    {
     "data": {
      "image/png": "[encoded data removed]",
      "text/plain": [
       "<matplotlib.figure.Figure at 0x22e75742048>"
      ]
     },
     "metadata": {},
     "output_type": "display_data"
    }
   ],
   "source": [
    "G = sys\n",
    "\n",
    "# k = 10\n",
    "k = 800\n",
    "Gcl = feedback(k*G,1,-1)\n",
    "\n",
    "[y,tout] = step(Gcl)\n",
    "\n",
    "plt.plot(tout,y)\n",
    "plt.plot(tout,np.ones(tout.shape),'k--')\n",
    "plt.axis('tight')\n",
    "plt.ylim(0.0,1.2)\n",
    "\n",
    "plt.show()"
   ]
  },
  {
   "cell_type": "code",
   "execution_count": 36,
   "metadata": {
    "collapsed": false,
    "scrolled": true
   },
   "outputs": [
    {
     "data": {
      "image/png": "[encoded data removed]",
      "text/plain": [
       "<matplotlib.figure.Figure at 0x22e756fb320>"
      ]
     },
     "metadata": {},
     "output_type": "display_data"
    }
   ],
   "source": [
    "rlocus(G)\n",
    "plt.show()"
   ]
  },
  {
   "cell_type": "code",
   "execution_count": 37,
   "metadata": {
    "collapsed": false
   },
   "outputs": [
    {
     "data": {
      "image/png": "[encoded data removed]",
      "text/plain": [
       "<matplotlib.figure.Figure at 0x22e75751da0>"
      ]
     },
     "metadata": {},
     "output_type": "display_data"
    }
   ],
   "source": [
    "K = 350\n",
    "sys_cl = feedback(K*sys,1,-1) #negative feedback\n",
    "\n",
    "pzmap.pzmap(sys_cl)\n",
    "plt.show()"
   ]
  },
  {
   "cell_type": "code",
   "execution_count": 38,
   "metadata": {
    "collapsed": false
   },
   "outputs": [
    {
     "data": {
      "text/plain": [
       "\n",
       "             350 s + 2450\n",
       "--------------------------------------\n",
       "s^4 + 40 s^3 + 475 s^2 + 1850 s + 2450"
      ]
     },
     "execution_count": 38,
     "metadata": {},
     "output_type": "execute_result"
    }
   ],
   "source": [
    "sys_cl"
   ]
  },
  {
   "cell_type": "code",
   "execution_count": 39,
   "metadata": {
    "collapsed": false
   },
   "outputs": [
    {
     "data": {
      "image/png": "[encoded data removed]",
      "text/plain": [
       "<matplotlib.figure.Figure at 0x22e7760cd30>"
      ]
     },
     "metadata": {},
     "output_type": "display_data"
    }
   ],
   "source": [
    "[y,tout] = step(sys_cl)\n",
    "plt.plot(tout,y)\n",
    "plt.plot(tout,np.ones(tout.shape), 'k--')\n",
    "plt.axis('tight')\n",
    "plt.ylim(0,1.2)\n",
    "plt.xlabel('t')\n",
    "plt.title('step response')\n",
    "plt.show()"
   ]
  },
  {
   "cell_type": "markdown",
   "metadata": {},
   "source": [
    "# 3. State Space Representation\n",
    "\n",
    "> from [3.1 A Simple Robot | Control of Mobile Robots](https://www.youtube.com/watch?v=0DV5UV0peTI&list=PLciAw3uhNCiD3dkLTPJgHoMnsu8XgCt1m&index=22)\n",
    "\n",
    "> from [3.2 State Space Models | Control of Mobile Robots](https://www.youtube.com/watch?v=R5m1lzSGpQg&list=PLciAw3uhNCiD3dkLTPJgHoMnsu8XgCt1m&index=23)\n",
    "\n",
    "Controlling a point mass\n",
    "- Given a point mass on a line whose acceleration is directly controlled:\n",
    "$$ \\ddot{p} = u $$\n",
    "\n",
    "- want to write this on a compact/general form\n",
    "$$\n",
    "\\begin{align}\n",
    "\\dot{x}_1 &= x_2\\\\\n",
    "\\dot{x}_2 &= u\\\\\n",
    "\\end{align}\n",
    "$$\n",
    "\n",
    "- on a state space form\n",
    "$$\n",
    "\\begin{align}\n",
    "\\dot{x} &= \n",
    "\\left[ {\\begin{matrix}\n",
    "   \\dot{x}_1 \\\\\n",
    "   \\dot{x}_2 \\\\   \n",
    "  \\end{matrix} } \\right] =\n",
    "\\left[ {\\begin{matrix}\n",
    "   0 & 1 \\\\\n",
    "   0 & 0 \\\\   \n",
    "  \\end{matrix} } \\right]\n",
    "\\left[ {\\begin{array}{cc}\n",
    "   x_1 \\\\\n",
    "   x_2 \\\\   \n",
    "\\end{array} } \\right] +\n",
    "\\left[ {\\begin{array}{cc}\n",
    "   0 \\\\\n",
    "   1 \\\\   \n",
    "\\end{array} } \\right]u\\\\\n",
    "\\\\y & = p=x_1=\n",
    "\\left[ {\\begin{matrix}\n",
    "   1 & 0    \n",
    "\\end{matrix} } \\right]  \n",
    "\\left[ {\\begin{array}{cc}\n",
    "   x_1 \\\\\n",
    "   x_2 \\\\   \n",
    "\\end{array} } \\right]  \n",
    "\\end{align}\n",
    "$$\n",
    "\n",
    "## 3.1. The car model\n",
    "\n",
    "If we care about/can measure the velocity:\n",
    "\n",
    "$$ A = -\\gamma, \\qquad B = \\frac{c}{m}, \\qquad C = 1    $$\n",
    "\n",
    "If we care about/can measure the position we have the same general equation with different matrices:\n",
    "$$\n",
    "A = \n",
    "\\left[ {\\begin{matrix}\n",
    "   0 & 1 \\\\\n",
    "   0 & -\\gamma \\\\   \n",
    "\\end{matrix} } \\right], \\qquad\n",
    "B = \n",
    "\\left[ {\\begin{matrix}\n",
    "   0 \\\\\n",
    "   \\frac{c}{m} \\\\   \n",
    "\\end{matrix} } \\right], \\qquad\n",
    "C = \\left[ {\\begin{matrix}\n",
    "   1 \\quad 0 \\\\     \n",
    "\\end{matrix} } \\right]\n",
    "$$"
   ]
  },
  {
   "cell_type": "code",
   "execution_count": 40,
   "metadata": {
    "collapsed": false
   },
   "outputs": [
    {
     "data": {
      "image/png": "[encoded data removed]",
      "text/plain": [
       "<matplotlib.figure.Figure at 0x22e775f0c50>"
      ]
     },
     "metadata": {},
     "output_type": "display_data"
    }
   ],
   "source": [
    "#system in ss\n",
    "c = 1\n",
    "m = 1\n",
    "gamma = 1\n",
    "\n",
    "A = -gamma\n",
    "B = c/m\n",
    "C = 1\n",
    "D = 0\n",
    "\n",
    "Gss = ss(A,B,C,D)\n",
    "\n",
    "# P controller\n",
    "k = 5\n",
    "C = k\n",
    "\n",
    "# close loop\n",
    "Gcl = feedback(C*Gss,1,-1)\n",
    "\n",
    "x0 = 0\n",
    "t = np.linspace(0,5,100)\n",
    "r = 70*np.ones(t.shape)\n",
    "\n",
    "[y,tout,x] = lsim(Gcl,r,t,x0)\n",
    "\n",
    "plt.plot(tout,y)\n",
    "plt.xlabel('t')\n",
    "plt.ylim(0,70)\n",
    "\n",
    "plt.show()"
   ]
  },
  {
   "cell_type": "markdown",
   "metadata": {},
   "source": [
    "## 3.2. Back to the World's Simplest Robot (Output Feedback)\n",
    "\n",
    "> from [3.7 Output Feedback | Control of Mobile Robots](https://www.youtube.com/watch?v=cwTSlIsKvVY&index=28&list=PLciAw3uhNCiD3dkLTPJgHoMnsu8XgCt1m)\n",
    "\n",
    "$$u = -y$$\n",
    "\n",
    "<img src=\"image_files/outputfeedback.png\" width=400/>"
   ]
  },
  {
   "cell_type": "code",
   "execution_count": 41,
   "metadata": {
    "collapsed": false
   },
   "outputs": [
    {
     "data": {
      "image/png": "[encoded data removed]",
      "text/plain": [
       "<matplotlib.figure.Figure at 0x22e762d59b0>"
      ]
     },
     "metadata": {},
     "output_type": "display_data"
    }
   ],
   "source": [
    "# to move towards the origin\n",
    "# u = - y\n",
    "\n",
    "A = np.array([[0, 1],[0,0]])\n",
    "B = np.array([[0],[1]])\n",
    "C = [1,0]\n",
    "D = 0\n",
    "\n",
    "G = ss(A,B,C,D)\n",
    "\n",
    "K = 1\n",
    "x0 = np.array([[1,0]]).T\n",
    "t = np.linspace(0,10,100)\n",
    "r = np.zeros(t.shape)\n",
    "\n",
    "Gcl = feedback(G,K,-1)\n",
    "\n",
    "[y,tout,x] = lsim(Gcl,r,t,x0)\n",
    "\n",
    "plt.plot(tout,y)\n",
    "plt.xlabel('t')\n",
    "\n",
    "plt.show()"
   ]
  },
  {
   "cell_type": "markdown",
   "metadata": {},
   "source": [
    "# 4. State Feedback\n",
    "> from [3.8 State Feedback | Control of Mobile Robots](https://www.youtube.com/watch?v=yl5IiJOYQps&list=PLciAw3uhNCiD3dkLTPJgHoMnsu8XgCt1m&index=29)\n",
    "\n",
    "<img src=\"image_files/statefeedback.gif\" width=400/>\n",
    "\n",
    "To move forwards origin, $R = 0$\n"
   ]
  },
  {
   "cell_type": "code",
   "execution_count": 42,
   "metadata": {
    "collapsed": false
   },
   "outputs": [
    {
     "data": {
      "image/png": "[encoded data removed]",
      "text/plain": [
       "<matplotlib.figure.Figure at 0x22e75751898>"
      ]
     },
     "metadata": {},
     "output_type": "display_data"
    }
   ],
   "source": [
    "A = np.array([[0,1],[0,0]])\n",
    "B = np.array([[0],[1]])\n",
    "C = [1,0]\n",
    "D = 0\n",
    "\n",
    "G = ss(A,B,C,D)\n",
    "\n",
    "k1 = 1\n",
    "k2 = 1\n",
    "K = [k1,k2]\n",
    "\n",
    "Gcl = ss(A-B*K,B,C,D)\n",
    "\n",
    "x0 = np.array([[1,0]]).T\n",
    "t = np.linspace(0,10,100);\n",
    "r = np.zeros(t.shape)\n",
    "\n",
    "[y,tout,x] = lsim(Gcl,r,t,x0)\n",
    "\n",
    "plt.plot(tout,y)\n",
    "plt.plot(tout,np.zeros(tout.shape),'k--')\n",
    "plt.xlabel('t')\n",
    "\n",
    "plt.show()"
   ]
  },
  {
   "cell_type": "code",
   "execution_count": 43,
   "metadata": {
    "collapsed": false
   },
   "outputs": [
    {
     "name": "stdout",
     "output_type": "stream",
     "text": [
      "[-0.5+0.8660254j -0.5-0.8660254j]\n"
     ]
    }
   ],
   "source": [
    "print(np.linalg.eigvals(Gcl.A))"
   ]
  },
  {
   "cell_type": "markdown",
   "metadata": {},
   "source": [
    "Eigenvalues Matter \n",
    "- It is clear that some eigenvalues are better than others. Some cause oscillations, some make the system respond too slowly,\n",
    "and so forth ...\n",
    "- In the next module we will see how to select eigenvalues and how to pick control laws based on the output rather than the state."
   ]
  },
  {
   "cell_type": "markdown",
   "metadata": {},
   "source": [
    "## 4.1. Pole Placement\n",
    "> from [4.1 Stabilizing the Point Mass | Control of Mobile Robots](https://www.youtube.com/watch?v=i7-L1ik3Z04&list=PLciAw3uhNCiD3dkLTPJgHoMnsu8XgCt1m&index=34)\n",
    "\n",
    "> from [4.2 Pole Placement | Control of Mobile Robots](https://www.youtube.com/watch?v=1MXGmktHmCU&index=35&list=PLciAw3uhNCiD3dkLTPJgHoMnsu8XgCt1m)\n",
    "\n",
    " > back to the point-mass, again\n",
    " \n",
    " $$ u = -Kx \\rightarrow \\dot{x}=(A-BK)x $$\n",
    " \n",
    " $$\n",
    "\\begin{align}\n",
    "A-BK = \n",
    "\\left[ {\\begin{matrix}\n",
    "   0 & 1 \\\\\n",
    "   0 & 0 \\\\   \n",
    "  \\end{matrix} } \\right]-\n",
    "\\left[ {\\begin{array}{cc}\n",
    "   0 \\\\\n",
    "   1 \\\\   \n",
    "\\end{array} } \\right]\n",
    "\\left[ {\\begin{array}{cc}\n",
    "   k_1 \\,\\, k_2   \n",
    "\\end{array} } \\right]&=\n",
    "\\left[ {\\begin{matrix}\n",
    "   0 & 1 \\\\\n",
    "   -k_1 & -k_2 \\\\   \n",
    "\\end{matrix} } \\right]\n",
    "\\end{align}\n",
    "$$\n",
    "\n",
    "$$\n",
    "\\left| {\n",
    "\\begin{matrix}\n",
    "   0 & 1 \\\\\n",
    "   -k_1 & -k_2 \\\\   \n",
    "\\end{matrix} } \\right|=\n",
    "\\lambda^2 + \\lambda k_2 + k_1\n",
    "$$\n",
    "\n",
    "> Desired Eigenvalues\n",
    "\n",
    "> Let's pick both eigenvalues at -1\n",
    "\n",
    "$$ (\\lambda+1)(\\lambda+1) = \\lambda^2 + 2 \\lambda + 1 $$\n",
    "\n",
    "$$k_1 = 2, k_2 = 1 $$\n",
    "\n",
    "Pick the control gains such that the eigenvalues (poles) of the closed loop system match the desired eigenvalues\n",
    "\n",
    "Questions\n",
    "- Is this always possible? (No)\n",
    "- How should we pick the eigenvalues? (Mix of art and science)\n",
    "\n",
    "$$\n",
    "\\begin{align}\n",
    "\\dot{x} &= \n",
    "\\left[ {\\begin{matrix}\n",
    "   2 & 0 \\\\\n",
    "   1 & 1 \\\\   \n",
    "  \\end{matrix} } \\right]\n",
    "\\left[ {\\begin{array}{cc}\n",
    "   x_1 \\\\\n",
    "   x_2 \\\\   \n",
    "\\end{array} } \\right] +\n",
    "\\left[ {\\begin{array}{cc}\n",
    "   1 \\\\\n",
    "   1 \\\\   \n",
    "\\end{array} } \\right]u  \n",
    "\\end{align}\n",
    "$$\n",
    "\n",
    "$$\n",
    "\\begin{align}\n",
    "A-BK = \n",
    "\\left[ {\\begin{matrix}\n",
    "   2-k_1 & -k_2 \\\\\n",
    "   1-k_1 & 1-k_2 \\\\   \n",
    "\\end{matrix} } \\right]\n",
    "\\end{align}\n",
    "$$\n",
    "\n",
    "$$ \\varphi = \\lambda^2 + \\lambda (-3 + k_1 + k_2) + 2 - k_1 - k_2$$\n",
    "\n",
    "Suppose \n",
    "$$ \\varphi = (\\lambda+1)^2 = \\lambda^2 + \\lambda (-3 + k_1 + k_2) + 2 - k_1 - k_2$$\n",
    "\n",
    "Let's pick both eigenvalues at -1\n",
    "\n",
    "$$-3 + k_1 + k_2 = 2 \\quad \\text{and} \\quad 2 - k_1 - k_2 = 1$$\n",
    "\n",
    "$\\rightarrow$ no $k_1$ and $k_2$ exist\n",
    "\n",
    "What's at play here is a lack of ``controllability``, i.e., the effect of the input is not sufficiently rich to influence the system enough"
   ]
  },
  {
   "cell_type": "code",
   "execution_count": 44,
   "metadata": {
    "collapsed": false
   },
   "outputs": [
    {
     "ename": "ControlSlycot",
     "evalue": "can't find slycot module 'sb01bd'",
     "output_type": "error",
     "traceback": [
      "\u001b[1;31m---------------------------------------------------------------------------\u001b[0m",
      "\u001b[1;31mImportError\u001b[0m                               Traceback (most recent call last)",
      "\u001b[1;32mC:\\Users\\iSystems-UG\\Anaconda3\\lib\\site-packages\\control\\statefbk.py\u001b[0m in \u001b[0;36mplace\u001b[1;34m(A, B, p)\u001b[0m\n\u001b[0;32m     74\u001b[0m     \u001b[1;32mtry\u001b[0m\u001b[1;33m:\u001b[0m\u001b[1;33m\u001b[0m\u001b[0m\n\u001b[1;32m---> 75\u001b[1;33m         \u001b[1;32mfrom\u001b[0m \u001b[0mslycot\u001b[0m \u001b[1;32mimport\u001b[0m \u001b[0msb01bd\u001b[0m\u001b[1;33m\u001b[0m\u001b[0m\n\u001b[0m\u001b[0;32m     76\u001b[0m     \u001b[1;32mexcept\u001b[0m \u001b[0mImportError\u001b[0m\u001b[1;33m:\u001b[0m\u001b[1;33m\u001b[0m\u001b[0m\n",
      "\u001b[1;31mImportError\u001b[0m: No module named 'slycot'",
      "\nDuring handling of the above exception, another exception occurred:\n",
      "\u001b[1;31mControlSlycot\u001b[0m                             Traceback (most recent call last)",
      "\u001b[1;32m<ipython-input-44-ad6569834574>\u001b[0m in \u001b[0;36m<module>\u001b[1;34m()\u001b[0m\n\u001b[0;32m      8\u001b[0m \u001b[1;31m# P = [-5, -4];\u001b[0m\u001b[1;33m\u001b[0m\u001b[1;33m\u001b[0m\u001b[0m\n\u001b[0;32m      9\u001b[0m \u001b[1;33m\u001b[0m\u001b[0m\n\u001b[1;32m---> 10\u001b[1;33m \u001b[0mK\u001b[0m \u001b[1;33m=\u001b[0m \u001b[0mplace\u001b[0m\u001b[1;33m(\u001b[0m\u001b[0mA\u001b[0m\u001b[1;33m,\u001b[0m\u001b[0mB\u001b[0m\u001b[1;33m,\u001b[0m\u001b[0mP\u001b[0m\u001b[1;33m)\u001b[0m\u001b[1;33m\u001b[0m\u001b[0m\n\u001b[0m",
      "\u001b[1;32mC:\\Users\\iSystems-UG\\Anaconda3\\lib\\site-packages\\control\\statefbk.py\u001b[0m in \u001b[0;36mplace\u001b[1;34m(A, B, p)\u001b[0m\n\u001b[0;32m     75\u001b[0m         \u001b[1;32mfrom\u001b[0m \u001b[0mslycot\u001b[0m \u001b[1;32mimport\u001b[0m \u001b[0msb01bd\u001b[0m\u001b[1;33m\u001b[0m\u001b[0m\n\u001b[0;32m     76\u001b[0m     \u001b[1;32mexcept\u001b[0m \u001b[0mImportError\u001b[0m\u001b[1;33m:\u001b[0m\u001b[1;33m\u001b[0m\u001b[0m\n\u001b[1;32m---> 77\u001b[1;33m         \u001b[1;32mraise\u001b[0m \u001b[0mControlSlycot\u001b[0m\u001b[1;33m(\u001b[0m\u001b[1;34m\"can't find slycot module 'sb01bd'\"\u001b[0m\u001b[1;33m)\u001b[0m\u001b[1;33m\u001b[0m\u001b[0m\n\u001b[0m\u001b[0;32m     78\u001b[0m \u001b[1;33m\u001b[0m\u001b[0m\n\u001b[0;32m     79\u001b[0m     \u001b[1;31m# Convert the system inputs to NumPy arrays\u001b[0m\u001b[1;33m\u001b[0m\u001b[1;33m\u001b[0m\u001b[0m\n",
      "\u001b[1;31mControlSlycot\u001b[0m: can't find slycot module 'sb01bd'"
     ]
    }
   ],
   "source": [
    "A = np.array([[2,0],[1,-1]])\n",
    "B = np.array([[1],[1]])\n",
    "C = [1,0]\n",
    "\n",
    "P = np.array([[-0.5+1j,0.5-1j]])\n",
    "# P = [-0.1 + 1j, -0.1 - 1j];\n",
    "# P = [-0.5, -1];\n",
    "# P = [-5, -4];\n",
    "\n",
    "K = place(A,B,P)"
   ]
  },
  {
   "cell_type": "code",
   "execution_count": 45,
   "metadata": {
    "collapsed": true
   },
   "outputs": [],
   "source": [
    "K = [2.6260,-0.6250]"
   ]
  },
  {
   "cell_type": "markdown",
   "metadata": {},
   "source": [
    "$$ \\dot{x} = Ax + Bu = Ax-BKx = (A-BK)x $$"
   ]
  },
  {
   "cell_type": "code",
   "execution_count": 46,
   "metadata": {
    "collapsed": false
   },
   "outputs": [
    {
     "data": {
      "image/png": "[encoded data removed]",
      "text/plain": [
       "<matplotlib.figure.Figure at 0x22e775eca58>"
      ]
     },
     "metadata": {},
     "output_type": "display_data"
    }
   ],
   "source": [
    "x0 = np.array([[1],[1]])\n",
    "Gcl = ss(A-B*K,B,C,0)\n",
    "\n",
    "t = np.linspace(0,5,100)\n",
    "u = np.zeros(t.shape)\n",
    "\n",
    "[y,tout,x] = lsim(Gcl,u,t,x0)\n",
    "\n",
    "plt.plot(tout,y)\n",
    "plt.xlabel('t')\n",
    "plt.plot(tout,np.zeros(tout.shape),'k--')\n",
    "\n",
    "plt.show()"
   ]
  },
  {
   "cell_type": "markdown",
   "metadata": {},
   "source": [
    "## 4.2. Controllability\n",
    "\n",
    "- When can we place the eigenvalues using state feedback?\n",
    "\n",
    "- When is B matrix (the actuator configuration) rich enough so that we can make the system do whatever we want it to do?\n",
    "\n",
    "- The answer revolves around the concept of ``controllability``\n",
    "\n",
    "> Given a discrete-time system\n",
    "\n",
    "$$x_{k+1} = Ax_k + Bu_k$$\n",
    "\n",
    "We would like to drive this system in $n$ steps to a particular target state $x^{*}$ \n",
    "\n",
    "$$\n",
    "\\begin{align}\n",
    "x_1 &= Ax_0 + Bu_0 = Bu_0\\\\\n",
    "x_2 &= Ax_1 + Bu_1 = ABu_0 + Bu_1\\\\\n",
    "x_3 &= Ax_2 + Bu_2 = A^2Bu_0 + ABu_1 + Bu_2\\\\\n",
    "&\\vdots\\\\\n",
    "x_n &= A^{n-1}Bu_0 + \\cdots + Bu_{n-1}\\\\\n",
    "\\end{align}\n",
    "$$\n",
    "\n",
    "We want to solve\n",
    "\n",
    "$$\n",
    "\\begin{align}\n",
    "x^{*} &= \n",
    "\\left[ {\\begin{matrix}\n",
    "   B & AB & \\cdots & A^{n-1}B\\\\   \n",
    "  \\end{matrix} } \\right]\n",
    "\\left[ {\\begin{array}{cc}\n",
    "   u_{n-1} \\\\\n",
    "   \\vdots \\\\   \n",
    "   u_1\\\\\n",
    "   u_0\n",
    "\\end{array} } \\right] \n",
    "\\end{align}\n",
    "$$\n",
    "\n",
    "This is possible for any target state if and only if \n",
    "$$\n",
    "\\text{rank}\\left(\\left[ {\\begin{matrix}\n",
    "   B & AB & \\cdots & A^{n-1}B\\\\   \n",
    "  \\end{matrix} } \\right]\\right) = n\n",
    "$$\n",
    "\n",
    "__Example 1__\n",
    "\n",
    "$$\n",
    "\\begin{align}\n",
    "\\dot{x} &= \n",
    "\\left[ {\\begin{matrix}\n",
    "   2 & 0 \\\\\n",
    "   1 & 1 \\\\   \n",
    "  \\end{matrix} } \\right]\n",
    "\\left[ {\\begin{array}{cc}\n",
    "   x_1 \\\\\n",
    "   x_2 \\\\   \n",
    "\\end{array} } \\right] +\n",
    "\\left[ {\\begin{array}{cc}\n",
    "   1 \\\\\n",
    "   1 \\\\   \n",
    "\\end{array} } \\right]u  \n",
    "\\end{align}\n",
    "$$"
   ]
  },
  {
   "cell_type": "code",
   "execution_count": 47,
   "metadata": {
    "collapsed": false
   },
   "outputs": [
    {
     "name": "stdout",
     "output_type": "stream",
     "text": [
      "[[1 2]\n",
      " [1 2]]\n"
     ]
    }
   ],
   "source": [
    "A = np.array([[2,0],[1,1]])\n",
    "B = np.array([[1],[1]])     \n",
    "\n",
    "G = ctrb(A,B)\n",
    "print(G)"
   ]
  },
  {
   "cell_type": "code",
   "execution_count": 48,
   "metadata": {
    "collapsed": false
   },
   "outputs": [
    {
     "name": "stdout",
     "output_type": "stream",
     "text": [
      "1\n"
     ]
    }
   ],
   "source": [
    "print(np.linalg.matrix_rank(G))"
   ]
  },
  {
   "cell_type": "markdown",
   "metadata": {},
   "source": [
    "__Example 2__\n",
    "\n",
    "$$\n",
    "\\begin{align}\n",
    "\\dot{x} &= \n",
    "\\left[ {\\begin{matrix}\n",
    "   0 & 1 \\\\\n",
    "   0 & 0 \\\\   \n",
    "  \\end{matrix} } \\right]\n",
    "\\left[ {\\begin{array}{cc}\n",
    "   x_1 \\\\\n",
    "   x_2 \\\\   \n",
    "\\end{array} } \\right] +\n",
    "\\left[ {\\begin{array}{cc}\n",
    "   0 \\\\\n",
    "   1 \\\\   \n",
    "\\end{array} } \\right]u  \n",
    "\\end{align}\n",
    "$$"
   ]
  },
  {
   "cell_type": "code",
   "execution_count": 49,
   "metadata": {
    "collapsed": false
   },
   "outputs": [
    {
     "name": "stdout",
     "output_type": "stream",
     "text": [
      "[[0 1]\n",
      " [1 0]]\n"
     ]
    }
   ],
   "source": [
    "A = np.array([[0,1],[0,0]])\n",
    "B = np.array([[0],[1]])     \n",
    "\n",
    "G = ctrb(A,B)\n",
    "print(G)"
   ]
  },
  {
   "cell_type": "code",
   "execution_count": 50,
   "metadata": {
    "collapsed": false
   },
   "outputs": [
    {
     "name": "stdout",
     "output_type": "stream",
     "text": [
      "2\n"
     ]
    }
   ],
   "source": [
    "print(np.linalg.matrix_rank(G))"
   ]
  },
  {
   "cell_type": "code",
   "execution_count": 51,
   "metadata": {
    "collapsed": false
   },
   "outputs": [
    {
     "data": {
      "application/javascript": [
       "$.getScript('https://kmahelona.github.io/ipython_notebook_goodies/ipython_notebook_toc.js')"
      ],
      "text/plain": [
       "<IPython.core.display.Javascript object>"
      ]
     },
     "metadata": {},
     "output_type": "display_data"
    }
   ],
   "source": [
    "%%javascript\n",
    "$.getScript('https://kmahelona.github.io/ipython_notebook_goodies/ipython_notebook_toc.js')"
   ]
  }
 ],
 "metadata": {
  "anaconda-cloud": {},
  "kernelspec": {
   "display_name": "Python [Root]",
   "language": "python",
   "name": "Python [Root]"
  },
  "language_info": {
   "codemirror_mode": {
    "name": "ipython",
    "version": 3
   },
   "file_extension": ".py",
   "mimetype": "text/x-python",
   "name": "python",
   "nbconvert_exporter": "python",
   "pygments_lexer": "ipython3",
   "version": "3.5.2"
  }
 },
 "nbformat": 4,
 "nbformat_minor": 0
}
