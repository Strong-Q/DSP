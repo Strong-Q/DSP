{
 "cells": [
  {
   "cell_type": "markdown",
   "metadata": {},
   "source": [
    "## 링크연결시킬때"
   ]
  },
  {
   "cell_type": "markdown",
   "metadata": {},
   "source": [
    "[asdb]('link')"
   ]
  },
  {
   "cell_type": "code",
   "execution_count": null,
   "metadata": {
    "collapsed": true
   },
   "outputs": [],
   "source": [
    "[asdb]('link')"
   ]
  },
  {
   "cell_type": "markdown",
   "metadata": {},
   "source": [
    "## 절대값이나, norm등 좌우로 막대기 세우고싶을때"
   ]
  },
  {
   "cell_type": "markdown",
   "metadata": {
    "collapsed": true
   },
   "source": [
    "$\\lVert, \\rVert$\n",
    "\n",
    "$\\lvert, \\rvert$"
   ]
  },
  {
   "cell_type": "code",
   "execution_count": null,
   "metadata": {
    "collapsed": true
   },
   "outputs": [],
   "source": [
    "$\\lVert, \\rVert$\n",
    "\n",
    "$\\lvert, \\rvert$"
   ]
  },
  {
   "cell_type": "markdown",
   "metadata": {},
   "source": [
    "## theta쓰기"
   ]
  },
  {
   "cell_type": "markdown",
   "metadata": {
    "collapsed": true
   },
   "source": [
    "$\\cos \\theta$"
   ]
  },
  {
   "cell_type": "code",
   "execution_count": null,
   "metadata": {
    "collapsed": true
   },
   "outputs": [],
   "source": [
    "$\\cos \\theta$"
   ]
  },
  {
   "cell_type": "markdown",
   "metadata": {},
   "source": [
    "## $x \\in \\mathbb{R}$ 같은거 할때"
   ]
  },
  {
   "cell_type": "markdown",
   "metadata": {
    "collapsed": true
   },
   "source": [
    "$\\mathbb{R}$"
   ]
  },
  {
   "cell_type": "code",
   "execution_count": null,
   "metadata": {
    "collapsed": true
   },
   "outputs": [],
   "source": [
    "$\\mathbb{R}$"
   ]
  },
  {
   "cell_type": "markdown",
   "metadata": {},
   "source": [
    "$\\prod\\limits_{i=1}$"
   ]
  },
  {
   "cell_type": "markdown",
   "metadata": {},
   "source": [
    "## 합을표현할때"
   ]
  },
  {
   "cell_type": "code",
   "execution_count": null,
   "metadata": {
    "collapsed": true
   },
   "outputs": [],
   "source": [
    "$\\prod\\limits_{i=1}$"
   ]
  },
  {
   "cell_type": "markdown",
   "metadata": {},
   "source": [
    "$\\sum\\limits_{i=1}$"
   ]
  },
  {
   "cell_type": "code",
   "execution_count": null,
   "metadata": {
    "collapsed": true
   },
   "outputs": [],
   "source": [
    "$\\sum\\limits_{i=1}$"
   ]
  },
  {
   "cell_type": "markdown",
   "metadata": {},
   "source": [
    "## w가 아니라 omega 쓸때"
   ]
  },
  {
   "cell_type": "markdown",
   "metadata": {
    "collapsed": true
   },
   "source": [
    "$\\omega, \\upsilon$"
   ]
  },
  {
   "cell_type": "code",
   "execution_count": null,
   "metadata": {
    "collapsed": true
   },
   "outputs": [],
   "source": [
    "$\\omega, \\upsilon$"
   ]
  },
  {
   "cell_type": "markdown",
   "metadata": {},
   "source": [
    "## \\$ 모양 써서 수학기호를쓰는데 그사이에 글넣고싶을때"
   ]
  },
  {
   "cell_type": "markdown",
   "metadata": {
    "collapsed": true
   },
   "source": [
    "텍스트넣기\n",
    "\n",
    "$$\\text{ here text }$$\n"
   ]
  },
  {
   "cell_type": "code",
   "execution_count": null,
   "metadata": {
    "collapsed": true
   },
   "outputs": [],
   "source": [
    "텍스트넣기\n",
    "\n",
    "$$\\text{ here text }$$\n"
   ]
  },
  {
   "cell_type": "markdown",
   "metadata": {},
   "source": [
    "## 수식을 줄맞춰서 예쁘게 쓸 필요가 있을때"
   ]
  },
  {
   "cell_type": "markdown",
   "metadata": {
    "collapsed": true
   },
   "source": [
    "\n",
    "수식 줄맞춤\n",
    "$$\n",
    "\\begin{align*}\n",
    "x_1 & = 1 + 2\\\\\n",
    "x_2 &= 2 + 4 + 2 + 4\n",
    "\\end{align*}\n",
    "$$\n",
    "\n"
   ]
  },
  {
   "cell_type": "code",
   "execution_count": 1,
   "metadata": {
    "collapsed": false
   },
   "outputs": [
    {
     "ename": "SyntaxError",
     "evalue": "invalid syntax (<ipython-input-1-836a3c4cf8b6>, line 2)",
     "output_type": "error",
     "traceback": [
      "\u001b[1;36m  File \u001b[1;32m\"<ipython-input-1-836a3c4cf8b6>\"\u001b[1;36m, line \u001b[1;32m2\u001b[0m\n\u001b[1;33m    수식 줄맞춤\u001b[0m\n\u001b[1;37m         ^\u001b[0m\n\u001b[1;31mSyntaxError\u001b[0m\u001b[1;31m:\u001b[0m invalid syntax\n"
     ]
    }
   ],
   "source": [
    "\n",
    "수식 줄맞춤\n",
    "$$\n",
    "\\begin{align*}\n",
    "x_1 & = 1 + 2\\\\\n",
    "x_2 &= 2 + 4 + 2 + 4\n",
    "\\end{align*}\n",
    "$$\n",
    "\n"
   ]
  },
  {
   "cell_type": "markdown",
   "metadata": {},
   "source": [
    "## 평소엔 < > 를 써도되지만 가끔 이게에러날때가있음"
   ]
  },
  {
   "cell_type": "markdown",
   "metadata": {
    "collapsed": true
   },
   "source": [
    "$\\langle x1, x2 \\rangle$"
   ]
  },
  {
   "cell_type": "code",
   "execution_count": null,
   "metadata": {
    "collapsed": true
   },
   "outputs": [],
   "source": [
    "$\\langle x1, x2 \\rangle$"
   ]
  },
  {
   "cell_type": "markdown",
   "metadata": {},
   "source": [
    "## 글자의 크기에따라 괄호사이즈를 다르게 할 필요가 있을때 (기본적으로 이괄호를 쓰는걸로)"
   ]
  },
  {
   "cell_type": "markdown",
   "metadata": {
    "collapsed": true
   },
   "source": [
    "괄호 사이즈 adjust\n",
    "\n",
    "$\\left( \\frac{1}{2} \\right)$\n",
    "\n",
    "$\\left(1 \\right)$"
   ]
  },
  {
   "cell_type": "code",
   "execution_count": null,
   "metadata": {
    "collapsed": true
   },
   "outputs": [],
   "source": [
    "괄호 사이즈 adjust\n",
    "\n",
    "$\\left( \\frac{1}{2} \\right)$\n",
    "\n",
    "$\\left(1 \\right)$"
   ]
  },
  {
   "cell_type": "markdown",
   "metadata": {},
   "source": [
    "## \\hat{e_1} 아님"
   ]
  },
  {
   "cell_type": "markdown",
   "metadata": {
    "collapsed": true
   },
   "source": [
    "hat씌우는거 통일\n",
    "\n",
    "$\\hat{e}_1$"
   ]
  },
  {
   "cell_type": "code",
   "execution_count": null,
   "metadata": {
    "collapsed": true
   },
   "outputs": [],
   "source": [
    "hat씌우는거 통일\n",
    "\n",
    "$\\hat{e}_1$"
   ]
  },
  {
   "cell_type": "markdown",
   "metadata": {
    "collapsed": true
   },
   "source": [
    "표만들기\n",
    "\n",
    "|items|1|2|3|4|5|6\n",
    "|:-:|:-:|:-:|:-:|:-:|:-:|:-:\n",
    "|weights|10|9|4|2|1|20\n",
    "|values|175|90|20|50|10|200\n"
   ]
  },
  {
   "cell_type": "code",
   "execution_count": null,
   "metadata": {
    "collapsed": true
   },
   "outputs": [],
   "source": [
    "표만들기\n",
    "\n",
    "|items|1|2|3|4|5|6\n",
    "|:-:|:-:|:-:|:-:|:-:|:-:|:-:\n",
    "|weights|10|9|4|2|1|20\n",
    "|values|175|90|20|50|10|200\n"
   ]
  },
  {
   "cell_type": "markdown",
   "metadata": {},
   "source": [
    "## 행렬만들때"
   ]
  },
  {
   "cell_type": "markdown",
   "metadata": {
    "collapsed": true
   },
   "source": [
    "행렬\n",
    "\n",
    "$\\begin{bmatrix}\n",
    "1 & \\cdots & 2\\\\\n",
    "\\vdots & \\ddots & \\vdots\n",
    "\\end{bmatrix}$"
   ]
  },
  {
   "cell_type": "code",
   "execution_count": null,
   "metadata": {
    "collapsed": true
   },
   "outputs": [],
   "source": [
    "행렬\n",
    "\n",
    "$\\begin{bmatrix}\n",
    "1 & \\cdots & 2\\\\\n",
    "\\vdots & \\ddots & \\vdots\n",
    "\\end{bmatrix}$"
   ]
  },
  {
   "cell_type": "markdown",
   "metadata": {},
   "source": [
    "## 그림, table 등 넣을때"
   ]
  },
  {
   "cell_type": "code",
   "execution_count": null,
   "metadata": {
    "collapsed": true
   },
   "outputs": [],
   "source": [
    "<br>\n",
    "<img src = \"./경로/파일명\", width = 450>\n",
    "<br>"
   ]
  },
  {
   "cell_type": "markdown",
   "metadata": {
    "collapsed": true
   },
   "source": [
    "그림 table , align 등등 나란히 넣기 \n",
    "\n",
    "테이블 만들기\n",
    "\n",
    "<table style=\"border-style: hidden; border-collapse: collapse;\" width = \"96%\"> \n",
    "    <tr style=\"border-style: hidden; border-collapse: collapse;\">\n",
    "        <td width = 48% style=\"border-style: hidden; border-collapse: collapse;\">\n",
    "          $$\n",
    "            \\begin{bmatrix}\n",
    "            \\cos(\\theta)\\\\\n",
    "            \\sin(\\theta)\n",
    "            \\end{bmatrix}=\n",
    "            R(\\theta)\n",
    "            \\begin{bmatrix}\n",
    "            1\\\\\n",
    "            0\n",
    "            \\end{bmatrix}\\\\\n",
    "            $$\n",
    "        </td>\n",
    "        <td width = 48%>\n",
    "            $$\n",
    "            \\begin{bmatrix}\n",
    "            \\cos(\\theta)\\\\\n",
    "            \\sin(\\theta)\n",
    "            \\end{bmatrix}=\n",
    "            R(\\theta)\n",
    "            \\begin{bmatrix}\n",
    "            1\\\\\n",
    "            0\n",
    "            \\end{bmatrix}\\\\\n",
    "            $$\n",
    "        </td>\n",
    "    </tr>\n",
    "</table>\n"
   ]
  },
  {
   "cell_type": "code",
   "execution_count": null,
   "metadata": {
    "collapsed": true
   },
   "outputs": [],
   "source": [
    "그림 table , align 등등 나란히 넣기 \n",
    "\n",
    "테이블 만들기\n",
    "\n",
    "<table style=\"border-style: hidden; border-collapse: collapse;\" width = \"96%\"> \n",
    "    <tr style=\"border-style: hidden; border-collapse: collapse;\">\n",
    "        <td width = 48% style=\"border-style: hidden; border-collapse: collapse;\">\n",
    "          $$\n",
    "            \\begin{bmatrix}\n",
    "            \\cos(\\theta)\\\\\n",
    "            \\sin(\\theta)\n",
    "            \\end{bmatrix}=\n",
    "            R(\\theta)\n",
    "            \\begin{bmatrix}\n",
    "            1\\\\\n",
    "            0\n",
    "            \\end{bmatrix}\\\\\n",
    "            $$\n",
    "        </td>\n",
    "        <td width = 48%>\n",
    "            $$\n",
    "            \\begin{bmatrix}\n",
    "            \\cos(\\theta)\\\\\n",
    "            \\sin(\\theta)\n",
    "            \\end{bmatrix}=\n",
    "            R(\\theta)\n",
    "            \\begin{bmatrix}\n",
    "            1\\\\\n",
    "            0\n",
    "            \\end{bmatrix}\\\\\n",
    "            $$\n",
    "        </td>\n",
    "    </tr>\n",
    "</table>\n"
   ]
  },
  {
   "cell_type": "markdown",
   "metadata": {},
   "source": [
    "## 기호"
   ]
  },
  {
   "cell_type": "markdown",
   "metadata": {},
   "source": [
    "therefore\n",
    "\n",
    "$\\therefore$"
   ]
  },
  {
   "cell_type": "code",
   "execution_count": null,
   "metadata": {
    "collapsed": true
   },
   "outputs": [],
   "source": [
    "therefore\n",
    "\n",
    "$\\therefore$"
   ]
  },
  {
   "cell_type": "markdown",
   "metadata": {},
   "source": [
    "## \\$ 모양 안에서 띄워쓰고싶을때"
   ]
  },
  {
   "cell_type": "markdown",
   "metadata": {
    "collapsed": true
   },
   "source": [
    "띄어쓰기\n",
    "\n",
    "$$x y$$\n",
    "$$x \\space y $$\n",
    "$$x \\quad y $$"
   ]
  },
  {
   "cell_type": "code",
   "execution_count": null,
   "metadata": {
    "collapsed": true
   },
   "outputs": [],
   "source": [
    "띄어쓰기\n",
    "\n",
    "$$x y$$\n",
    "$$x \\space y $$\n",
    "$$x \\quad y $$"
   ]
  },
  {
   "cell_type": "markdown",
   "metadata": {},
   "source": [
    "## case 만들고싶을때"
   ]
  },
  {
   "cell_type": "markdown",
   "metadata": {
    "collapsed": true
   },
   "source": [
    "$\\begin{cases}\n",
    "\\text{positive}\\\\\n",
    "0\\\\\n",
    "\\text{negative}\n",
    "\\end{cases}$"
   ]
  },
  {
   "cell_type": "code",
   "execution_count": null,
   "metadata": {
    "collapsed": true
   },
   "outputs": [],
   "source": [
    "$\\begin{cases}\n",
    "\\text{positive}\\\\\n",
    "0\\\\\n",
    "\\text{negative}\n",
    "\\end{cases}$"
   ]
  },
  {
   "cell_type": "markdown",
   "metadata": {},
   "source": [
    "## 글자크기 바꿀때"
   ]
  },
  {
   "cell_type": "code",
   "execution_count": null,
   "metadata": {
    "collapsed": true
   },
   "outputs": [],
   "source": [
    "글자크기\n",
    "\n",
    "\\Huge\n",
    "\n",
    "\\huge\n",
    "\n",
    "\\LARGE\n",
    "\n",
    "\\Large\n",
    "\n",
    "\\large\n",
    "\n",
    "\\normalsize (default)\n",
    "\n",
    "\\small\n",
    "\n",
    "\\footnotesize\n",
    "\n",
    "\\scriptsize\n",
    "\n",
    "\\tiny"
   ]
  },
  {
   "cell_type": "markdown",
   "metadata": {},
   "source": [
    "## 목차 만들때"
   ]
  },
  {
   "cell_type": "code",
   "execution_count": null,
   "metadata": {
    "collapsed": true
   },
   "outputs": [],
   "source": [
    "목차 시작\n",
    "Table of Contents\n",
    "<div id=\"toc\"></div>"
   ]
  },
  {
   "cell_type": "code",
   "execution_count": 1,
   "metadata": {
    "collapsed": false
   },
   "outputs": [
    {
     "data": {
      "application/javascript": [
       "$.getScript('https://kmahelona.github.io/ipython_notebook_goodies/ipython_notebook_toc.js')"
      ],
      "text/plain": [
       "<IPython.core.display.Javascript object>"
      ]
     },
     "metadata": {},
     "output_type": "display_data"
    }
   ],
   "source": [
    "%%javascript\n",
    "$.getScript('https://kmahelona.github.io/ipython_notebook_goodies/ipython_notebook_toc.js')"
   ]
  },
  {
   "cell_type": "markdown",
   "metadata": {},
   "source": []
  }
 ],
 "metadata": {
  "kernelspec": {
   "display_name": "Python [Root]",
   "language": "python",
   "name": "Python [Root]"
  },
  "language_info": {
   "codemirror_mode": {
    "name": "ipython",
    "version": 3
   },
   "file_extension": ".py",
   "mimetype": "text/x-python",
   "name": "python",
   "nbconvert_exporter": "python",
   "pygments_lexer": "ipython3",
   "version": "3.5.2"
  }
 },
 "nbformat": 4,
 "nbformat_minor": 0
}
