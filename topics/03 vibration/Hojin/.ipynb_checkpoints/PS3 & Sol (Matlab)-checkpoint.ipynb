{
 "cells": [
  {
   "cell_type": "markdown",
   "metadata": {},
   "source": [
    "# P1.\n",
    "\n",
    "Here, we’d like to numerically find the solutions (roots) of the following equation,\n",
    "$$f(x) = 4x^3 + 10x^2 - 20x - 10 \\quad \\text{for} \\quad -4 \\leq x \\leq 3 $$\n",
    "\n",
    "1) Plot $f(x)$ over $-4 \\leq x \\leq 3$\n",
    "\n",
    "2) Numerically find all the roots (solutions) of $f(x) = 0$ with a hint of the above figure."
   ]
  },
  {
   "cell_type": "code",
   "execution_count": null,
   "metadata": {
    "collapsed": true
   },
   "outputs": [],
   "source": [
    "%1)\n",
    "clear all\n",
    "clc\n",
    "\n",
    "x=-4:0.01:3;\n",
    "f=4*x.^3+10*x.^2-20*x - 10;\n",
    "plot(x,f)"
   ]
  },
  {
   "cell_type": "code",
   "execution_count": null,
   "metadata": {
    "collapsed": true
   },
   "outputs": [],
   "source": [
    "%2)\n",
    "clear all\n",
    "clc\n",
    "\n",
    "f2=[4 10 -20 -10];\n",
    "x = roots(f2)   "
   ]
  },
  {
   "cell_type": "markdown",
   "metadata": {},
   "source": [
    "# P2.\n",
    "\n",
    "In this problem, we want to repeat P1 with the following equation,\n",
    "$$f(x) = x^2 - 5x - 14 \\quad \\text{for} \\quad -4 \\leq x \\leq 10 $$\n",
    "\n",
    "1) Plot $f(x)$ over $-4 \\leq x \\leq 10$\n",
    "\n",
    "2) Use 'syms' to calculate the analytical solutions of $f(x)=0$\n",
    "\n",
    "3) Numerically find all the roots (solutions) of $f(x)=0$ and compare them with\n",
    "$$f(x) = x^2 - 5x - 14 = (x + 2)(x - 7) = 0$$\n",
    "\n",
    "4) Type the following two lines of code and execute them to understand 'roots' command\n",
    "\n",
    "- p = [1 -5 - 14];\n",
    "- x = root(p)"
   ]
  },
  {
   "cell_type": "code",
   "execution_count": null,
   "metadata": {
    "collapsed": true
   },
   "outputs": [],
   "source": [
    "%1)\n",
    "clear all\n",
    "clc\n",
    "\n",
    "x=-4:0.01:10;\n",
    "f=x.^2-5*x-14;\n",
    "plot(x,f)"
   ]
  },
  {
   "cell_type": "code",
   "execution_count": null,
   "metadata": {
    "collapsed": true
   },
   "outputs": [],
   "source": [
    "%2)\n",
    "clear all\n",
    "clc\n",
    "syms x;\n",
    "x=solve('x^2-5*x-14=0');\n",
    "x=double(x)"
   ]
  },
  {
   "cell_type": "code",
   "execution_count": null,
   "metadata": {
    "collapsed": true
   },
   "outputs": [],
   "source": [
    "%4)\n",
    "clear all\n",
    "clc\n",
    "f3=[1 -5 -14];\n",
    "roots(f3)"
   ]
  },
  {
   "cell_type": "markdown",
   "metadata": {},
   "source": [
    "# P3.\n",
    "\n",
    "Run the following code which explains how to make a kind of animation effect in Matlab."
   ]
  },
  {
   "cell_type": "code",
   "execution_count": null,
   "metadata": {
    "collapsed": true
   },
   "outputs": [],
   "source": [
    "%1)\n",
    "clear all\n",
    "clc\n",
    "figure(1); hold on\n",
    "axis([-1 1 -4 .5])\n",
    "for x = -1:0.05:1\n",
    "    y = -4*x^2;\n",
    "    plot(x,y,'s')\n",
    "    pause(0.1)\n",
    "end\n",
    "hold off"
   ]
  },
  {
   "cell_type": "code",
   "execution_count": null,
   "metadata": {
    "collapsed": true
   },
   "outputs": [],
   "source": [
    "%2)\n",
    "clear all\n",
    "clc\n",
    "figure(2); hold on\n",
    "axis([0 2*pi -1 1])\n",
    "x = 0:0.01:2*pi;\n",
    "for i = 1:10\n",
    "    y = 1/i*sin(x);\n",
    "    % cla\n",
    "    plot(x,y)\n",
    "    pause(0.5)\n",
    "end\n",
    "hold off"
   ]
  },
  {
   "cell_type": "markdown",
   "metadata": {},
   "source": [
    "# P4.\n",
    "\n",
    "Write a code to create a circle as shown in the below figure. (hint: there are many ways to realize this problem, but think about Euler’s formula (http://en.wikipedia.org/wiki/Euler's_formula))  "
   ]
  },
  {
   "cell_type": "code",
   "execution_count": null,
   "metadata": {
    "collapsed": true
   },
   "outputs": [],
   "source": [
    "clear all\n",
    "clc\n",
    "y=-1:0.01:1;\n",
    "x1=sqrt(1-y.^2);\n",
    "x2=-sqrt(1-y.^2);\n",
    "plot(y,x1)\n",
    "hold on\n",
    "plot(y,x2)\n",
    "hold off"
   ]
  },
  {
   "cell_type": "code",
   "execution_count": null,
   "metadata": {
    "collapsed": true
   },
   "outputs": [],
   "source": [
    "clear all\n",
    "clc\n",
    "[x,y]=scircle1(0,0,1);\n",
    "plot(x,y)\n",
    "axis equal"
   ]
  },
  {
   "cell_type": "code",
   "execution_count": null,
   "metadata": {
    "collapsed": true
   },
   "outputs": [],
   "source": [
    "clear all\n",
    "clc\n",
    "center=[0 0];                   %중심점\n",
    "r=70;                          %반지름\n",
    "N=1000;                         %원의 점 개수\n",
    "NL = 600;                       %선의 점 개수*2\n",
    "theta=linspace(0,2*pi,N);       %원(라디안)\n",
    "x=r*cos(theta)+center(1);       \n",
    "y=r*sin(theta)+center(2);       \n",
    "plot(x,y);                      \n",
    "\n",
    "axis equal;                     %좌표축.\n",
    "grid on"
   ]
  },
  {
   "cell_type": "code",
   "execution_count": null,
   "metadata": {
    "collapsed": true
   },
   "outputs": [],
   "source": [
    "clear all\n",
    "clc\n",
    " t = [0:0.1:2*pi];\n",
    "\n",
    "%키보드로부터 입력한다\n",
    "\n",
    " r =1;\n",
    " x0=0;\n",
    " y0=0;\n",
    "\n",
    "%시간 t=0~2pi 까지 돌리면서 원의 x좌표와 y좌표를 뽑아낸다.=> 반복문 사용: for문\n",
    "\n",
    "for j=1:length(t),\n",
    "    x(j)= x0+ r* cos(t(j));\n",
    "    y(j)=y0 + r*sin(t(j));\n",
    "end\n",
    "\n",
    "%그래프를 그린다\n",
    "\n",
    "plot(x,y)\n",
    "title('Circle')\n",
    "xlabel('x(t)')\n",
    "ylabel('y(t)')"
   ]
  },
  {
   "cell_type": "markdown",
   "metadata": {},
   "source": [
    "# P5.\n",
    "\n",
    "Create an animation which the green dot is moving around the unit circle (counter clockwise). "
   ]
  },
  {
   "cell_type": "code",
   "execution_count": null,
   "metadata": {
    "collapsed": false
   },
   "outputs": [],
   "source": [
    "clear all\n",
    "clc\n",
    "[x,y]=scircle1(0,0,1);\n",
    "for y1=-1:0.01:1;\n",
    "    x1=sqrt(1-y1.^2);\n",
    "    plot(x1,y1,'s',x,y)\n",
    "    pause(0.01)\n",
    "end\n",
    "for y2=-1:0.01:1;\n",
    "    x2=-sqrt(1-y2.^2);\n",
    "    plot(x2,-y2,'s',x,y)\n",
    "    pause(0.01)\n",
    "end"
   ]
  }
 ],
 "metadata": {
  "anaconda-cloud": {},
  "kernelspec": {
   "display_name": "Python [Root]",
   "language": "python",
   "name": "Python [Root]"
  },
  "language_info": {
   "codemirror_mode": {
    "name": "ipython",
    "version": 3
   },
   "file_extension": ".py",
   "mimetype": "text/x-python",
   "name": "python",
   "nbconvert_exporter": "python",
   "pygments_lexer": "ipython3",
   "version": "3.5.2"
  }
 },
 "nbformat": 4,
 "nbformat_minor": 0
}
