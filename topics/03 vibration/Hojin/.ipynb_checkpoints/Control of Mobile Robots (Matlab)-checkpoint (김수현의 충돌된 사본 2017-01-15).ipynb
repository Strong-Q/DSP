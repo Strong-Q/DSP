{
 "cells": [
  {
   "cell_type": "markdown",
   "metadata": {},
   "source": [
    "<font size = '6'><b>Control by Prof. Magnus Egerstedt</b></font><br><br>\n",
    "<font size = '4'><b>Georgia Institute of Technology</b></font>\n",
    "\n",
    "<table style=\"border-style: hidden; border-collapse: collapse;\" width = \"80%\"> \n",
    "    <tr style=\"border-style: hidden; border-collapse: collapse;\">\n",
    "        <td width = 55% style=\"border-style: hidden; border-collapse: collapse;\">\n",
    "             \n",
    "        </td>\n",
    "        <td width = 25%>\n",
    "            Collected by Prof. Seungchul Lee<br>iSystems (http://isystems.unist.ac.kr/)<br>UNIST\n",
    "        </td>\n",
    "    </tr>\n",
    "</table>\n",
    "\n",
    "Table of Contents\n",
    "<div id=\"toc\"></div>"
   ]
  },
  {
   "cell_type": "markdown",
   "metadata": {},
   "source": [
    "# 1. The Basic of Control\n",
    "\n",
    "## 1.1. Definitions & Objectives of the Basic Properties\n",
    "\n",
    "- Control Theory: deals with the behavior of dynamical systems with inputs\n",
    "- Objectives: stability, tracking, robustness, disturbance rejection, optimality etc\n",
    "\n",
    "## 1.2. The Basic of Building Blocks\n",
    "\n",
    "- State: the representation of what the system is currently doing\n",
    "- Dynamics: description of how the state changes\n",
    "- Reference: what we want the system to do\n",
    "- Output: measurement of (some aspects of the) system\n",
    "- Input: control signal\n",
    "- Feedback: mapping from outputs to inputs\n",
    "- Error: difference between output and reference\n",
    "\n",
    "<br>\n",
    "<img src = \"./images/block_diagram.jpg\", width = 450>\n",
    "<br>"
   ]
  },
  {
   "cell_type": "markdown",
   "metadata": {},
   "source": [
    "# 2. Models\n",
    "\n",
    "## 2.1. Discretized Time Model\n",
    "\n",
    "- Effective control strategies rely on predictive models\n",
    "- Discrete time:\n",
    "\n",
    "$$x_{k+1} = f(x_k, u_k)$$"
   ]
  },
  {
   "cell_type": "code",
   "execution_count": 11,
   "metadata": {
    "collapsed": false
   },
   "outputs": [
    {
     "data": {
      "image/png": "[encoded data removed]",
      "text/plain": [
       "<IPython.core.display.Image object>"
      ]
     },
     "metadata": {},
     "output_type": "display_data"
    },
    {
     "data": {},
     "execution_count": 11,
     "metadata": {},
     "output_type": "execute_result"
    }
   ],
   "source": [
    "%plot -s 560,300\n",
    "%% Discretized\n",
    "\n",
    "time = linspace(0, 10, 11);\n",
    "stem(time,'filled','markersize',4);"
   ]
  },
  {
   "cell_type": "markdown",
   "metadata": {},
   "source": [
    "## 2.2. Continous Time Model\n",
    "\n",
    "- Laws of Physics are all in continuous time. Thus, instead of \"next\" state, we need derivatives with respect to time.\n",
    "- Continuous time:\n",
    "\n",
    "$$\\frac {dx}{dt} = f(x, u) \\quad \\implies \\quad \\dot {x} = f(x, u)$$"
   ]
  },
  {
   "cell_type": "code",
   "execution_count": 5,
   "metadata": {
    "collapsed": false
   },
   "outputs": [
    {
     "data": {
      "image/png": "[encoded data removed]",
      "text/plain": [
       "<IPython.core.display.Image object>"
      ]
     },
     "metadata": {},
     "output_type": "display_data"
    },
    {
     "data": {},
     "execution_count": 5,
     "metadata": {},
     "output_type": "execute_result"
    }
   ],
   "source": [
    "%plot -s 560,300\n",
    "\n",
    "plot(time);"
   ]
  },
  {
   "cell_type": "markdown",
   "metadata": {},
   "source": [
    "## 2.3. Continous to Discrete\n",
    "\n",
    "- sampling\n",
    "$$x_{k+1} = x_k + \\delta t \\cdot f(x_k,u_k)$$"
   ]
  },
  {
   "cell_type": "markdown",
   "metadata": {},
   "source": [
    "# 3. Control Design\n",
    "\n",
    "## 3.1. Cosiderations\n",
    "\n",
    "- Property 1: small error gives small input\n",
    "$$\\text{small} \\; e \\qquad \\implies \\qquad \\text{small} \\; u$$\n",
    "\n",
    "\n",
    "- Property 2: input shoud not be \"jerky\"\n",
    "\n",
    "\n",
    "- Property 3: input should not depend on uncertain parameters exactly\n",
    "\n",
    "## 3.2. Control Attempts\n",
    "\n",
    "Car model:\n",
    "\n",
    "$$ \\dot{x} = \\frac {c}{m} u$$\n",
    "\n",
    "We want\n",
    "$$ \\lim_{t\\rightarrow \\infty} x(t) = r$$\n",
    "\n",
    "### 3.2.1. Bang-Bang Control\n",
    "\n",
    "Bang-Bang control\n",
    "\n",
    "$$ u = \n",
    "\\begin{cases}\n",
    "u_{max} & \\text {if }\\; e < 0\n",
    "\\\\-u_{max} & \\text {if }\\; e > 0\n",
    "\\\\0 \\quad & \\text {if }\\; e = 0\n",
    "\\end{cases}$$\n"
   ]
  },
  {
   "cell_type": "code",
   "execution_count": 9,
   "metadata": {
    "collapsed": false
   },
   "outputs": [
    {
     "name": "stderr",
     "output_type": "stream",
     "text": [
      "Error: Function definitions are not permitted in this context.\n"
     ]
    }
   ],
   "source": [
    "clear all; close all;\n",
    "\n",
    "% ----- Adjust Parameters ------\n",
    "\n",
    "um = 50.0 / 3;\n",
    "r  = 50.0;\n",
    "c  =  1.0;\n",
    "m  =  1.0;\n",
    "v  =  0.0; % initial velocity\n",
    "tt = 10.0; % termination time\n",
    "\n",
    "% ------------------------------\n",
    "\n",
    "dt =  0.1;\n",
    "t  =  0.0;\n",
    "n  =  tt / dt + 1;\n",
    "us =  um;\n",
    "\n",
    "for i = 1 : n - 1\n",
    "\te = r - v(i);\n",
    "    if e > 0\n",
    "        u = um;\n",
    "    elseif e < 0\n",
    "        u = -um;\n",
    "    else\n",
    "        u = 0;\n",
    "    end  \n",
    "\ta = c * u / m;\n",
    "\tv(i + 1) = v(i) + a * dt;\n",
    "\tt(i + 1) = t(i) + dt;\n",
    "    us(i + 1) = u;\n",
    "end\n",
    "\n",
    "figure(1); hold on;\n",
    "plot(t, v);\n",
    "ylim([0, r + 10]);\n",
    "xlabel('time'); ylabel('velocity');\n",
    "\n",
    "figure(2); hold on;\n",
    "plot(t, us);\n",
    "xlabel('time'); ylabel('input');"
   ]
  },
  {
   "cell_type": "markdown",
   "metadata": {},
   "source": [
    "### 3.2.2. P Control\n",
    "\n",
    "- P control\n",
    "$$u = ke$$"
   ]
  },
  {
   "cell_type": "code",
   "execution_count": 3,
   "metadata": {
    "collapsed": false
   },
   "outputs": [
    {
     "name": "stderr",
     "output_type": "stream",
     "text": [
      "Error: Function definitions are not permitted in this context.\n"
     ]
    }
   ],
   "source": [
    "% P1\n",
    "\n",
    "clear all; close all;\n",
    "\n",
    "% ----- Adjust Parameters ------\n",
    "\n",
    "kP =  1.0;\n",
    "r  = 50.0;\n",
    "c  =  1.0;\n",
    "m  =  1.0;\n",
    "v  =  0.0; % initial velocity\n",
    "tt = 10.0; % termination time\n",
    "\n",
    "% ------------------------------\n",
    "\n",
    "dt =  0.1;\n",
    "t  =  0.0;\n",
    "n  =  tt / dt + 1;\n",
    "\n",
    "for i = 1 : n - 1;\n",
    "\te = r - v(i);\n",
    "\tu = kP * e;\n",
    "\ta = c * u / m;\n",
    "\tv(i + 1) = v(i) + a * dt;\n",
    "\tt(i + 1) = t(i) + dt;\n",
    "end\n",
    "\n",
    "figure(1); hold on;\n",
    "plot(t, v);\n",
    "ylim([0, r + 10]);\n",
    "xlabel('time'); ylabel('velocity');"
   ]
  },
  {
   "cell_type": "markdown",
   "metadata": {},
   "source": [
    "- at $\\gamma = 50$\n",
    "- In real model\n",
    "\n",
    "$$\\dot{x} = \\frac{c}{m} u - \\gamma x$$"
   ]
  },
  {
   "cell_type": "code",
   "execution_count": 5,
   "metadata": {
    "collapsed": false
   },
   "outputs": [
    {
     "name": "stderr",
     "output_type": "stream",
     "text": [
      "Error: Function definitions are not permitted in this context.\n"
     ]
    }
   ],
   "source": [
    "% P2\n",
    "\n",
    "clear all; close all;\n",
    "\n",
    "% ----- Adjust Parameters ------\n",
    "\n",
    "kP =  1.0;\n",
    "r  = 50.0;\n",
    "c  =  1.0;\n",
    "m  =  1.0;\n",
    "v  =  0.0; % initial velocity\n",
    "tt = 10.0; % termination time\n",
    "\n",
    "gamma = 0.5;\n",
    "\n",
    "% ------------------------------\n",
    "\n",
    "dt =  0.1;\n",
    "t  =  0.0;\n",
    "n  =  tt / dt + 1;\n",
    "\n",
    "for i = 1 : n - 1;\n",
    "\te = r - v(i);\n",
    "\tu = kP * e;\n",
    "\ta = c * u / m - gamma * v(i);\n",
    "\tv(i + 1) = v(i) + a * dt;\n",
    "\tt(i + 1) = t(i) + dt;\n",
    "end\n",
    "figure(1); hold on;\n",
    "plot(t, v);\n",
    "ylim([0, r + 10]);\n",
    "xlabel('time'); ylabel('velocity');"
   ]
  },
  {
   "cell_type": "markdown",
   "metadata": {},
   "source": [
    "- Cannot reach the reference.\n",
    "- For solving it, set\n",
    "$$u = ke + \\gamma \\frac{m}{c} x$$"
   ]
  },
  {
   "cell_type": "code",
   "execution_count": 6,
   "metadata": {
    "collapsed": false
   },
   "outputs": [
    {
     "name": "stderr",
     "output_type": "stream",
     "text": [
      "Error: Function definitions are not permitted in this context.\n"
     ]
    }
   ],
   "source": [
    "% P3\n",
    "\n",
    "clear all; close all;\n",
    "\n",
    "%% User Setting\n",
    "\n",
    "kP =  1.0;\n",
    "r  = 50.0;\n",
    "c  =  1.0;\n",
    "m  =  1.0;\n",
    "v  =  0.0; % initial velocity\n",
    "tt = 10.0; % termination time\n",
    "\n",
    "gamma = 0.5;\n",
    "\n",
    "%% Computing\n",
    "\n",
    "dt =  0.1;\n",
    "t  =  0.0;\n",
    "n  =  tt / dt + 1;\n",
    "\n",
    "for i = 1 : n - 1;\n",
    "\te = r - v(i);\n",
    "\tu = kP * e + gamma * m / c * v(i);\n",
    "\ta = c * u / m - gamma * v(i);\n",
    "\tv(i + 1) = v(i) + a * dt;\n",
    "\tt(i + 1) = t(i) + dt;\n",
    "end\n",
    "\n",
    "figure(1); hold on;\n",
    "plot(t, v);\n",
    "ylim([0, r + 10]);\n",
    "xlabel('time'); ylabel('velocity');"
   ]
  },
  {
   "cell_type": "markdown",
   "metadata": {},
   "source": [
    "- However, property 3 is not satisfied. (in this attempt, we should know the information of $c, m$)"
   ]
  },
  {
   "cell_type": "markdown",
   "metadata": {
    "collapsed": true
   },
   "source": [
    "### 3.2.3. PI Control\n",
    "- PI control,\n",
    "$$u(t) = k_p e(t) + k_I \\int_0^t e(\\tau)d\\tau$$"
   ]
  },
  {
   "cell_type": "code",
   "execution_count": 7,
   "metadata": {
    "collapsed": false
   },
   "outputs": [
    {
     "name": "stderr",
     "output_type": "stream",
     "text": [
      "Error: Function definitions are not permitted in this context.\n"
     ]
    }
   ],
   "source": [
    "%% PI\n",
    "\n",
    "clear all; close all;\n",
    "\n",
    "%% User Setting\n",
    "\n",
    "kP =  1.0;\n",
    "kI =  2.0;\n",
    "r  = 50.0;\n",
    "c  =  1.0;\n",
    "m  =  1.0;\n",
    "v  =  0.0; % initial velocity\n",
    "tt = 10.0; % termination time\n",
    "\n",
    "gamma = 0.5;\n",
    "\n",
    "%% Computing\n",
    "\n",
    "dt =  0.1;\n",
    "t  =  0.0;\n",
    "n  =  tt / dt + 1;\n",
    "E  =  0.0;\n",
    "\n",
    "for i = 1 : n - 1;\n",
    "\te = r - v(i);\n",
    "    E = E + e * dt;\n",
    "\tu = kP * e  + kI * E;\n",
    "\ta = c * u / m - gamma * v(i);\n",
    "\tv(i + 1) = v(i) + a * dt;\n",
    "\tt(i + 1) = t(i) + dt;\n",
    "end\n",
    "\n",
    "figure(1); hold on;\n",
    "plot(t, v);\n",
    "ylim([0, r + 10]);\n",
    "xlabel('time'); ylabel('velocity');"
   ]
  },
  {
   "cell_type": "markdown",
   "metadata": {},
   "source": [
    "- It can cause osillations."
   ]
  },
  {
   "cell_type": "markdown",
   "metadata": {},
   "source": [
    "### 3.2.4. PID Control\n",
    "- PID control\n",
    "\n",
    "$$u(t) = k_p e(t) + k_I \\int_0^t e(\\tau)\\,d\\tau + k_D \\frac {de(t)}{dt}$$\n",
    "\n",
    "- P: medium response speed, stablizing\n",
    "- I: slow response speed, traking and disturbance rejection, may cause oscillations\n",
    "- D: fast response speed, sensitive to noise"
   ]
  },
  {
   "cell_type": "code",
   "execution_count": 8,
   "metadata": {
    "collapsed": false
   },
   "outputs": [
    {
     "name": "stderr",
     "output_type": "stream",
     "text": [
      "Error: Function definitions are not permitted in this context.\n"
     ]
    }
   ],
   "source": [
    "%% PID\n",
    "\n",
    "clear all; close all;\n",
    "\n",
    "%% User Settings\n",
    "\n",
    "kP =  1.0;\n",
    "kI =  0.5;\n",
    "kD =  0.1;\n",
    "r  = 50.0;\n",
    "c  =  1.0;\n",
    "m  =  1.0;\n",
    "v  =  0.0; % initial velocity\n",
    "tt = 10.0; % termination time\n",
    "\n",
    "gamma = 0.5;\n",
    "\n",
    "%% Computing\n",
    "\n",
    "dt =  0.1;\n",
    "t  =  0.0;\n",
    "n  =  tt / dt + 1;\n",
    "E  =  0.0;\n",
    "e_o=  r;\n",
    "e_dot = 0.0;\n",
    "\n",
    "figure(1); hold on;\n",
    "xlabel('time'); ylabel('$\\dot{e}$', 'interpreter', 'latex');\n",
    "\n",
    "for i = 1 : n - 1\n",
    "    plot(t(i), e_dot, 'bo', 'markersize', 2);\n",
    "\te = r - v(i);\n",
    "    E = E + e * dt;\n",
    "    e_dot = (e - e_o) / dt;\n",
    "\tu = kP * e  + kI * E + kD * e_dot;\n",
    "\ta = c * u / m - gamma * v(i);\n",
    "\tv(i + 1) = v(i) + a * dt;\n",
    "\tt(i + 1) = t(i) + dt;\n",
    "    e_o = e;\n",
    "end\n",
    "\n",
    "figure(2); hold on;\n",
    "plot(t, v);\n",
    "ylim([0, r + 10]);\n",
    "xlabel('time'); ylabel('velocity');"
   ]
  },
  {
   "cell_type": "markdown",
   "metadata": {},
   "source": [
    "# 4. Examples\n",
    "\n",
    "## 4.1. PID Navigation"
   ]
  },
  {
   "cell_type": "code",
   "execution_count": 1,
   "metadata": {
    "collapsed": false
   },
   "outputs": [
    {
     "name": "stderr",
     "output_type": "stream",
     "text": [
      "Error: Function definitions are not permitted in this context.\n"
     ]
    }
   ],
   "source": [
    "%% PID Navigation\n",
    "\n",
    "clear all; close all;\n",
    "\n",
    "%% User Settings\n",
    "\n",
    "kP =  1.0;\n",
    "kI =  0.5;\n",
    "kD =  0.1;\n",
    "v  =  0.2; % constant speed\n",
    "se =  0.0; % initial angle\n",
    "rad=  0.5; % sensing radius\n",
    "\n",
    "gamma = 0.5;\n",
    "obstN = 20; % number of obstacle\n",
    "size  =  4; % feild size\n",
    "\n",
    "goal = [size*1.1 size*1.1]; % setting goal point\n",
    "pos  = [0 0]; % setting starting point\n",
    "\n",
    "%% Computing\n",
    "\n",
    "dt    =  0.1;\n",
    "t     =  0.0;\n",
    "r_old =  0.0;\n",
    "e     = [0 0 0 0]; % error initialize\n",
    "\n",
    "obst = size * rand(obstN, 2); % generate random obstacles\n",
    "\n",
    "escape = 0;\n",
    "figure(1); hold on;\n",
    "plot(obst(:, 1), obst(:, 2), 'ro');\n",
    "plot([pos(1) goal(1)], [pos(2) goal(2)], 'ko');\n",
    "xlim([-size*0.1 size*1.5]); ylim([-size*0.1 size*1.5]);\n",
    "\n",
    "while escape == 0\n",
    "\n",
    "    r = atan2(det([[1 0]; goal - pos]), dot([1 0], goal - pos)); % default reference angle is defined by the direction of goal - pos vector\n",
    "    if obstN ~= 0\n",
    "        do = size;\n",
    "        so = 0.0;\n",
    "        for i = 1 : obstN\n",
    "            d = dist(pos, obst(i, :)');\n",
    "            if d < do\n",
    "                do = d;\n",
    "                so = atan2(det([[1 0]; obst(i, :) - pos]), dot([1 0], obst(i, :) - pos));\n",
    "            end\n",
    "        end\n",
    "        if do < rad\n",
    "            if abs((so - pi) * 0.8 - 0.8 * r) > abs((so + pi) * 0.8 - 0.8 * r) % choose reference angle nearer to goal\n",
    "                r = (so + pi) * 0.8 + 0.2 * r; % 80% pure avoidance + 20% goal\n",
    "            else\n",
    "                r = (so - pi) * 0.8 + 0.2 * r;\n",
    "            end\n",
    "        end\n",
    "    end\n",
    "    \n",
    "    e(1) = r - se; % current error\n",
    "    e(2) = e(2) + e(1) * dt; % error integration\n",
    "    e(3) = (e(1) - e(4)) / dt; % error derivative\n",
    "    e(4) = e(1); % last error at next step\n",
    "    \n",
    "    w = kP * e(1)  + kI * e(2) + kD * e(3);\n",
    "    pos(1) = pos(1) + v * cos(se) * dt;\n",
    "    pos(2) = pos(2) + v * sin(se) * dt;\n",
    "    se = se + w * dt;\n",
    "    \n",
    "    plot(pos(1), pos(2), 'b.');\n",
    "    pause(0.01);\n",
    "    \n",
    "    if dist(pos, goal') < 0.1\n",
    "        escape = 1;\n",
    "    end\n",
    "    \n",
    "    t = t + dt;\n",
    "end\n",
    "\n",
    "time = t"
   ]
  },
  {
   "cell_type": "code",
   "execution_count": 1,
   "metadata": {
    "collapsed": false
   },
   "outputs": [
    {
     "data": {
      "application/javascript": [
       "$.getScript('https://kmahelona.github.io/ipython_notebook_goodies/ipython_notebook_toc.js')"
      ],
      "text/plain": [
       "<IPython.core.display.Javascript object>"
      ]
     },
     "metadata": {},
     "output_type": "display_data"
    }
   ],
   "source": [
    "%%javascript\n",
    "$.getScript('https://kmahelona.github.io/ipython_notebook_goodies/ipython_notebook_toc.js')"
   ]
  }
 ],
 "metadata": {
  "anaconda-cloud": {},
  "kernelspec": {
   "display_name": "Matlab",
   "language": "matlab",
   "name": "matlab_kernel"
  },
  "language_info": {
   "file_extension": ".m",
   "help_links": [
    {
     "text": "MetaKernel Magics",
     "url": "https://github.com/calysto/metakernel/blob/master/metakernel/magics/README.md"
    }
   ],
   "mimetype": "text/x-matlab",
   "name": "octave"
  }
 },
 "nbformat": 4,
 "nbformat_minor": 0
}
