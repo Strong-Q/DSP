{
 "cells": [
  {
   "cell_type": "markdown",
   "metadata": {},
   "source": [
    "# P1.\n",
    "\n",
    "We want to numerically compute \n",
    "$\\pi$ in various ways. Utilize the following equations to write m-codes. For your reference, the website (http://en.wikipedia.org/wiki/Pi) provides thoughtful backgrounds of how to compute $\\pi$.\n",
    "\n",
    "1) $\\int^\\infty_{-\\infty} \\frac{1}{1+x^2} dx = \\pi$\n",
    "|\n",
    "2) $\\frac{2}{\\pi} = \\frac{\\sqrt{2}}{2} \\cdot \\frac{\\sqrt{2+\\sqrt{2}}}{2} \\cdot \\frac{\\sqrt{2+\\sqrt{2+\\sqrt{2}}}}{2} \\cdots$\n",
    "\n",
    "3) $\\pi = \\frac{4}{1} - \\frac{4}{3} + \\frac{4}{5} - \\frac{4}{7} + \\frac{4}{9} - \\frac{4}{11} + \\cdots$"
   ]
  },
  {
   "cell_type": "code",
   "execution_count": null,
   "metadata": {
    "collapsed": true
   },
   "outputs": [],
   "source": [
    "dx = 0.01;\n",
    "n = 10000;\n",
    "x = -n:dx:n;\n",
    "\n",
    "temp_sum = 0;\n",
    "for i = 1:length(x)\n",
    "    temp_sum = temp_sum + dx*(1/(x(i)^2+1));\n",
    "end\n",
    "\n",
    "disp(temp_sum)"
   ]
  },
  {
   "cell_type": "code",
   "execution_count": null,
   "metadata": {
    "collapsed": true
   },
   "outputs": [],
   "source": [
    "r = 0;\n",
    "temp_prod = 1;\n",
    "\n",
    "for i = 1:10\n",
    "    r = sqrt(2+r);\n",
    "    temp_prod = temp_prod*r/2;    \n",
    "end\n",
    "\n",
    "disp(2/temp_prod)"
   ]
  },
  {
   "cell_type": "code",
   "execution_count": null,
   "metadata": {
    "collapsed": true
   },
   "outputs": [],
   "source": [
    "n = 10000;\n",
    "x = 1:2:n;\n",
    "\n",
    "temp_sum = 0;\n",
    "for i = 1:length(x)\n",
    "    temp_sum = temp_sum -(-1)^i*4/x(i);\n",
    "end\n",
    "\n",
    "disp(temp_sum)"
   ]
  },
  {
   "cell_type": "markdown",
   "metadata": {},
   "source": [
    "# P2.\n",
    "\n",
    "In this problem, we still want to calculate \n",
    "π , but it will be a totally different approach, Monte Carlo (MC) methods (probabilistic interpretation). Read the section of the introduction part in the Wikipedia (http://en.wikipedia.org/wiki/Monte_Carlo_method) to understand a fundamental concept of Monte Carlo. Try to understand MC with the given code.\n",
    "\n",
    "1) Draw a square on the ground, then inscribe a circle within it.\n",
    "\n",
    "2) Uniformly scatter some objects of uniform size (grains of rice or sand) over the square.\n",
    "\n",
    "3) Count the number of objects inside the circle and the total number of objects. The ratio of the two counts is an estimate of the ratio of the two areas, which is $\\pi$/4.  \n",
    "\n",
    "4) Multiply the result by 4 to estimate $\\pi$. "
   ]
  },
  {
   "cell_type": "code",
   "execution_count": null,
   "metadata": {
    "collapsed": true
   },
   "outputs": [],
   "source": [
    "clear all\n",
    "n = 1000;\n",
    "x = -1 + 2*rand(n,2);       % help rand\n",
    "count = 0;\n",
    "for j = 1:n\n",
    "    if norm(x(j,:)) <= 1    % help norm\n",
    "        count = count + 1;\n",
    "    end\n",
    "end\n",
    "\n",
    "pi_est = (count/n)*4;\n",
    "disp(pi_est)\n",
    "\n",
    "% visualize \n",
    "w = 0:0.01:2*pi;\n",
    "z = cos(w) + 1i*sin(w);\n",
    "\n",
    "figure(1);  cla;    hold on\n",
    "plot(x(:,1),x(:,2),'.');    \n",
    "plot(real(z),imag(z),'r','linewidth',3);    hold off\n",
    "axis equal"
   ]
  }
 ],
 "metadata": {
  "anaconda-cloud": {},
  "kernelspec": {
   "display_name": "Python [Root]",
   "language": "python",
   "name": "Python [Root]"
  },
  "language_info": {
   "codemirror_mode": {
    "name": "ipython",
    "version": 3
   },
   "file_extension": ".py",
   "mimetype": "text/x-python",
   "name": "python",
   "nbconvert_exporter": "python",
   "pygments_lexer": "ipython3",
   "version": "3.5.2"
  }
 },
 "nbformat": 4,
 "nbformat_minor": 0
}
