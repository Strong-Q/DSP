{
 "cells": [
  {
   "cell_type": "markdown",
   "metadata": {},
   "source": [
    "# P1.\n",
    "\n",
    "We want to explore a cycloid (refer to http://en.wikipedia.org/wiki/Cycloid for more information). A cycloid is the curve traced by a point on the rim of a circular wheel as the wheel rolls along a straight line.\n",
    "\n",
    "1) Create a m-code to plot the cycloid trajectory. Remember there are many ways to do it.  \n",
    "\n",
    "2) Create a m-code to animate a cycloid by a rolling unit circle. "
   ]
  },
  {
   "cell_type": "code",
   "execution_count": null,
   "metadata": {
    "collapsed": true
   },
   "outputs": [],
   "source": [
    "theta = 0:0.01:2*pi;\n",
    "\n",
    "x = theta - sin(theta); \n",
    "y = 1-cos(theta);\n",
    "\n",
    "figure(1)\n",
    "plot(x,y)\n",
    "axis equal"
   ]
  },
  {
   "cell_type": "code",
   "execution_count": null,
   "metadata": {
    "collapsed": true
   },
   "outputs": [],
   "source": [
    "clear z\n",
    "theta = 0-pi/2:0.01:2*pi+pi/2;\n",
    "z = theta + 1i - sin(theta) - 1i*cos(theta);\n",
    "figure(2)\n",
    "plot(real(z),imag(z))\n",
    "axis equal"
   ]
  },
  {
   "cell_type": "code",
   "execution_count": null,
   "metadata": {
    "collapsed": true
   },
   "outputs": [],
   "source": [
    "clear z\n",
    "theta = 0:0.01:2*pi;\n",
    "z = theta + 1i + exp(1i*(3*pi/2-theta));\n",
    "figure(3);  \n",
    "plot(real(z),imag(z))\n",
    "axis equal\n",
    "\n",
    "figure(4)\n",
    "t = 0:0.01:2*pi;\n",
    "c = 1i + exp(1i*t);\n",
    "\n",
    "for theta = 0:0.1:2*pi\n",
    "    w = theta + 1i + exp(1i*(3*pi/2-theta));\n",
    "    plot(theta + real(c),imag(c));  hold on\n",
    "    axis([-1 2*pi+1 -1 3])\n",
    "    axis equal    \n",
    "    plot([-1 2*pi+1],[0 0],'k')\n",
    "    plot(real(z),imag(z),'--')\n",
    "    plot(real(w),imag(w),'o','MarkerFaceColor','g');  hold off\n",
    "    pause(0.05)\n",
    "%     pause\n",
    "end"
   ]
  },
  {
   "cell_type": "markdown",
   "metadata": {},
   "source": [
    "# P2.\n",
    "\n",
    "Let's try more complicated one, hypotrochoid (http://en.wikipedia.org/wiki/Hypotrochoid).\n",
    "\n",
    "1) Write a m-code to plot the cycloid trajectory with r = 0.1, 0.2, 0.3, …,0.9 \n",
    "\n",
    "2) Animate the hypotrochoid with two circles (unit circle and circle with radius r ) "
   ]
  },
  {
   "cell_type": "code",
   "execution_count": null,
   "metadata": {
    "collapsed": true
   },
   "outputs": [],
   "source": [
    "theta = 0:0.01:2*pi;\n",
    "\n",
    "c = exp(1i*theta);\n",
    "r = 0.2;\n",
    "beta = 2*pi + theta*(1-1/r);\n",
    "z = (1-r)*exp(1i*theta) + r*exp(1i*beta);\n",
    "\n",
    "figure(5)\n",
    "% plot(real(c),imag(c));  hold on\n",
    "plot(real(z),imag(z));  hold off\n",
    "axis equal"
   ]
  },
  {
   "cell_type": "code",
   "execution_count": null,
   "metadata": {
    "collapsed": true
   },
   "outputs": [],
   "source": [
    "k = 15*pi;\n",
    "\n",
    "theta = 0:0.01:k;\n",
    "\n",
    "r = 1/sqrt(2);\n",
    "beta = 2*pi + theta*(1-1/r);\n",
    "c = exp(1i*theta);\n",
    "z = (1-r)*exp(1i*theta) + r*exp(1i*beta);\n",
    "\n",
    "figure(5)\n",
    "\n",
    "for x = 0:0.05:k\n",
    "    c2 = (1-r)*exp(1i*x) + r*exp(1i*theta);\n",
    "    w = (1-r)*exp(1i*x) + r*exp(1i*(2*pi + x*(1-1/r)));\n",
    "\n",
    "    plot(real(c),imag(c),'k');  hold on\n",
    "    plot(real(c2),imag(c2),'r','linewidth',2);  \n",
    "    plot(real(z),imag(z));  \n",
    "    plot(real(w),imag(w),'o','MarkerFaceColor','g')    \n",
    "    hold off\n",
    "    axis equal\n",
    "    pause(0.005)\n",
    "end"
   ]
  }
 ],
 "metadata": {
  "anaconda-cloud": {},
  "kernelspec": {
   "display_name": "Python [Root]",
   "language": "python",
   "name": "Python [Root]"
  },
  "language_info": {
   "codemirror_mode": {
    "name": "ipython",
    "version": 3
   },
   "file_extension": ".py",
   "mimetype": "text/x-python",
   "name": "python",
   "nbconvert_exporter": "python",
   "pygments_lexer": "ipython3",
   "version": "3.5.2"
  }
 },
 "nbformat": 4,
 "nbformat_minor": 0
}
