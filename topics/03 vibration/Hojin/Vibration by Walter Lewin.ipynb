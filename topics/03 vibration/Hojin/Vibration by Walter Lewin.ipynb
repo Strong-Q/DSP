{
 "cells": [
  {
   "cell_type": "markdown",
   "metadata": {
    "collapsed": true
   },
   "source": [
    "<font size = '6'><b>Vibration by Walter Lewin</b></font><br>\n",
    "\n",
    "http://isystems.unist.ac.kr/teaching/hse207/ <br>\n",
    "https://www.youtube.com/playlist?list=PLUdYlQf0_sSsdOhQ_8jfrAGzbGbJ7MXGe\n",
    "\n",
    "<table style=\"border-style: hidden; border-collapse: collapse;\" width = \"80%\"> \n",
    "    <tr style=\"border-style: hidden; border-collapse: collapse;\">\n",
    "        <td width = 55% style=\"border-style: hidden; border-collapse: collapse;\">\n",
    "             \n",
    "        </td>\n",
    "        <td width = 25%>\n",
    "            Collected by Prof. Seungchul Lee<br>iSystems (http://isystems.unist.ac.kr/)<br>UNIST\n",
    "        </td>\n",
    "    </tr>\n",
    "</table>\n",
    "\n",
    "Table of Contents\n",
    "<div id=\"toc\"></div>"
   ]
  },
  {
   "cell_type": "markdown",
   "metadata": {
    "collapsed": true
   },
   "source": [
    "# 1. Periodic Oscillation\n"
   ]
  },
  {
   "cell_type": "code",
   "execution_count": 2,
   "metadata": {
    "collapsed": false
   },
   "outputs": [
    {
     "data": {
      "text/html": [
       "<iframe src=\"https://www.youtube.com/embed/VuX_UExHa0M?list=PLaLOVNqqD-2FCUdVyherZVs3rEVlmA_e9\" \n",
       "width=\"560\" height=\"315\" frameborder=\"0\" allowfullscreen></iframe>"
      ],
      "text/plain": [
       "<IPython.core.display.HTML object>"
      ]
     },
     "metadata": {},
     "output_type": "display_data"
    }
   ],
   "source": [
    "%%html\n",
    "<iframe src=\"https://www.youtube.com/embed/VuX_UExHa0M?list=PLaLOVNqqD-2FCUdVyherZVs3rEVlmA_e9\" \n",
    "width=\"560\" height=\"315\" frameborder=\"0\" allowfullscreen></iframe>"
   ]
  },
  {
   "cell_type": "markdown",
   "metadata": {},
   "source": [
    "## 1.1. Definition of Vibration\n",
    "\n",
    "- Vibration: a mechanical phenomenon whereby oscillations occur about an equilibrium point\n",
    "\n",
    "## 1.2. Periodic Oscillation\n",
    "\n",
    "$$\n",
    "\\begin{array}{lll}\n",
    "\\text{displacement} & x = x_0 \\cos{(\\omega t + \\varphi)}, & \\quad \\text{where } \\space \\theta = \\omega t + \\varphi \\\\\n",
    "\\text{angular frequency} & \\omega \\space [\\text{rad} \\space /  s] & \\space \\\\\n",
    "\\text{period} & T = \\frac {2 \\pi}{\\omega} \\space [s] \\\\\n",
    "\\text{frequency} & f = \\frac {1}{T} \\space [Hz]\n",
    "\\end{array}\n",
    "$$\n",
    "\n",
    "## 1.3. Mass & Spring System\n",
    "\n",
    "$$\n",
    "\\begin{array}{lll}\n",
    "F = ma = m \\ddot{x} = -kx \\\\\n",
    "\\therefore \\quad \\ddot{x} + \\frac {k}{m} x = 0 & \\Rightarrow & \\omega = \\sqrt{\\frac{k}{m}} \\\\\n",
    "&& T = 2 \\pi \\sqrt{\\frac{m}{k}} \\\\\n",
    "\\end{array}\n",
    "$$\n",
    "\n",
    "## 1.4. $e^{j\\theta}$ for Unit Circle\n",
    "\n",
    "$$\n",
    "\\begin{array}{llll}\n",
    "z & = & \\cos{\\theta} + j \\sin{\\theta} = e^{j\\theta} \\qquad (\\text{unit}) \\\\\n",
    "\\\\\n",
    "z & = & A (\\cos{\\theta} + j \\sin{\\theta}) \\\\\n",
    "& = & Ae^{j\\theta} \\\\\n",
    "& = & a + jb & \\text{where} \\quad a^2 + b^2 = A, \\quad \\tan{\\theta} = \\frac{b}{a}\\\\\n",
    "\\end{array}\n",
    "$$"
   ]
  },
  {
   "cell_type": "markdown",
   "metadata": {},
   "source": [
    "# 2. Physical Pendulum\n",
    "\n",
    "## 2.1. Pendulum (with a Point Mass)\n",
    "\n",
    "$$\n",
    "T = 2 \\pi \\sqrt{\\frac{l}{g}}\n",
    "$$\n",
    "\n",
    "## 2.2. Pendulum (with a Rigid Body)\n",
    "\n",
    "$$\n",
    "\\begin{array}{l}\n",
    "\\vec{F} & = & m \\vec{a} \\\\\n",
    "\\vec{\\tau} & = & I \\vec{\\alpha} & \\text{where} \\quad \\alpha = \\ddot{\\theta} \\\\\n",
    "& = & \\vec{r} \\times \\vec{F} \\\\ \\\\\n",
    "\\end{array}\n",
    "\\\\\n",
    "\\begin{array}{l}\n",
    "-lmg\\sin{\\theta} = I_p \\ddot{\\theta} & \\Rightarrow & \\ddot{\\theta} + \\frac{lmg}{I_p} \\theta = 0 \\\\\n",
    "&& \\theta = \\theta_0 \\cos{(\\omega t + \\varphi)} \\\\\n",
    "&& \\therefore \\quad \\omega = \\sqrt{\\frac{lmg}{I_p}}, \\quad T = 2 \\pi \\sqrt{\\frac{I_p}{lmg}}\n",
    "\\end{array}\n",
    "$$"
   ]
  },
  {
   "cell_type": "markdown",
   "metadata": {},
   "source": [
    "# 3. Beats"
   ]
  },
  {
   "cell_type": "code",
   "execution_count": 3,
   "metadata": {
    "collapsed": false
   },
   "outputs": [
    {
     "data": {
      "text/html": [
       "<iframe src=\"https://www.youtube.com/embed/pnfZjGIyKVw?list=PLaLOVNqqD-2FCUdVyherZVs3rEVlmA_e9\" \n",
       "width=\"560\" height=\"315\" frameborder=\"0\" allowfullscreen></iframe>"
      ],
      "text/plain": [
       "<IPython.core.display.HTML object>"
      ]
     },
     "metadata": {},
     "output_type": "display_data"
    }
   ],
   "source": [
    "%%html\n",
    "<iframe src=\"https://www.youtube.com/embed/pnfZjGIyKVw?list=PLaLOVNqqD-2FCUdVyherZVs3rEVlmA_e9\" \n",
    "width=\"560\" height=\"315\" frameborder=\"0\" allowfullscreen></iframe>"
   ]
  },
  {
   "cell_type": "markdown",
   "metadata": {},
   "source": [
    "$$\n",
    "\\begin{array}{l}\n",
    "x_1 & = & A \\cos{\\omega_1 t} \\\\\n",
    "x_2 & = & A \\cos{\\omega_2 t} \\\\\n",
    "x  & = & x_1 + x_2 & = & 2A \\cos{\\left(\\frac{\\omega_1 + \\omega_2}{2} t \\right)} \\cos{\\left(\\frac{\\omega_1 - \\omega_2}{2} t \\right)} \\\\ \\\\\n",
    "\\end{array} \n",
    "$$\n",
    "\n",
    "\n",
    "- Slow angular frequency, $\\frac{\\omega_1 - \\omega_2}{2}$, is connected with 'beats frequency.' \n",
    "\n",
    "- It always has a possibility to occur with linear combinations of sinusoidal functions.\n",
    "\n",
    "$$\n",
    "\\begin{array}{l}\n",
    "f_{\\text{beat}} = \\frac{f_1 + f_2}{4}\n",
    "\\end{array}\n",
    "$$"
   ]
  },
  {
   "cell_type": "markdown",
   "metadata": {},
   "source": [
    "# 4. Damped Free Oscillations"
   ]
  },
  {
   "cell_type": "code",
   "execution_count": 4,
   "metadata": {
    "collapsed": false
   },
   "outputs": [
    {
     "data": {
      "text/html": [
       "<iframe src=\"https://www.youtube.com/embed/Y_DmzZcQR7A?list=PLaLOVNqqD-2FCUdVyherZVs3rEVlmA_e9\" \n",
       "width=\"560\" height=\"315\" frameborder=\"0\" allowfullscreen></iframe>"
      ],
      "text/plain": [
       "<IPython.core.display.HTML object>"
      ]
     },
     "metadata": {},
     "output_type": "display_data"
    }
   ],
   "source": [
    "%%html\n",
    "<iframe src=\"https://www.youtube.com/embed/Y_DmzZcQR7A?list=PLaLOVNqqD-2FCUdVyherZVs3rEVlmA_e9\" \n",
    "width=\"560\" height=\"315\" frameborder=\"0\" allowfullscreen></iframe>"
   ]
  },
  {
   "cell_type": "markdown",
   "metadata": {},
   "source": [
    "## 4.1. Underdamped Free Oscillations\n",
    "$$\n",
    "\\begin{array}{l}\n",
    "\\vec{F}_{fr} & = & - C_1 \\vec{v} - C_2 v^2 \\hat{v} & \\implies & m \\ddot{x} & = & - kx - b \\dot{x} \\\\\n",
    "&&& \\implies & \\ddot{x} + \\gamma \\dot{x} + \\omega^2_0 x & = & 0 \\\\\n",
    "&&& \\implies & x & = & A e^{-\\frac{\\gamma}{2} t} e^{j(\\omega t + \\alpha)} \\\\\n",
    "&&& \\therefore & x & = & A e^{-\\frac{\\gamma}{2} t} \\cos{(\\omega t + \\alpha)} \\\\\n",
    "\\\\\n",
    "\\end{array}\n",
    "$$\n",
    "\n",
    "$$\n",
    "\\begin{array}{l}\n",
    "\\text{where} & \\frac{k}{m} & = & \\omega_o^2 \\\\\n",
    "& \\frac{b}{m} & = & \\gamma\\\\\n",
    "& \\omega^2 & = & \\omega_0^2 - \\frac{\\gamma^2}{4} \\\\\n",
    "&& = & \\omega^2_0 \\left(1 - \\frac{1}{4 Q^2} \\right) \\\\\n",
    "& Q & = & \\frac{\\omega_0}{\\gamma} & (\\text{Quality, Q}) \\\\\n",
    "\\end{array}\n",
    "$$"
   ]
  },
  {
   "cell_type": "markdown",
   "metadata": {},
   "source": [
    "## 4.2. Others\n",
    "\n",
    "- undamped (we already studied)\n",
    "- overdamped, critical damped (not covered in this note)"
   ]
  },
  {
   "cell_type": "markdown",
   "metadata": {},
   "source": [
    "# 5. Forced Oscillations"
   ]
  },
  {
   "cell_type": "code",
   "execution_count": 5,
   "metadata": {
    "collapsed": false
   },
   "outputs": [
    {
     "data": {
      "text/html": [
       "<iframe src=\"https://www.youtube.com/embed/rhvBDN1OQJ4?list=PLaLOVNqqD-2FCUdVyherZVs3rEVlmA_e9\" \n",
       "width=\"560\" height=\"315\" frameborder=\"0\" allowfullscreen></iframe>"
      ],
      "text/plain": [
       "<IPython.core.display.HTML object>"
      ]
     },
     "metadata": {},
     "output_type": "display_data"
    }
   ],
   "source": [
    "%%html\n",
    "<iframe src=\"https://www.youtube.com/embed/rhvBDN1OQJ4?list=PLaLOVNqqD-2FCUdVyherZVs3rEVlmA_e9\" \n",
    "width=\"560\" height=\"315\" frameborder=\"0\" allowfullscreen></iframe>"
   ]
  },
  {
   "cell_type": "markdown",
   "metadata": {},
   "source": [
    "## 5.1. Forced Oscillations with Damping\n",
    "\n",
    "$$\n",
    "\\begin{array}{l}\n",
    "\\frac{b}{m} & = & \\gamma \\\\\n",
    "\\omega^2_0 & = & \\frac{k}{m} \\\\\n",
    "m \\ddot{x} & = & - kx - b \\dot{x} + F_0 \\cos{\\omega t} \\\\ \\\\\n",
    "\\end{array}\n",
    "$$\n",
    "\n",
    "$$\n",
    "\\begin{array}{l}\n",
    "& \\ddot{z} + \\gamma \\dot{z} + \\omega^2_0 z & = & \\frac{F_0}{m} e^{j\\omega t} \\\\\n",
    "\\implies & z & = & A e^{j(\\omega t - \\delta)} & \\quad \\text{steady-state solution (partial solution)} \\\\\n",
    "&&&& \\quad \\text{homogeneous solution disappears by damping as} \\;t \\rightarrow \\infty \\\\\n",
    "\\implies & x & = & A \\cos{(\\omega t - \\delta)} \\\\ \\\\\n",
    "\\end{array}\n",
    "$$\n",
    "\n",
    "$$\n",
    "\\begin{array}{l}\n",
    "\\space & (-\\omega^2 + j\\gamma \\omega + \\omega^2_0) A e^{j(\\omega t - \\delta)} & = & \\frac{F_0}{m} e^{j\\omega t} \\\\\n",
    "\\implies & (-\\omega^2 + j\\gamma \\omega + \\omega^2_0) A & = & \\frac{F_0}{m} e^{j\\delta} \\\\\n",
    "&& = & \\frac{F_0}{m} (\\cos{\\delta} + j\\sin{\\delta}) \\\\ \\\\\n",
    "\\therefore & (-\\omega^2 + \\omega^2_0) A & = & \\frac{F_0}{m} \\cos{\\delta} & \\Rightarrow & A & = & \\frac{F_0}{m} / \\sqrt{(\\omega_0^2 - \\omega^2)^2 + (\\omega \\gamma)^2} \\\\\n",
    "& \\gamma \\omega A & = & \\frac{F_0}{m} \\sin{\\delta} & \\Rightarrow & \\tan{\\delta} & = & \\frac{\\gamma \\omega}{\\omega_0^2 - \\omega^2} \\\\\n",
    "\\end{array}\n",
    "$$"
   ]
  },
  {
   "cell_type": "markdown",
   "metadata": {},
   "source": [
    "## 5.2. Resonance\n",
    "\n",
    "$$\n",
    "\\begin{array}{l}\n",
    "\\omega & \\rightarrow & 0 & \\implies & A & \\rightarrow & \\frac{F_0}{m \\omega^2_0} & = & \\frac{F_0}{k}, & \\delta & \\rightarrow & 0 \\\\\n",
    "\\omega & \\rightarrow & \\omega_0 & \\implies & A & \\rightarrow & \\frac{F_0}{m \\omega_0 \\gamma} & = & \\frac{F_0}{k} Q, & \\delta & \\rightarrow & \\frac{\\pi}{2} \\\\\n",
    "\\omega & \\rightarrow & \\infty & \\implies & A & \\rightarrow & 0, &&& \\delta & \\rightarrow & \\pi \\\\ \\\\\n",
    "\\end{array} \\\\\n",
    "\\begin{array}{l}\n",
    "\\left.\\frac{dA}{d\\omega} \\right|_{\\omega = \\omega_{max}} & = & 0 & & \\implies & \\omega_{max} & = & \\sqrt{\\left(\\omega^2_0 - \\frac{\\gamma^2}{2}\\right)}\\\\\n",
    "&&&&&& = & \\omega_0 \\sqrt{1 - \\frac{1}{2Q^2}} \\\\\n",
    "&&&&&& \\approx & \\omega_0\n",
    "\\end{array}\n",
    "$$"
   ]
  },
  {
   "cell_type": "markdown",
   "metadata": {
    "collapsed": true
   },
   "source": [
    "## 5.3. Other Example (at Pendulum)\n",
    "\n",
    "$$\n",
    "\\begin{array}{l}\n",
    "\\eta & = & \\eta_0 \\cos{\\omega t} \\\\\n",
    "T & \\approx & mg \\\\\n",
    "\\gamma & = & \\frac{b}{m} \\\\\n",
    "\\omega^2_0 & \\approx & \\frac{g}{l} \\\\ \\\\\n",
    "\\end{array} \\\\\n",
    "\\begin{array}{l}\n",
    "m\\ddot{x} & = & - b\\dot{x} - mg\\sin{\\theta} & \\text{where} & \\sin{\\theta} & = & \\frac{x - \\eta}{l} \\\\\n",
    "& \\approx & - b\\dot{x} - mg\\frac{x - \\eta}{l} \\\\\n",
    "& = & - b\\dot{x} - mg\\frac{x}{l} + \\frac{mg\\eta_0}{l} \\cos{\\omega t} \\\\ \\\\\n",
    "\\end{array}\\\\\n",
    "\\therefore \\quad \\ddot{x} + \\gamma \\dot{x} + \\omega^2_0 x \\quad = \\quad \\omega^2_0 \\eta_0 \\cos{\\omega t} \\\\\n",
    "$$"
   ]
  },
  {
   "cell_type": "markdown",
   "metadata": {},
   "source": [
    "## 5.4. with Transient State\n",
    "\n",
    "$$\n",
    "\\begin{array}{l}\n",
    "\\omega^2_0 & = & \\frac{k}{m} \\\\\n",
    "\\gamma & = & \\frac{b}{m} \\\\\n",
    "\\omega ' & = & \\sqrt{\\omega^2_0 - \\frac{\\gamma^2}{4}} \\\\ \\\\\n",
    "\\end{array} \\\\\n",
    "\\begin{array}{l}\n",
    "\\text{with no force} & \\implies & x & = & X e^{-\\frac{\\gamma}{2} t} \\cos{\\omega ' t + \\alpha} & \\qquad \\text{homogeneous solution} \\\\\n",
    "\\text{with force} & \\implies & x & = & A \\cos{(\\omega t - \\delta)} + X e^{-\\frac{\\gamma}{2} t} \\cos{\\omega ' t + \\alpha} & \\qquad \\text{general solution} \\\\ \\\\\n",
    "\\end{array} \\\\\n",
    "\\text{Beat effect can occur.} \\\\\n",
    "$$"
   ]
  },
  {
   "cell_type": "markdown",
   "metadata": {},
   "source": [
    "## 5.5. Power\n",
    "\n",
    "$$\n",
    "\\begin{array}{l}\n",
    "\\space & dW & = & F \\cdot dx \\\\\n",
    "\\implies & P & = & \\frac{dW}{dt} \\\\\n",
    "&& = & F \\cdot v \\\\\n",
    "&& = & - F_0 \\omega A \\cos{\\omega t} \\space [\\sin{\\omega t - \\delta}] \\\\\n",
    "&& = & - F_0 \\omega A \\cos{\\omega t} \\space [\\sin{\\omega t} \\cos{\\delta} - \\cos{\\omega t} \\sin{\\delta}] \\\\ \\\\\n",
    "\\implies & \\bar{P} & = & \\frac{F_0}{2} \\omega A \\sin{\\delta} & \\text{where} & \\sin \\delta & = & \\frac{\\omega \\gamma}{\\sqrt{{(\\omega^2_0 - \\omega^2)}^2 + {(\\omega \\gamma)}^2}} \\\\\n",
    "&& = & \\frac{F_0^2 \\omega^2 \\gamma}{2m \\left[{(\\omega_0^2 - \\omega^2)}^2 + {(\\omega \\gamma)}^2 \\right]} && A & = & \\frac{F_0}{m} / \\sqrt{{(\\omega^2_0 - \\omega^2)}^2 + {(\\omega \\gamma)}^2} \\\\\n",
    "&& = & \\frac{F_0^2 \\gamma}{2m \\left[{(\\frac{\\omega_0^2}{\\omega^2} - \\omega)}^2 + \\gamma^2 \\right]} \\\\ \\\\ \\\\\n",
    "\\end{array} \\\\\n",
    "\\begin{array}{l}\n",
    "\\gamma & \\rightarrow & \\infty & \\quad\\implies \\quad & \\bar{P} & \\rightarrow & 0 \\\\\n",
    "m & \\rightarrow & \\infty & \\quad \\implies  \\quad & \\bar{P} & \\rightarrow & 0 \\\\\n",
    "F_0 & \\rightarrow & 0 & \\quad \\implies \\quad & \\bar{P} & \\rightarrow & 0 \\\\\n",
    "\\omega & \\rightarrow & 0 & \\quad \\implies \\quad & \\bar{P} & \\rightarrow & 0 \\\\\n",
    "\\omega & \\rightarrow & \\infty & \\quad \\implies \\quad & \\bar{P} & \\rightarrow & 0 \\\\\n",
    "\\omega & \\rightarrow & \\omega_0 & \\quad \\implies \\quad & \\bar{P} & \\rightarrow & \\bar{P}_{max} & = & \\frac{F_0}{2m \\gamma} \\\\\n",
    "&&&&&&& = & \\frac{Q F_0^2}{2m \\omega_0} \\\\\n",
    "\\end{array}\n",
    "$$"
   ]
  },
  {
   "cell_type": "markdown",
   "metadata": {
    "collapsed": true
   },
   "source": [
    "# 6. Coupled Oscillators"
   ]
  },
  {
   "cell_type": "code",
   "execution_count": 6,
   "metadata": {
    "collapsed": false
   },
   "outputs": [
    {
     "data": {
      "text/html": [
       "<iframe src=\"https://www.youtube.com/embed/Ye92jN6FrlU?list=PLaLOVNqqD-2FCUdVyherZVs3rEVlmA_e9\" \n",
       "width=\"560\" height=\"315\" frameborder=\"0\" allowfullscreen></iframe>"
      ],
      "text/plain": [
       "<IPython.core.display.HTML object>"
      ]
     },
     "metadata": {},
     "output_type": "display_data"
    }
   ],
   "source": [
    "%%html\n",
    "<iframe src=\"https://www.youtube.com/embed/Ye92jN6FrlU?list=PLaLOVNqqD-2FCUdVyherZVs3rEVlmA_e9\" \n",
    "width=\"560\" height=\"315\" frameborder=\"0\" allowfullscreen></iframe>"
   ]
  },
  {
   "cell_type": "markdown",
   "metadata": {},
   "source": [
    "## 6.1. Coupled Oscillators (Basic Example)\n",
    "\n",
    "$$\n",
    "\\begin{array}{l}\n",
    "\\space \\\\\n",
    "x_1 & = & {x_0}_- \\cos{\\omega_- t + \\varphi_-} + {x_0}_+ \\cos{\\omega_+ t + \\varphi_+} \\\\\n",
    "x_2 & = & {x_0}_- \\cos{\\omega_- t + \\varphi_-} - {x_0}_+ \\cos{\\omega_+ t + \\varphi_+} \\\\ \\\\\n",
    "\\end{array} \\\\\n",
    "\\omega_- \\quad \\omega_+ \\quad ? \\\\\n",
    "\\begin{array}{l}\n",
    "\\space \\\\\n",
    "\\omega_- & = & \\sqrt{\\frac{g}{l}} \\quad (\\omega_0) \\\\\n",
    "\\omega_+ & = & \\sqrt{2 \\omega_s^2 + \\omega_0^2} \\\\ \\\\\n",
    "\\end{array}\n",
    "$$\n",
    "If initial conditions are given, the equations are determined.\n",
    "$$\n",
    "\\begin{array}{l}\n",
    "\\space \\\\\n",
    "t & = & 0 & x_1 & = & C, & v_1 & = & 0 & \\Rightarrow & \\dot{x}_1 & = & 0\\\\\n",
    "&&& x_2 & = & 0, & v_2 & = & 0 & \\Rightarrow & \\dot{x}_2 & = & 0\\\\\n",
    "\\end{array} \\\\\n",
    "\\begin{array}{l}\n",
    "\\space \\\\\n",
    "x_1 & = & \\frac{1}{2} C \\cos{\\omega_- t} + \\frac{1}{2} C \\cos{\\omega_+ t} & \\implies & x_1 & = & C \\cos{(\\frac{\\omega_- + \\omega_+}{2} t)} \\cos{(\\frac{\\omega_- - \\omega_+}{2} t)} \\\\\n",
    "x_2 & = & \\frac{1}{2} C \\cos{\\omega_- t} - \\frac{1}{2} C \\cos{\\omega_+ t} & \\implies & x_2 & = & C \\sin{(\\frac{\\omega_- + \\omega_+}{2} t)} \\sin{(\\frac{\\omega_- - \\omega_+}{2} t)} \\\\ \\\\\n",
    "\\end{array} \\\\\n",
    "$$\n",
    "\n",
    "Coupled oscillators consist of the combination of 'normal modes.'\n"
   ]
  },
  {
   "cell_type": "markdown",
   "metadata": {},
   "source": [
    "## 6.2. General Recipes for Finding Normal Modes\n",
    "\n",
    "\n",
    "\n",
    "\n",
    "1) give each object a displacement from equilibrium. \n",
    "\n",
    "2) write down Newton's $2^{nd}$ law for each object. \n",
    "\n",
    "3) substitute displacements of 2) as 1)\n",
    "\n",
    "$$\n",
    "\\begin{array}{l}\n",
    "\\omega_0^2 & = & \\frac{g}{l} \\\\\n",
    "\\omega_s^2 & = & \\frac{k}{m} \\\\\n",
    "|F_s| & = & k|x_2 - x_1| \\\\ \\\\\n",
    "\\end{array} \\\\\n",
    "\\begin{array}{l}\n",
    "m\\ddot{x_1} & = & - mg \\frac{x_1}{l} + k(x_2 - x_1) & \\implies & \\ddot{x_1} + (\\omega_0^2 + \\omega_s^2)x_1 - \\omega_s^2 x_2 & = & 0 \\\\\n",
    "m\\ddot{x_2} & = & - mg \\frac{x_2}{l} - k(x_1 - x_2) & \\implies & \\ddot{x_2} + (\\omega_0^2 + \\omega_s^2)x_2 - \\omega_s^2 x_1 & = & 0 \\\\ \\\\\n",
    "\\end{array} \\\\\n",
    "\\begin{array}{l}\n",
    "x_1 & = & C_1 \\cos{\\omega t} \\\\\n",
    "x_2 & = & C_2 \\cos{\\omega t} \\\\ \\\\\n",
    "\\end{array} \\\\\n",
    "\\begin{array}{l}\n",
    "\\Rightarrow & -\\omega^2 C_1 + (\\omega_0^2 + \\omega_s^2) C_1 - \\omega_s^2 C_2 & = & 0 \\\\\n",
    "& -\\omega^2 C_2 + (\\omega_0^2 + \\omega_s^2) C_2 - \\omega_s^2 C_1 & = & 0 \\\\ \\\\\n",
    "\\end{array} \\\\\n",
    "\\begin{array}{l}\n",
    "\\Rightarrow & \\frac{C_1}{C_2} & = & \\frac{\\omega_s^2}{-\\omega^2 + \\omega_0^2 + \\omega_s^2} & = & \\frac{-\\omega^2 + \\omega_0^2 + \\omega_s^2}{\\omega_s^2}\\\\ \\\\\n",
    "\\end{array} \\\\\n",
    "\\begin{array}{l}\n",
    "\\therefore & \\omega^2 & = & \\omega_0^2 & or & \\omega_0^2 + 2\\omega_s^2 \\\\ \\\\\n",
    "\\end{array} \\\\\n",
    "\\begin{array}{l}\n",
    "\\omega_- & \\implies & \\frac{C_1}{C_2} & = & +1 \\\\\n",
    "\\omega_+ & \\implies & \\frac{C_1}{C_2} & = & -1 \\\\ \\\\\n",
    "\\end{array} \\\\\n",
    "\\begin{array}{l}\n",
    "n \\;\\text{objects} & \\implies & 2n \\times 2n \\; \\text{matrix} \\implies & n \\; \\text{normal modes} & \\because & \\text{a normal mode consists of two  basis}\\\\\n",
    "\\end{array}\n",
    "$$"
   ]
  },
  {
   "cell_type": "markdown",
   "metadata": {
    "collapsed": true
   },
   "source": [
    "## 6.3. Driven Coupled Oscillatiors with Crammer's Rule (Other Examples)"
   ]
  },
  {
   "cell_type": "code",
   "execution_count": 7,
   "metadata": {
    "collapsed": false
   },
   "outputs": [
    {
     "data": {
      "text/html": [
       "<iframe src=\"https://www.youtube.com/embed/X_a1au9yW1M?list=PLaLOVNqqD-2FCUdVyherZVs3rEVlmA_e9\" \n",
       "width=\"560\" height=\"315\" frameborder=\"0\" allowfullscreen></iframe>"
      ],
      "text/plain": [
       "<IPython.core.display.HTML object>"
      ]
     },
     "metadata": {},
     "output_type": "display_data"
    }
   ],
   "source": [
    "%%html\n",
    "<iframe src=\"https://www.youtube.com/embed/X_a1au9yW1M?list=PLaLOVNqqD-2FCUdVyherZVs3rEVlmA_e9\" \n",
    "width=\"560\" height=\"315\" frameborder=\"0\" allowfullscreen></iframe>"
   ]
  },
  {
   "cell_type": "markdown",
   "metadata": {},
   "source": [
    "## 6.4. Transverse Traveling Pulses as Coupled Oscillators"
   ]
  },
  {
   "cell_type": "code",
   "execution_count": 8,
   "metadata": {
    "collapsed": false
   },
   "outputs": [
    {
     "data": {
      "text/html": [
       "<iframe src=\"https://www.youtube.com/embed/c9AePvHDvIo?list=PLaLOVNqqD-2FCUdVyherZVs3rEVlmA_e9\" \n",
       "width=\"560\" height=\"315\" frameborder=\"0\" allowfullscreen></iframe>"
      ],
      "text/plain": [
       "<IPython.core.display.HTML object>"
      ]
     },
     "metadata": {},
     "output_type": "display_data"
    }
   ],
   "source": [
    "%%html\n",
    "<iframe src=\"https://www.youtube.com/embed/c9AePvHDvIo?list=PLaLOVNqqD-2FCUdVyherZVs3rEVlmA_e9\" \n",
    "width=\"560\" height=\"315\" frameborder=\"0\" allowfullscreen></iframe>"
   ]
  },
  {
   "cell_type": "code",
   "execution_count": 8,
   "metadata": {
    "collapsed": false
   },
   "outputs": [
    {
     "data": {
      "application/javascript": [
       "$.getScript('https://kmahelona.github.io/ipython_notebook_goodies/ipython_notebook_toc.js')"
      ],
      "text/plain": [
       "<IPython.core.display.Javascript object>"
      ]
     },
     "metadata": {},
     "output_type": "display_data"
    }
   ],
   "source": [
    "%%javascript\n",
    "$.getScript('https://kmahelona.github.io/ipython_notebook_goodies/ipython_notebook_toc.js')"
   ]
  }
 ],
 "metadata": {
  "kernelspec": {
   "display_name": "Python 3",
   "language": "python",
   "name": "python3"
  },
  "language_info": {
   "codemirror_mode": {
    "name": "ipython",
    "version": 3
   },
   "file_extension": ".py",
   "mimetype": "text/x-python",
   "name": "python",
   "nbconvert_exporter": "python",
   "pygments_lexer": "ipython3",
   "version": "3.3.5"
  }
 },
 "nbformat": 4,
 "nbformat_minor": 0
}
