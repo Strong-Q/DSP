{
 "cells": [
  {
   "cell_type": "markdown",
   "metadata": {},
   "source": [
    "<font size = '6'><b>Discrete Time Fourier Transform (DTFT)</b></font>"
   ]
  },
  {
   "cell_type": "markdown",
   "metadata": {},
   "source": [
    "# 1. DTFT\n",
    "\n",
    "## 1.1 DTFT\n",
    "\n",
    "It is simillar with DFT. But, DTFT is analyzing infinite-length signals $(\\, N \\, \\rightarrow \\infty\\, )$\n",
    "\n"
   ]
  },
  {
   "cell_type": "markdown",
   "metadata": {},
   "source": [
    "## 1.2 DTFT Frequency\n",
    "\n",
    "If $\\,N\\, \\rightarrow \\infty ,\\, k \\rightarrow \\infty$ so, we better to express $\\omega _k$ than $\\frac {2\\pi k}{N}$"
   ]
  },
  {
   "cell_type": "markdown",
   "metadata": {},
   "source": [
    "## 1.3 Take It To The Limit\n",
    "x[n]의 N값을 키우면서 플랏\n"
   ]
  },
  {
   "cell_type": "markdown",
   "metadata": {},
   "source": [
    "## 1.4 DTFT and Inverse DTFT\n",
    "\n",
    "식어떻게 변하는지\n"
   ]
  },
  {
   "cell_type": "markdown",
   "metadata": {},
   "source": [
    "# 2. DTFT Examples\n",
    "\n",
    "## 2.1 DTFT of Unit Pluse\n",
    "\n",
    "$$p[n]\\, =\\, \\begin{cases}\n",
    "1\\quad -M\\, \\leq\\, n\\, \\leq \\, M\\\\\n",
    "0\\quad \\text{otherwise}\n",
    "\\end{cases}\n",
    "$$\n",
    "\n",
    "$$P(w)\\, =\\, \\sum_{n=-\\infty}^\\infty \\, p[n]\\, e^{-j\\omega n}\\, =\\, \\sum_{n=-M}^M \\,e^{-j\\omega n}\\, = \\, \\frac{e^{j\\omega M}\\, -\\, e^{-j\\omega (M+1)}}{1\\, -\\, e^{-j\\omega}}\\, =\\, \\frac{e^{-j\\omega /2}(e^{j\\omega \\frac{2M+1}{2}}\\, -\\, e^{-j\\omega \\frac{2M+1}{2}})}{e^{-j\\omega /2} (e^{j\\omega /2}\\, -\\, e^{-j\\omega /2})}\\, =\\, \\frac{2j\\, sin(\\omega \\frac{2M+1}{2})}{2j\\, sin(\\frac{\\omega}{2})}$$\n",
    "\n",
    "\n",
    "! Think about impulse"
   ]
  },
  {
   "cell_type": "markdown",
   "metadata": {},
   "source": [
    "## 2.2 Impulse Response of the Ideal Lowpass Filter\n",
    "\n",
    "$$H(\\omega)\\, =\\, \\begin{cases}\n",
    "1\\quad -\\omega _c\\, \\leq \\, \\omega\\, \\leq \\, \\omega _c\\\\\n",
    "0\\quad \\text{otherwise}\n",
    "\\end{cases}$$\n",
    "\n",
    "$$h[n]\\, =\\, \\int_{-\\pi}^{\\pi} H(\\omega)\\, e^{j\\omega n} \\frac{d\\omega}{2\\pi}\\, =\\, \\int_{-\\omega _c}^{\\omega _c} e^{j\\omega n} \\frac{d\\omega}{2\\pi}\\, = \\, \\frac{e^{j\\omega _c n}\\, -\\, e^{-j\\omega _c n}}{jn}\\, = 2\\omega _c \\frac{sin(\\omega _c n)}{\\omega _c n}$$\n",
    "\n",
    "$\\omega _c$ 작아지면 주파수 범위 좁아짐 but, 시간범위 늘어남 첫번쨰 x절편?이 pi/omega_c"
   ]
  },
  {
   "cell_type": "markdown",
   "metadata": {},
   "source": []
  }
 ],
 "metadata": {
  "kernelspec": {
   "display_name": "Python [Root]",
   "language": "python",
   "name": "Python [Root]"
  },
  "language_info": {
   "codemirror_mode": {
    "name": "ipython",
    "version": 3
   },
   "file_extension": ".py",
   "mimetype": "text/x-python",
   "name": "python",
   "nbconvert_exporter": "python",
   "pygments_lexer": "ipython3",
   "version": "3.5.2"
  }
 },
 "nbformat": 4,
 "nbformat_minor": 0
}
