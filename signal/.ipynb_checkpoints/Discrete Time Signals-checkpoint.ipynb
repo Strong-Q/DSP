{
 "cells": [
  {
   "cell_type": "markdown",
   "metadata": {},
   "source": [
    "<font size = '6'><b>Descrete Signals</b></font>\n"
   ]
  },
  {
   "cell_type": "markdown",
   "metadata": {},
   "source": [
    "# 1. Discrete Time Signals\n",
    "\n",
    "__Definition :__ A __signal__ is a function that maps an independent variable to a dependent variable.\n",
    "\n",
    "Each n has certain value x[n].\n",
    "\n",
    "- Independent variable is an __integer__: $n \\in \\mathbb{Z}$\n",
    "- Dependent variable is a real or complex number: $x[n] \\in \\mathbb{R}\\; \\text{or} \\;\\mathbb{C}$"
   ]
  },
  {
   "cell_type": "markdown",
   "metadata": {},
   "source": [
    "## 1.1 Plotting Real Signals\n",
    "\n",
    "n에 대응하는 x[n]값을 플랏\n"
   ]
  },
  {
   "cell_type": "code",
   "execution_count": null,
   "metadata": {
    "collapsed": true
   },
   "outputs": [],
   "source": [
    "%plot -s 560,300\n",
    "\n",
    "t = [0:0.01:2];\n",
    "x = sin(2*pi*t);\n",
    "\n",
    "plot(t,x,t,zeros(size(t)),'k--'), ylim([-1.1 1.1])\n",
    "xlabel('t [sec]'); \n",
    "ylabel('x(t)');"
   ]
  },
  {
   "cell_type": "code",
   "execution_count": null,
   "metadata": {
    "collapsed": true
   },
   "outputs": [],
   "source": [
    "%plot -s 560,420\n",
    "\n",
    "N = 20;\n",
    "n = 0:N-1;\n",
    "x = sin(2*pi/N*n);\n",
    "\n",
    "subplot(2,1,1);  plot(n,x), axis tight\n",
    "subplot(2,1,2);  stem(n,x), axis tight"
   ]
  },
  {
   "cell_type": "code",
   "execution_count": null,
   "metadata": {
    "collapsed": true
   },
   "outputs": [],
   "source": [
    "%plot -s 560,300\n",
    "\n",
    "plot(n,x,'k--'), hold on\n",
    "stem(n,x,'b','filled','markersize',4), hold off\n",
    "ylim([-1.1 1.1])"
   ]
  },
  {
   "cell_type": "markdown",
   "metadata": {},
   "source": [
    "## 1.2 Plotting Complex Signals\n",
    "\n",
    "\n",
    "\n",
    "- Rectangular Form\n",
    "$x[n] = Re\\{x[n]\\} + j\\;Im\\{x[n]\\} \\in \\mathbb{C}$\n",
    "\n",
    "실수부분 허수부분 나눠서 플랏\n",
    "\n",
    "For example,\n",
    "\n",
    "$$x[n] = e^{-\\frac{n}{N}}e^{j\\frac{2\\pi}{N} n}$$\n"
   ]
  },
  {
   "cell_type": "code",
   "execution_count": null,
   "metadata": {
    "collapsed": true
   },
   "outputs": [],
   "source": [
    "%% real and imag parts\n",
    "N = 20;\n",
    "n = 0:2*N-1;\n",
    "x = exp(-n/N).*exp(1j*2*pi/N*n);"
   ]
  },
  {
   "cell_type": "code",
   "execution_count": null,
   "metadata": {
    "collapsed": true
   },
   "outputs": [],
   "source": [
    "%plot -s 560,350\n",
    "\n",
    "subplot(2,1,1);     stem(n,real(x),'markersize',4), ylabel('real')\n",
    "subplot(2,1,2);     stem(n,imag(x),'markersize',4), ylabel('imag'), xlabel('n')"
   ]
  },
  {
   "cell_type": "code",
   "execution_count": null,
   "metadata": {
    "collapsed": true
   },
   "outputs": [],
   "source": [
    "%plot -s 560,420\n",
    "plot3(n,real(x),imag(x),'o','markersize',4)\n",
    "xlabel('n'), ylabel('real'), zlabel('imag')\n",
    "grid on"
   ]
  },
  {
   "cell_type": "markdown",
   "metadata": {},
   "source": [
    "- Polar Form\n",
    "$ x[n] = \\lvert x[n]\\lvert \\, e^{j\\angle x[n]} \\in \\mathbb{C}$\n",
    "\n",
    "magnitude 와 phase 나눠서 플랏\n",
    "\n",
    "For same example,\n",
    "\n",
    "$$x[n] = e^{-\\frac{n}{N}}e^{j\\frac{2\\pi}{N} n}$$\n"
   ]
  },
  {
   "cell_type": "code",
   "execution_count": null,
   "metadata": {
    "collapsed": true
   },
   "outputs": [],
   "source": [
    "%% real and imag parts\n",
    "N = 20;\n",
    "n = 0:2*N-1;\n",
    "x = exp(-n/N).*exp(1j*2*pi/N*n);"
   ]
  },
  {
   "cell_type": "code",
   "execution_count": null,
   "metadata": {
    "collapsed": true
   },
   "outputs": [],
   "source": [
    "%plot -s 560,420\n",
    "%% magnitude and phase\n",
    "subplot(2,1,1);     stem(n,abs(x),'markersize',3), ylabel('amplitude')\n",
    "subplot(2,1,2);     stem(n,(phase(x)),'markersize',3), ylabel('phase'), xlabel('n')"
   ]
  },
  {
   "cell_type": "code",
   "execution_count": null,
   "metadata": {
    "collapsed": true
   },
   "outputs": [],
   "source": [
    "% see the difference between 'phase' and 'angle'\n",
    "subplot(2,1,1);     stem(n,phase(x),'markersize',3), ylabel('phase')\n",
    "subplot(2,1,2);     stem(n,angle(x),'markersize',3), ylabel('angle'), xlabel('n')"
   ]
  },
  {
   "cell_type": "code",
   "execution_count": null,
   "metadata": {
    "collapsed": true
   },
   "outputs": [],
   "source": [
    "%% polar coordinate\n",
    "polar(angle(x),abs(x),'o')      % theta in radian"
   ]
  },
  {
   "cell_type": "markdown",
   "metadata": {},
   "source": [
    "# 2. Signal Properties\n",
    "\n",
    "## 2.1 Periodic signals \n",
    "\n",
    "__Definition__ : A discrite-time signal is periodic if it repeats with period $\\, N \\in \\mathbb{Z}$\n",
    "\n",
    "$x[n+mN] = x[n] \\quad \\forall m \\in \\mathbb{Z}$"
   ]
  },
  {
   "cell_type": "markdown",
   "metadata": {},
   "source": [
    "## 2.2 Causal Signals \n",
    "\n",
    "__Definition__ : A signal $x[n]$ is __causal__ if $x[n]=0$ for all $n < 0$."
   ]
  },
  {
   "cell_type": "markdown",
   "metadata": {},
   "source": [
    "## 2.3 Even Signals\n",
    "\n",
    "__Definition__ : A real signal $x[n]$ is __even__ if $x[-n] = x[n]$."
   ]
  },
  {
   "cell_type": "markdown",
   "metadata": {},
   "source": [
    "## 2.4 Odd Signals \n",
    "\n",
    "__Definition__ : A real signal $x[n]$ is odd if $x[-n] = -x[n]$."
   ]
  },
  {
   "cell_type": "markdown",
   "metadata": {},
   "source": [
    "## 2.5 Even + Odd Signal Decomposition\n",
    "\n"
   ]
  },
  {
   "cell_type": "markdown",
   "metadata": {},
   "source": [
    "# Key Test Signals\n",
    "\n",
    "__Definition__ : The __delta function__(aka unit impulse) $ \\quad \\delta[n] = \\begin{cases} 1 \\quad n = 0\\\\0 \\quad \\text{otherwise}\\end{cases}$\n"
   ]
  },
  {
   "cell_type": "markdown",
   "metadata": {},
   "source": [
    "__Definition__ : The __unit step__ $\\quad u[n] = \\begin{cases} 1 \\quad n \\geq 0\\\\0 \\quad n < 0\\end{cases}$"
   ]
  },
  {
   "cell_type": "markdown",
   "metadata": {},
   "source": [
    "# 3. Sinusoids\n",
    "\n",
    "## 3.1 Real and Complex Sinusoids\n",
    "<img src=\"Rising_circular.gif\",width=300,height=300>\n",
    "$ e ^ {j(\\omega n+\\phi)} = \\cos (\\omega n + \\phi) + j \\sin (\\omega n + \\phi)$\n",
    "\n",
    "- <font color='blue'>Real part</font> ($\\cos$ term) is the projection onto the $Re\\{\\}$ axis\n",
    "\n",
    "- <font color='red'>Imaginary part</font> ($\\sin$ term) is the projection onto the $Im\\{\\}$ axis"
   ]
  },
  {
   "cell_type": "markdown",
   "metadata": {},
   "source": [
    "## 3.2 Weird Sinusoid Properties\n",
    "### 3.2.1 Aliasing\n",
    "\n",
    "In descrete signal, There is identical signals with different frequency.\n",
    "\n",
    "$x_1[n] = e^{j((\\omega+2\\pi)n+\\phi)} = e^{j(\\omega n+\\phi)+j2\\pi n} = e^{j(\\omega n+\\phi)}e^{j2\\pi n} = e^{j(\\omega n+\\phi)} = x_2[n]$\n",
    "\n",
    "Any integer multiple of $\\,2\\pi$ will do\n",
    "$x_3[n] = e^{j((\\omega+2\\pi m)n+\\phi)}, \\, m \\in \\mathbb{Z}$"
   ]
  },
  {
   "cell_type": "code",
   "execution_count": null,
   "metadata": {
    "collapsed": true
   },
   "outputs": [],
   "source": [
    "N = 15;\n",
    "k = 1;\n",
    "n = [1:N-1];\n",
    "\n",
    "for i = 1:N-1\n",
    "xn(i) = cos(2*pi*k*i/N);\n",
    "xn2(i) = cos((2*pi*k/N + 2*pi)*i);\n",
    "end\n",
    "\n",
    "subplot(2,1,1) ,stem (n,xn)\n",
    "subplot(2,1,2) ,stem(n,xn2)"
   ]
  },
  {
   "cell_type": "markdown",
   "metadata": {},
   "source": [
    "### 3.2.2 Periodicity\n",
    "\n",
    "Consider $x_1[n] = e^{j(\\omega n+\\phi)} $ with frequency $\\omega = \\frac{2\\pi k}{N}, \\quad k,N \\in \\mathbb{Z}$ \n",
    "\n",
    "$x_1$ is periodic with period N, not 작은 꿀렁\n",
    "\n",
    "$x_1[n + N] = e^{j(\\omega (n+N)+\\phi)} =  e^{j(\\omega n+\\omega N+\\phi)} =  e^{j(\\omega n+\\phi)}e^{j(\\omega N)} = e^{j(\\omega n+\\phi)}e^{j(\\frac{2 \\pi k }{N}\\ N)} = x_1[n]$"
   ]
  },
  {
   "cell_type": "code",
   "execution_count": null,
   "metadata": {
    "collapsed": true
   },
   "outputs": [],
   "source": [
    "N = 7;\n",
    "\n",
    "for k = 1:N\n",
    "\n",
    "    t = linspace(0,2*pi*k,300);\n",
    "    x = cos(t);\n",
    "    n = linspace(0,2*pi*k,N);\n",
    "    xn = cos(n);\n",
    "\n",
    "    subplot(N,2,2*k-1)\n",
    "    plot(t,x), xlim([0,k*(N-1)]); hold on\n",
    "    stem(n,xn), xlim([0,k*(N-1)])\n",
    "    subplot(N,2,2*k)\n",
    "    stem(n,xn), xlim([0,k*(N-1)])\n",
    "end"
   ]
  },
  {
   "cell_type": "markdown",
   "metadata": {},
   "source": [
    "# 4. Signal and Vectors\n",
    "\n",
    "## 4.1 Vector Space\n",
    "\n",
    "## 4.2 Strength of a Vector"
   ]
  },
  {
   "cell_type": "markdown",
   "metadata": {},
   "source": [
    "### 4.2.1 2-Norm\n",
    "\n",
    "The __Euclidean length__, or __2-norm__, of a vector $x \\in \\mathbb{C}^N$ is given by\n",
    "\n",
    "$\\lVert x \\rVert_2 = \\sqrt{ \\sum \\limits_{n=0}^{N-1}{\\lvert x[n] \\rvert}^2}$\n",
    "\n",
    "The __energy__ of $x$ is given by $(\\lVert x \\rVert _2)^2 = \\lVert x \\rVert_2^2$"
   ]
  },
  {
   "cell_type": "markdown",
   "metadata": {},
   "source": [
    "### 4.2.2 p-Norm\n",
    "\n",
    "The $p$-__norm__ of a vector $x \\in \\mathbb{C}^N$ is given by\n",
    "\n",
    "$\\lVert x \\rVert_p = \\left( \\sum \\limits_{n=0}^{N-1}{\\lvert x[n] \\rvert }\\right)^{1/p}$\n"
   ]
  },
  {
   "cell_type": "markdown",
   "metadata": {},
   "source": [
    "### 4.2.3 $\\infty$-Norm\n",
    "\n",
    "The $\\infty$-__norm__ of a vector $x \\in \\mathbb{C} ^N$ is given by\n",
    "\n",
    "$\\lVert x \\rVert_\\infty = max \\, \\lvert \\, x[n] \\, \\rvert$ \n",
    "\n",
    "$\\lVert x \\rVert_\\infty$ measures the __peak value__ (of the magnitude)"
   ]
  },
  {
   "cell_type": "markdown",
   "metadata": {},
   "source": [
    "# 5. Inner Product\n",
    "\n",
    "## 5.1 Inner Product\n",
    "\n",
    "__Definition__: The __inner product__ (or dot product) between two vector $x,y \\in \\mathbb{C}^N$ is given by\n",
    "\n",
    "$\\langle x,y \\rangle = y^H x = \\sum \\limits_{n=0}^{N-1} x[n]\\, y[n]^*$\n",
    "\n",
    "- Inner product of a signal with itself\n",
    "\n",
    "$\\langle x,x \\rangle = \\sum \\limits_{n=0}^{N-1} x[n]\\, x[n]^* = \\sum \\limits_{n=0}^{N-1}{\\lvert x[n] \\rvert}^2 = \\lVert x \\rVert_2^2$\n",
    "\n",
    "- Orthogonal Vectors\n",
    "\n",
    "Two vectors x,y $\\in \\mathbb{C}^N$ are __orthogonal__ if \n",
    "\n",
    "$\\langle x,y \\rangle = 0$"
   ]
  },
  {
   "cell_type": "code",
   "execution_count": null,
   "metadata": {
    "collapsed": true
   },
   "outputs": [],
   "source": []
  }
 ],
 "metadata": {
  "anaconda-cloud": {},
  "kernelspec": {
   "display_name": "Python [Root]",
   "language": "python",
   "name": "Python [Root]"
  },
  "language_info": {
   "codemirror_mode": {
    "name": "ipython",
    "version": 3
   },
   "file_extension": ".py",
   "mimetype": "text/x-python",
   "name": "python",
   "nbconvert_exporter": "python",
   "pygments_lexer": "ipython3",
   "version": "3.5.2"
  }
 },
 "nbformat": 4,
 "nbformat_minor": 0
}
