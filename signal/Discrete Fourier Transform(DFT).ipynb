{
 "cells": [
  {
   "cell_type": "markdown",
   "metadata": {},
   "source": [
    "<font size = '6'><b>Discrete Fourier Transform(DFT)</b></font>\n",
    "\n",
    "# 1. Orthogonal Bases\n",
    "\n",
    "## 1.1 Basis \n",
    "\n",
    "__Definition__ : A __basis__ $\\{b_k\\}$ for a vector space $V$ is a collection of vectors from V that __linearly independent__ and __span__ $V$\n",
    "\n",
    "## 1.2 Basis Matrix\n",
    "\n",
    "Stack the basis vectors $b_k$ as columns\n",
    "\n",
    "$$ B \\,\\,=\\,\\, [b_0 \\,| \\,b_1 \\,| \\,b_2 \\,|\\, \\cdots \\,| \\,b_{N-1}]$$\n",
    "\n",
    "Using this matrix, We can now write a linear combination of basis elements as the matrix/vector product\n",
    "\n",
    "$$ x \\, = \\, B\\, a\\, =\\, a_0 b_0 + a_1 b_1 +\\, \\cdots\\, + a_{N-1} b_{N-1} \\, =\\,  \\sum_{k=0}^{N-1} a_k b_k \\, =\\, [b_0\\, |\\, b_1\\, |\\, \\cdots \\, |\\, b_{N-1}]\\begin{bmatrix}\n",
    "a_0\\\\\n",
    "a_1\\\\\n",
    "\\vdots\\\\\n",
    "a_{N-1}\n",
    "\\end{bmatrix} $$"
   ]
  },
  {
   "cell_type": "markdown",
   "metadata": {},
   "source": [
    "## 1.3 Orthogonal and Orthonormal Basis\n",
    "\n",
    "__Definition__ : An __orthogonal basis__ $\\{b_k\\}_{k=0}^{N-1}$ for a vector space V is a basis whose elements are mutually orthogonal\n",
    "$$\\langle b_k,b_l\\rangle \\, =\\, 0\\, ,\\quad k\\, \\neq\\, l$$\n",
    "\n",
    "__Definition__ : An __orthonormal basis__$\\{b_k\\}_{k=0}^{N-1}$ for a vector space V is a basis whose elements are mutually orthogonal and normalized (in the 2-norm)\n",
    "\n",
    "$$\\langle b_k,b_l\\rangle \\, =\\, 0\\, ,\\quad k\\, \\neq\\, l$$\n",
    "\n",
    "$$\\| b_k\\|_2 \\, = \\, 1$$"
   ]
  },
  {
   "cell_type": "markdown",
   "metadata": {},
   "source": [
    "# 2. Eigenanalysis\n",
    "\n",
    "## 2.1 Eigenvectors and Eigenvalues\n",
    "\n",
    "__Definition__ : Ginven a square matrix $A$, the vector $v$ is an __eigenvector__ with __eigenvalue__ $\\lambda$ if\n",
    "\n",
    "$$Av\\, = \\, \\lambda v$$\n",
    "\n",
    "An N x N matrix A has N eigenvectors and N eigenvalues\n",
    "\n",
    "Using this, we can find this equation\n",
    "\n",
    "$$AV\\, =\\, V\\Lambda$$\n",
    "\n",
    "\n",
    "$$V\\, = \\, [v_0|v_1|\\cdots |v_{N-1}], \\, \\Lambda = \\begin{bmatrix}\n",
    "\\lambda_0 & & & \\\\\n",
    " & \\lambda_1 & & \\\\\n",
    " & & \\ddots & \\\\\n",
    " & & &\\lambda_{N-1}\n",
    "\\end{bmatrix}$$\n",
    "\n",
    "We can change to\n",
    "\n",
    "$$A = V\\Lambda V^{-1} \\Rightarrow \\, Eigendecomposition$$\n",
    "$$V^{-1} AV\\, = \\, \\Lambda$$\n"
   ]
  },
  {
   "cell_type": "markdown",
   "metadata": {},
   "source": [
    "## 2.2 Harmonic Sinusoids are Eigenvectors of LTI Systems\n",
    "\n",
    "<img src=\"LTI eigenvector.JPG\",width=300,height=300>\n",
    "\n",
    "$$\\begin{align*} s_k[n]\\, \\ast h[n] \\, &= \\, \\sum \\limits_{m=0}^{N-1} s_k[(n-m)_N]\\, h[m]\\, = \\, \\sum \\limits_{m=0}^{N-1} \\frac{e^{j\\frac{2 \\pi}{N}k(n-m)_N}}{\\sqrt{N}}\\, h[m]\\\\ \n",
    "& = \\, \\sum \\limits_{m=0}^{N-1}\\frac{e^{j\\frac{2 \\pi}{N}k(n-m)}}{\\sqrt{N}}\\, h[m]\\, =\\, \\sum \\limits_{m=0}^{N-1}\\frac{e^{j\\frac{2 \\pi}{N}kn}}{\\sqrt{N}}e^{-j\\frac{2 \\pi}{N}km}\\, \\, h[m]\\\\\n",
    "& = \\, (\\sum \\limits_{m=0}^{N-1}e^{-j\\frac{2 \\pi}{N}km}\\, h[m]\\,)\\frac{e^{j\\frac{2 \\pi}{N}kn}}{\\sqrt{N}} \\, = \\, \\lambda _k \\, s_k[n]\n",
    "\\end{align*}$$"
   ]
  },
  {
   "cell_type": "markdown",
   "metadata": {},
   "source": [
    "## 2.3 Eigenvalues of LTI Systems\n",
    "\n",
    "$$\\lambda _K \\, =\\, \\sum\\limits_{m=0}^{N-1} h[n]\\, e^{-j\\frac{2\\pi}{N}kn} \\, =\\, \\langle h,s_k\\rangle \\, =\\, H_u[k]$$\n",
    "\n",
    "$\\lambda _k$ means $h[n]$ 안에 몇개 의 $s_k$가 들어있는지, similar라고 표현"
   ]
  },
  {
   "cell_type": "markdown",
   "metadata": {},
   "source": [
    "## 2.4 Eigendecomposition and Diagonalization of a LTI System\n",
    "\n",
    "H is LTI System matrix\n",
    "\n",
    "S is harmonic sinusoid eigenvectors matrix\n",
    "\n",
    "$\\Lambda$ is eigenvalue diagonal matrix\n",
    "\n",
    "$$H \\,=\\, S\\Lambda S^H$$\n",
    "\n",
    "<img src=\"LTI eigendecom.JPG\",width=800,height=800>"
   ]
  },
  {
   "cell_type": "markdown",
   "metadata": {},
   "source": [
    "# 3. Discrete Fourier Transform (DFT)\n",
    "\n",
    "## 3.1 Harmonic Sinusoids are an Orthonormal Basis\n",
    "\n",
    "$$s_k[n] \\, =\\, \\frac{e^{j\\frac{2 \\pi}{N}kn}}{\\sqrt{N}}$$\n",
    "\n",
    "$$\\langle s_k,s_l\\rangle \\, =\\, 0, \\quad k\\, \\neq l\\quad \\quad \\lVert s_k \\rVert_2\\, =\\, 1$$\n"
   ]
  },
  {
   "cell_type": "markdown",
   "metadata": {},
   "source": [
    "## 3.2 DFT & Inverse DFT\n",
    "\n",
    "- DFT \n",
    "$$X\\, =\\, S^Hx$$\n",
    "\n",
    "$$X[k]\\, =\\, \\langle x,s_k\\rangle\\, =\\, \\sum \\limits_{k=0}^{N-1} X[k]\\,\\frac{e^{-j\\frac{2 \\pi}{N}kn}}{\\sqrt{N}}$$\n",
    "\n",
    "It is finding how many certain frequncy\n",
    "\n",
    "- Inverse DFT\n",
    "$$x\\, =\\, SX$$\n",
    "\n",
    "$$x[n]\\, =\\, \\sum \\limits_{k=0}^{N-1}X[k]\\, \\frac{e^{j\\frac{2 \\pi}{N}kn}}{\\sqrt{N}}$$\n",
    "\n",
    "It is returing to time domain"
   ]
  },
  {
   "cell_type": "markdown",
   "metadata": {},
   "source": [
    "주파수도메인 시간도메인 그래프"
   ]
  },
  {
   "cell_type": "markdown",
   "metadata": {},
   "source": []
  }
 ],
 "metadata": {
  "anaconda-cloud": {},
  "kernelspec": {
   "display_name": "Python [Root]",
   "language": "python",
   "name": "Python [Root]"
  },
  "language_info": {
   "codemirror_mode": {
    "name": "ipython",
    "version": 3
   },
   "file_extension": ".py",
   "mimetype": "text/x-python",
   "name": "python",
   "nbconvert_exporter": "python",
   "pygments_lexer": "ipython3",
   "version": "3.5.2"
  }
 },
 "nbformat": 4,
 "nbformat_minor": 0
}
