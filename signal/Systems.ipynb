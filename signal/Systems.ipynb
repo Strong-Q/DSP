{
 "cells": [
  {
   "cell_type": "markdown",
   "metadata": {},
   "source": [
    "<font size = '6'><b>Systems</b></font>"
   ]
  },
  {
   "cell_type": "markdown",
   "metadata": {},
   "source": [
    "# 1. Systems\n",
    "\n",
    "## 1.1. Systems\n",
    "\n",
    "__Definition__ : A discrete-time system $\\mathcal{H}$ is a transformation (a rule or formula) that maps a discrete-time input signal $x$ into a discrete-time output signal $y$\n",
    "\n",
    " $$y = \\mathcal{H}\\{x\\}$$\n",
    "<img src=\"system.JPG\",width=300,height=300>"
   ]
  },
  {
   "cell_type": "markdown",
   "metadata": {
    "collapsed": true
   },
   "source": [
    "__System Examples__\n",
    "\n",
    "- Identity $$y[n] = x[n] \\quad \\forall n$$\n",
    "- Scaling $$y[n] = 2\\,x[n] \\quad \\forall n$$\n",
    "- Offset $$y[n] = x[n]\\, + \\,2 \\quad \\forall n$$\n",
    "- Square signal $$y[n] = (x[n])^2 \\quad \\forall n$$\n",
    "- Shift $$y[n] = x[n + 2] \\quad \\forall n$$\n",
    "- Decimate $$y[n] = x[2n] \\quad \\forall n$$\n",
    "- Squre time $$y[n] = x[n^2] \\quad \\forall n$$"
   ]
  },
  {
   "cell_type": "markdown",
   "metadata": {
    "collapsed": true
   },
   "source": [
    "## 1.2 Linear Systems\n",
    "\n",
    "__Definition__ : A system $\\mathcal{H}$ is (zero_state) __linear__ if it satisfies the following two properties:\n",
    "\n",
    "1. __Scaling__\n",
    "$$\\mathcal{H}\\{ \\alpha x \\} = \\alpha \\mathcal{H} \\quad \\forall \\, \\alpha \\in \\mathbb{C}$$\n",
    "<img src=\"Scaling.JPG\",width=500,height=500>\n",
    "\n",
    "2. __Additivity__\n",
    "$$ If\\,\\, y_1 = \\mathcal{H} \\{ x_1 \\} \\,\\, \\text{and}\\,\\, y_2 = \\mathcal{H} \\{ x_2 \\} \\, \\, \\text{then}$$\n",
    "$$\\mathcal{H} \\{x_1 + x_2\\} = y_1 + y_2$$\n",
    "<img src=\"Additivity.JPG\",width=500,height=500>"
   ]
  },
  {
   "cell_type": "markdown",
   "metadata": {},
   "source": [
    "## 1.3 Time-Invariant Systems\n",
    "\n",
    "__Definition__ : A system $\\mathcal{H}$ processing infinite-length signals is __time-invariant__ (shift-invariant) if a time shift of the input signal creates a corresponding time shift in the output signal\n",
    "<img src=\"TI systems.JPG\",width=500,height=500>\n",
    "\n",
    "We usally consider LTI systems."
   ]
  },
  {
   "cell_type": "markdown",
   "metadata": {},
   "source": [
    "__System Examples__\n",
    "\n",
    "$\n",
    "\\begin{array}\n",
    "-- \\text{Identity} &y[n] = x[n] \\quad \\forall n &\\text{Linear} &\\text{Time Invariant}\\\\\n",
    "- \\text{Scaling} &y[n] = 2\\,x[n] \\quad \\forall n & \\text{Linear} &\\text{Time Invariant}\\\\\n",
    "- \\text{Offset} &y[n] = x[n]\\, + \\,2 \\quad \\forall n &\\text{Non Linear} &\\text{Time Invariant}\\\\\n",
    "- \\text{Square signal} &y[n] = (x[n])^2 \\quad \\forall n &\\text{Non Linear} &\\text{Time Invariant}\\\\\n",
    "- \\text{Shift} &y[n] = x[n + 2] \\quad \\forall n &\\text{Linear} &\\text{Time Invariant}\\\\\n",
    "- \\text{Decimate} &y[n] = x[2n] \\quad \\forall n &\\text{Linear} &\\text{Time Variant}\\\\\n",
    "- \\text{Squre time} &y[n] = x[n^2] \\quad \\forall n &\\text{Linear} &\\text{Time Variant}\\\\\n",
    "\\end{array}\n",
    "$"
   ]
  },
  {
   "cell_type": "markdown",
   "metadata": {},
   "source": [
    "# 2. Convolution\n",
    "\n",
    "## 2.1 Convolution\n",
    "\n",
    "__Definition__ : __Convolution__ is defined as the integral of the product of the two functions after one is reversed and shifted\n",
    "\n",
    "$$y[n] = \\sum \\limits_{m=-\\infty}^{\\infty} h[n - m]\\,x[m] = x[n]*h[n]$$\n",
    "\n",
    "Output $y[n]$ came out by convolution of input $x[n]$ and system $h[n]$ "
   ]
  },
  {
   "cell_type": "markdown",
   "metadata": {},
   "source": [
    "## 2.2 Properties of Convolution\n",
    "\n",
    "- Commutative\n",
    "$$x*h = h*x$$\n",
    "$$y[n] = \\sum \\limits_{m=-\\infty}^{\\infty} h[n - m]\\,x[m] =x[n]*h[n]$$\n",
    "\n",
    "$$k = n -m \\, \\Rightarrow \\, m = n - k$$\n",
    "\n",
    "$$y[n] = \\sum \\limits_{k=-\\infty}^{\\infty} h[n]\\,x[n - k] =h[n]*x[n]$$"
   ]
  },
  {
   "cell_type": "markdown",
   "metadata": {},
   "source": [
    "## 2.3 Toeplitz Matrices\n",
    "For Infinite-Length Signals\n",
    "\n",
    "$$y[n] = x[n]*h[n] = \\sum \\limits_{m=-\\infty}^{\\infty} h[n - m]\\,x[m] $$\n",
    "$$ \\cdots \\,h[n+2]\\,x[-2] + h[n+1]\\,x[-1] + h[n]\\,x[0] + h[n-1]\\,x[1] + h[n-2]\\,x[2]\\,  \\cdots $$\n",
    "\n",
    "$$\\text{It is innerproduct of h vectors and x}$$\n",
    "\n",
    "$$y[n] = \\begin{bmatrix}\n",
    "\\cdots & \\bracevert & \\bracevert & \\bracevert & \\bracevert & \\bracevert & \\cdots\\\\\n",
    "\\cdots & h[n+2] & h[n+1] & h[n] & h[n-1] & h[n-2]\\ & \\cdots\\\\\n",
    "\\cdots & \\bracevert & \\bracevert & \\bracevert & \\bracevert & \\bracevert & \\cdots\n",
    "\\end{bmatrix}\n",
    "\\begin{bmatrix}\n",
    "\\vdots\\\\\n",
    "x[-2]\\\\\n",
    "x[-1]\\\\\n",
    "x[0]\\\\\n",
    "x[1]\\\\\n",
    "x[2]\\\\\n",
    "\\vdots\n",
    "\\end{bmatrix}\\\\ = H x\n",
    "$$\n",
    "\n",
    "$$\\text{Convolution is product of matrix H and x}$$\n",
    "<img src=\"toeplitz.JPG\",width=500,height=500>\n",
    "\n",
    "$$h = h[0]$$"
   ]
  },
  {
   "cell_type": "markdown",
   "metadata": {},
   "source": [
    "# 3. Impulse Response\n",
    "\n",
    "__Delta function__ (impulse) : $\\delta[n] = \\begin{cases}\n",
    "1 \\quad n = 0\\\\\n",
    "0 \\quad \\text{otherwise}\\\\\n",
    "\\end{cases}$\n",
    "\n",
    "<img src=\"impulse response.JPG\",width=700,height=700>\n",
    "\n",
    "Output of system and __Delta function__ (impulse) is $h$\n",
    "\n",
    "So, We call $h$ the __impulse response__ of the system"
   ]
  }
 ],
 "metadata": {
  "anaconda-cloud": {},
  "kernelspec": {
   "display_name": "Python [Root]",
   "language": "python",
   "name": "Python [Root]"
  },
  "language_info": {
   "codemirror_mode": {
    "name": "ipython",
    "version": 3
   },
   "file_extension": ".py",
   "mimetype": "text/x-python",
   "name": "python",
   "nbconvert_exporter": "python",
   "pygments_lexer": "ipython3",
   "version": "3.5.2"
  }
 },
 "nbformat": 4,
 "nbformat_minor": 0
}
